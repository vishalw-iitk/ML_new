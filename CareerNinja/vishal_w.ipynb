{
 "cells": [
  {
   "cell_type": "markdown",
   "metadata": {},
   "source": [
    "### Approach to the solution\n",
    "\n",
    "##### 1. Which ML/DL model architecture you used and why?\n",
    "- I am using webscrapping by utilising the yahoo's search engine to get the most relevant articles for the given query.\n",
    "- I have used LDA i.e. <b>Latent Dirichlet Model</b> to train my model primarily because it is currently one of the most popular topic modelling technique.\n",
    "- There are other techniques as well such Term Frequency and Inverse Document Frequency, NonNegative Matrix Factorization techniques which I haven't used for now.\n",
    "\n",
    "##### 2. How would you ensure the scalability of your solution?\n",
    "- For the top 5 articles, we most probably deal with less dataset. Incase we start dealing more more and more articles, our dataset increases and hence hence according to me Cloud solution is best. We can use multi-GPU power of DataFlow pipeline to create our compressed dataset in the form of tfrecords and then deploy over AI Platform. This Multi-GPU approach makes this solution highly scalable.\n",
    "- And if we talk about the scalability of the number of articles then we have to make sure that we are able to navigate to the next pages(eg: yahoo's next pages in our case). Once we achieve this we become fairly confident that even on increasing the number of articles we don't get limited by the articles that we can access.\n",
    "\n",
    "##### 3. Is there a need for any dataset? If yes then how much data is sufficient to train the model in order to get the required results?\n",
    "- Yes. We are scrapping the top query relevant articles from the web. So, the result of this webscrapping would be multiple web articles out of which we have to ensure few parameters as follows:\n",
    "    - articles text size\n",
    "    - number of unique words in each article\n",
    "    - total vocabulary size from all the articles\n",
    "    - Permission to scrap the website\n",
    "- Once we make sure that we satisfy the above parameters then we are good to select our top five required articles.\n",
    "- Dataset with unqiue words of more than 1000 should be suffiecient to get the required results.\n",
    "\n",
    "##### 4. Is there a need to create manual datasets, if yes then what parameters and sample size did you consider to create a dataset? \n",
    "- No.\n",
    "- If we use potentially strong search engine then we will always get enough number of articles.\n",
    "- Even if the articles on the first page are not sufficient, still we can move over to the next page to webscrap further articles.\n",
    "\n",
    "##### 5. Is your model and dataset generalized enough for different domains of the use cases, How?\n",
    "- Yes. As discussed in the point two, I have considered the parameters sensitive for the possible test cases.\n",
    "- We can further improve it by getting accessible to the articles over the next pages. The reason I haven't implemented this feature is because we are dealing with only 5 articles so I didn't find the need for it in our usecase.\n",
    "- Also the model I have chosed is LDA which is currently the most popular in topic modelling.\n",
    "\n",
    "##### 6. How would you train, test and deploy your model to production? \n",
    "- One of the production effiecint technique which I know is by using GCP's DataFlow Pipeline and AI Platform's tf.estimator API both of which allows us the use of multiple GPUs.\n",
    "- Using DataFlow pipeline we can have even terabytes of data in our articles which will be converted into tfrecords and get stored on the cloud storage.\n",
    "- Once the tfrecords are obtained, we can use AI Platform which allows us to perform 3 operations on the dataset anytime. i.e. i) training ii) evaluation iii) prediction\n",
    "- On AI Platform, we can deploy our model and then our code will run in the prediction mode as per the tf estimator API.\n",
    "\n",
    "##### 7. How would you perform hyperparameter tuning on your model to improve accuracy?\n",
    "- I have provided the solution with the visualization, I have observed that the topics don't get overlap mostly when I set 3 topics.\n",
    "- Possible reason for this could be a less dataset that is getting scrapped becasue we are dealling with only top 5 articles.\n",
    "- Had been the case that we were using more articles, we would have got the freedom to get the results from even more topics.\n",
    "- Hyperparameters : num of topics, number of unqiue words required, article.text length\n",
    "- Even we can go for the other search engines as well which will just require more work right from getting the html elements.\n",
    "\n",
    "##### 8. Anything else you want to let us know about your approach.\n",
    "- The current approach looks fairly appealing to me because the differences in the results are direclty visible to me.\n",
    "- However there is certain overlaps in the topics as we go on increasing the number of topic becasue we are only using the dataset form 5 articles.\n",
    "- Still this LDA approach can be utilsed for even one topic which will atleast provide us with the most relevant keywords. However this model is fairly working amazing even with topic numbers 3 and even sometimes upto 5 even for such small dataset."
   ]
  },
  {
   "cell_type": "markdown",
   "metadata": {},
   "source": [
    "##### <hr>\n",
    "### Model/Code on GitHub repo or Colab Notebook with the necessary documentation describing the model functioning.\n",
    "- Code is push on my github repo on this url : https://github.com/vishalw-iitk/ML_new/blob/master/CareerNinja/vishal_w.ipynb"
   ]
  },
  {
   "cell_type": "markdown",
   "metadata": {},
   "source": [
    "##### <hr>\n",
    "### Only Approach to generate different types of questions (short answer type, MCQs, true/false, fill in the blanks, long answer type, etc.) for that same article.\n",
    "- We can generate questions using <b>allennlp</b> for all the articles\n",
    "- Or this is one of the theoritical approach I know currently:\n",
    "    - Identify keywords from the text and use them as answers to the questions.\n",
    "    - Replace the answer from the sentence with blank space and use it as the base for the question.\n",
    "    - Transform the sentence with a blank space for answer to a more question-like sentence.\n",
    "    - Generate distractors, words that are similar to the answer, as incorrect answers."
   ]
  },
  {
   "cell_type": "code",
   "execution_count": 1,
   "metadata": {},
   "outputs": [],
   "source": [
    "import re # To use regex operations\n",
    "from bs4 import BeautifulSoup #To parse response text using the html parser\n",
    "import requests #To make request from the web"
   ]
  },
  {
   "cell_type": "code",
   "execution_count": 2,
   "metadata": {},
   "outputs": [],
   "source": [
    "import nltk\n",
    "nltk.download('stopwords', quiet=True) #stopwords\n",
    "nltk.download('wordnet', quiet=True) #\n",
    "from newspaper import Article #To read the content of a webpage"
   ]
  },
  {
   "cell_type": "code",
   "execution_count": 3,
   "metadata": {},
   "outputs": [],
   "source": [
    "import gensim #Gensim is an open-source library for unsupervised topic modeling and natural language processing\n",
    "from gensim.models.ldamulticore import LdaMulticore # for multipreprocessing\n",
    "from gensim import corpora, models #\n",
    "from gensim.corpora import Dictionary\n",
    "import pyLDAvis.gensim #for visualization\n",
    "\n",
    "from nltk.corpus import stopwords\n",
    "import string\n",
    "from nltk.stem.wordnet import WordNetLemmatizer\n",
    "\n",
    "\n",
    "# from itertools import chain"
   ]
  },
  {
   "cell_type": "code",
   "execution_count": 4,
   "metadata": {},
   "outputs": [
    {
     "name": "stderr",
     "output_type": "stream",
     "text": [
      "c:\\users\\vishal waghmare\\3d objects\\vscode_codes\\github\\pandas\\careerninja\\careerninja\\lib\\site-packages\\ipykernel\\ipkernel.py:283: DeprecationWarning: `should_run_async` will not call `transform_cell` automatically in the future. Please pass the result to `transformed_cell` argument and any exception that happen during thetransform in `preprocessing_exc_tuple` in IPython 7.17 and above.\n",
      "  and should_run_async(code)\n"
     ]
    }
   ],
   "source": [
    "import warnings\n",
    "warnings.simplefilter(\"ignore\")\n",
    "warnings.filterwarnings('ignore')"
   ]
  },
  {
   "cell_type": "code",
   "execution_count": 5,
   "metadata": {},
   "outputs": [],
   "source": [
    "# We are using Yahoo Search Engine for WebScrapping\n",
    "template = 'https://in.search.yahoo.com/search;_ylt=AwrwIQa9FFJgmlQA7hq7HAx.;_ylu=Y29sbwNzZzMEcG9zAzEEdnRpZAMEc2VjA3BpdnM-?p={}'"
   ]
  },
  {
   "cell_type": "code",
   "execution_count": 6,
   "metadata": {},
   "outputs": [
    {
     "name": "stdout",
     "output_type": "stream",
     "text": [
      "Enter your main query : horse in the zoo of england\n"
     ]
    }
   ],
   "source": [
    "query = input(\"Enter your main query : \")\n",
    "url = template.format(query)"
   ]
  },
  {
   "cell_type": "code",
   "execution_count": 7,
   "metadata": {},
   "outputs": [],
   "source": [
    "# To make the get request, we first set the request headers\n",
    "headers = {\n",
    "    'accept': '*/*',\n",
    "    'accept-encoding': 'gzip, deflate, br',\n",
    "    'accept-language': 'en-US,en;q=0.9',\n",
    "    'referer': 'https://www.google.com',\n",
    "    'user-agent': 'Mozilla/5.0 (Windows NT 10.0; Win64; x64) AppleWebKit/537.36 (KHTML, like Gecko) Chrome/89.0.4389.82 Safari/537.36'\n",
    "}"
   ]
  },
  {
   "cell_type": "code",
   "execution_count": 8,
   "metadata": {},
   "outputs": [],
   "source": [
    "response = requests.get(url, headers=headers)"
   ]
  },
  {
   "cell_type": "code",
   "execution_count": 9,
   "metadata": {},
   "outputs": [],
   "source": [
    "soup = BeautifulSoup(response.text, 'html.parser')"
   ]
  },
  {
   "cell_type": "code",
   "execution_count": 10,
   "metadata": {},
   "outputs": [],
   "source": [
    "# cards = soup.find_all('div', 'NewsArticle')\n",
    "cards = soup.find_all('div', 'algo')"
   ]
  },
  {
   "cell_type": "code",
   "execution_count": 11,
   "metadata": {},
   "outputs": [
    {
     "data": {
      "text/plain": [
       "9"
      ]
     },
     "execution_count": 11,
     "metadata": {},
     "output_type": "execute_result"
    }
   ],
   "source": [
    "# All the articles result currently in the html form\n",
    "len(cards)"
   ]
  },
  {
   "cell_type": "code",
   "execution_count": 12,
   "metadata": {},
   "outputs": [],
   "source": [
    "#Function to get the headline of the article and its url\n",
    "def get_article(card):\n",
    "    '''Extract article information from the raw html'''\n",
    "#     headline = card.find('h4', 's-title').text\n",
    "    headline = card.find('h3', 'title').text\n",
    "    raw_link = card.find('a').get('href')\n",
    "    unquoted_link = requests.utils.unquote(raw_link)\n",
    "    pattern = re.compile(r'RU=(.+)\\/RK')\n",
    "    clean_link = re.search(pattern, unquoted_link).group(1)\n",
    "    article = [headline, clean_link]\n",
    "    return article"
   ]
  },
  {
   "cell_type": "code",
   "execution_count": 13,
   "metadata": {},
   "outputs": [],
   "source": [
    "# Storing the headline and url for every article on the first page in the articles list\n",
    "articles = []\n",
    "links = set()\n",
    "for card in cards:\n",
    "    article = get_article(card)\n",
    "    link = article[-1]\n",
    "    if not link in links:\n",
    "        links.add(link)\n",
    "        articles.append(article)"
   ]
  },
  {
   "cell_type": "code",
   "execution_count": 14,
   "metadata": {},
   "outputs": [],
   "source": [
    "stop = set(stopwords.words('english'))\n",
    "exclude = set(string.punctuation)\n",
    "lemma = WordNetLemmatizer()"
   ]
  },
  {
   "cell_type": "code",
   "execution_count": 15,
   "metadata": {},
   "outputs": [],
   "source": [
    "class top_article:\n",
    "    def __init__(self, article_name, article_link):\n",
    "        '''To set article name and article link for every article'''\n",
    "        self.article_name = article_name\n",
    "        self.article_link = article_link\n",
    "\n",
    "    def get_uncleaned_webcontent(self):\n",
    "        '''To get the cleaned web article from all the web articles'''\n",
    "        \n",
    "        article = Article(self.article_link)\n",
    "        \n",
    "        try :\n",
    "            article.download()\n",
    "            article.parse()\n",
    "            nltk.download('punkt', quiet = True)\n",
    "            article.nlp()\n",
    "            \n",
    "            if len(article.text) > 100:\n",
    "                '''Taking only the articles with total text length greater than 100'''\n",
    "                self.article_content = article.text\n",
    "            else:\n",
    "                self.article_content = \"It is invalid. Go for next\"\n",
    "            \n",
    "        except:\n",
    "            '''Exception if the article does not have permission to get scrapped'''\n",
    "            self.article_content = \"It is invalid. Go for next\"\n",
    "        \n",
    "        \n",
    "    def clean(self):\n",
    "        '''\n",
    "        Splitting the data\n",
    "        Removing the punctuations\n",
    "        Lemmatization : making sure that words like spectacle/spectacles are considered same\n",
    "        '''\n",
    "        stop_free = ' '.join([word for word in self.article_content.lower().split() if word not in stop])\n",
    "        punc_free = ''.join(ch for ch in stop_free if ch not in exclude)\n",
    "        normalized = ' '.join([lemma.lemmatize(word) for word in punc_free.split()])\n",
    "        self.article_cleaned =  normalized.split()"
   ]
  },
  {
   "cell_type": "code",
   "execution_count": 16,
   "metadata": {},
   "outputs": [],
   "source": [
    "def make_dictionary(bag_of_words):\n",
    "    '''Make a single dictionary of the words from top 5 articles'''\n",
    "    dictionary = corpora.Dictionary(bag_of_words)\n",
    "    return dictionary\n",
    "\n",
    "def make_doc_term_matrix(dictionary, bag_of_words):\n",
    "    '''\n",
    "    A matrix which stores the occurence and frequency of each word from the bag of words\n",
    "    As we have 5 articles, this matrix will have 5 rows\n",
    "    '''\n",
    "    doc_term_matrix = [dictionary.doc2bow(doc) for doc in bag_of_words]\n",
    "    return doc_term_matrix\n",
    "\n",
    "def build_lda_model(dictionary, doc_term_matrix, lda, num_topics):\n",
    "    '''Training the model by passing the hyperparameters'''\n",
    "    lda_model = lda(doc_term_matrix, num_topics = num_topics, id2word=dictionary, passes=50, minimum_probability=0)\n",
    "    return lda_model\n",
    "\n",
    "def print_topic_clusters(lda_model, num_topics):\n",
    "    '''\n",
    "    Print the clusters of selected number of topics\n",
    "    Each cluster shows the relevant keywords associated with that cluster using which we can determine the topic of that cluster\n",
    "    '''\n",
    "    print('\\033[1m')\n",
    "    print(\"\\nKeywords/Topics/Tags for the articles\\n\")\n",
    "    print('\\033[0m')\n",
    "    keywords_and_probs = lda_model.print_topics(num_topics=num_topics)\n",
    "    keywords_only = []\n",
    "    for i in keywords_and_probs:\n",
    "        '''Original output contains the probability along with the keywords. Here we are trying to extract only the keywords'''\n",
    "        keywords_only.append(re.findall(r'\"(.*?)\"', i[1]))\n",
    "    for i, cluster_keywords in enumerate(keywords_only):\n",
    "        '''We print the cluster number and the keywords associated with that cluster'''\n",
    "        print(\"Cluster\",i+1,cluster_keywords)\n",
    "\n",
    "def build_lda_display(lda_model, doc_term_matrix, dictionary):\n",
    "    '''Here we build the lda_display object which helps us to visualize our results'''\n",
    "    lda_display = pyLDAvis.gensim.prepare(lda_model, doc_term_matrix, dictionary, sort_topics = False, mds='mmds')\n",
    "    return lda_display"
   ]
  },
  {
   "cell_type": "code",
   "execution_count": 17,
   "metadata": {},
   "outputs": [
    {
     "name": "stdout",
     "output_type": "stream",
     "text": [
      "Enter the number of topics we want to get(recommended less than 5) :  4\n",
      "\n",
      "Please wait...\n",
      "\n",
      "Top 5 articles are :\n",
      "1. https://www.highlandwildlifepark.org.uk/animals-attractions/animals/przewalskis-wild-horse/\n",
      "2. https://www.discoveranimals.co.uk/news/rare-wild-horse-born-zsl-whipsnade-zoo/\n",
      "3. https://www.aol.co.uk/news/2020/04/29/wild-horse-once-declared-extinct-in-the-wild-born-at-closed-whip/\n",
      "4. https://uk.news.yahoo.com/wild-horse-once-declared-extinct-120725790.html\n",
      "5. http://www.falabellahorses.com/023-KILVERSTONE/KILVERSTONE.htm\n",
      "\n",
      "Building the clusters of topics....\n"
     ]
    },
    {
     "name": "stderr",
     "output_type": "stream",
     "text": [
      "WARNING:root:sklearn not present, switch to PCoA\n"
     ]
    },
    {
     "name": "stdout",
     "output_type": "stream",
     "text": [
      "\u001b[1m\n",
      "\n",
      "Keywords/Topics/Tags for the articles\n",
      "\n",
      "\u001b[0m\n",
      "Cluster 1 ['falabella', 'kilverstone', 'photo', 'fisher', 'horse', 'lady', 'lord', 'wildlife', 'imported', 'zoo']\n",
      "Cluster 2 ['public', 'wild', 'work', 'przewalski’s', 'extinct', 'named', 'help', 'reintroduced', 'can', 'conservation']\n",
      "Cluster 3 ['foal', 'zoo', 'zsl', 'wild', 'whipsnade', 'horse', 'przewalski’s', 'born', 'birth', 'last']\n",
      "Cluster 4 ['vaccine', 'people', 'astrazeneca', 'number', 'said', 'thrombosis', 'regulator', 'thromboses', 'cerebral', 'report']\n"
     ]
    }
   ],
   "source": [
    "top_articles = []\n",
    "for article in articles:\n",
    "    '''Getting all articles obtained from the search engine. This articles are obtained on the 1st page'''\n",
    "    top_articles.append(top_article(article[0], article[1]))\n",
    "\n",
    "# Initializing the model object\n",
    "lda = gensim.models.ldamodel.LdaModel\n",
    "\n",
    "\n",
    "# User input for the number of topics would we like to achieve\n",
    "num_topics = int(input(\"Enter the number of topics we want to get(recommended less than 5) :  \"))\n",
    "print(\"\\nPlease wait...\")\n",
    "\n",
    "\n",
    "count = 0\n",
    "valid_top_articles = []\n",
    "for num, article in enumerate(top_articles):\n",
    "    if count >= 5:\n",
    "        # Inorder to get the top 5 articles\n",
    "        break\n",
    "    article.get_uncleaned_webcontent() #Getting the data for every top 5 article\n",
    "    if article.article_content == \"It is invalid. Go for next\":\n",
    "        continue\n",
    "    count = count + 1\n",
    "    article.clean() #Cleaning the the data of every top 5 articles\n",
    "    valid_top_articles.append(article)\n",
    "\n",
    "print(\"\\nTop 5 articles are :\")\n",
    "bag_of_words = []\n",
    "for num, article in enumerate(valid_top_articles):\n",
    "    '''Printing the url for top 5 articles and creating a bag of words from all of them'''\n",
    "    print(str(num+1)+\".\", article.article_link)\n",
    "    bag_of_words.append(article.article_cleaned)\n",
    "\n",
    "dictionary = make_dictionary(bag_of_words) #Making a dcitionary from the bag of words\n",
    "doc_term_matrix = make_doc_term_matrix(dictionary, bag_of_words) #creating a matrix\n",
    "\n",
    "print(\"\\nBuilding the clusters of topics....\")\n",
    "lda_model = build_lda_model(dictionary, doc_term_matrix, lda, num_topics) #training the model\n",
    "\n",
    "print_topic_clusters(lda_model, num_topics) #printing the cluster results\n",
    "lda_display = build_lda_display(lda_model, doc_term_matrix, dictionary) #building the object capable to show visualization of the results"
   ]
  },
  {
   "cell_type": "code",
   "execution_count": 18,
   "metadata": {},
   "outputs": [
    {
     "data": {
      "text/html": [
       "\n",
       "<link rel=\"stylesheet\" type=\"text/css\" href=\"https://cdn.jsdelivr.net/gh/bmabey/pyLDAvis@3.2.2/pyLDAvis/js/ldavis.v1.0.0.css\">\n",
       "\n",
       "\n",
       "<div id=\"ldavis_el205623167973748969664296255\"></div>\n",
       "<script type=\"text/javascript\">\n",
       "\n",
       "var ldavis_el205623167973748969664296255_data = {\"mdsDat\": {\"x\": [0.13637137513286113, -0.0050495948445163415, 0.012258648705780521, -0.14358042899412515], \"y\": [0.061888035927190006, 0.01771782258937575, -0.1269266498894683, 0.04732079137290257], \"topics\": [1, 2, 3, 4], \"cluster\": [1, 1, 1, 1], \"Freq\": [70.93201218041091, 0.059815574885862435, 12.585386399139125, 16.422785845564107]}, \"tinfo\": {\"Term\": [\"zoo\", \"foal\", \"falabella\", \"kilverstone\", \"horse\", \"vaccine\", \"wild\", \"zsl\", \"photo\", \"fisher\", \"whipsnade\", \"people\", \"first\", \"born\", \"lady\", \"lord\", \"astrazeneca\", \"przewalski\\u2019s\", \"said\", \"birth\", \"number\", \"last\", \"u\", \"wildlife\", \"world\", \"conservation\", \"imported\", \"endangered\", \"park\", \"menelek\", \"kilverstone\", \"falabella\", \"photo\", \"fisher\", \"lady\", \"lord\", \"wildlife\", \"imported\", \"menelek\", \"park\", \"rosamund\", \"graten\", \"al\", \"mr\", \"miniature\", \"baby\", \"courtesy\", \"year\", \"hall\", \"1978\", \"mare\", \"john\", \"falabellas\", \"1980\", \"monkey\", \"breeding\", \"figurehead\", \"black\", \"new\", \"two\", \"horse\", \"world\", \"zoo\", \"first\", \"13\", \"nikki\", \"ongoing\", \"do\\u201d\", \"coronavirus\", \"bedfordshire\", \"due\", \"father\", \"horse\\u2019s\", \"newborn\", \"helps\\u201d\", \"name\\u201d\", \"visiting\", \"add\", \"wwwzslorgsupportourzoos\", \"do\", \"mum\", \"need\", \"arrival\", \"13th\", \"gate\", \"every\", \"uk\\u2019s\", \"thanks\", \"go\", \"organisation\", \"nationwide\", \"paddock\", \"website\", \"racing\", \"public\", \"wild\", \"work\", \"przewalski\\u2019s\", \"extinct\", \"named\", \"help\", \"reintroduced\", \"can\", \"conservation\", \"effort\", \"youngster\", \"horse\", \"number\", \"foal\", \"population\", \"specie\", \"content\", \"low\", \"donating\", \"preferred\", \"domestic\", \"mealand\", \"brink\", \"found\", \"genetically\", \"managed\", \"muchneeded\", \"raise\", \"reserve\", \"zsl\", \"whipsnade\", \"mongolia\", \"female\", \"mark\", \"excitement\", \"zookeepers\", \"cause\", \"right\", \"habitat\", \"\\u201cit\\u2019s\", \"ask\", \"boy\", \"they\\u2019re\", \"native\", \"considered\", \"choose\", \"declared\", \"example\", \"lockdown\", \"can\\u2019t\", \"colleague\", \"leader\", \"proud\", \"real\", \"truly\", \"image\", \"holden\", \"team\", \"charlotte\", \"hoping\", \"we\\u2019re\", \"przewalski\\u2019s\", \"foal\", \"endangered\", \"wild\", \"born\", \"zoo\", \"birth\", \"help\", \"\\u2013\", \"last\", \"horse\", \"first\", \"conservation\", \"u\", \"extinct\", \"work\", \"specie\", \"success\", \"story\", \"closed\", \"sad\", \"another\", \"remaining\", \"april\", \"vaccine\", \"people\", \"astrazeneca\", \"thromboses\", \"thrombosis\", \"regulator\", \"cerebral\", \"report\", \"according\", \"case\", \"contraceptive\", \"germany\", \"16\", \"clot\", \"pill\", \"vaccination\", \"venous\", \"jab\", \"benefit\", \"higher\", \"severe\", \"outweigh\", \"this\", \"unvaccinated\", \"woman\", \"suffering\", \"expert\", \"receiving\", \"seven\", \"risk\", \"number\", \"medicine\", \"said\", \"blood\", \"week\", \"three\", \"german\", \"four\", \"day\", \"also\", \"many\", \"the\"], \"Freq\": [15.0, 9.0, 42.0, 42.0, 22.0, 6.0, 7.0, 5.0, 32.0, 32.0, 4.0, 5.0, 9.0, 4.0, 17.0, 15.0, 3.0, 3.0, 6.0, 4.0, 4.0, 5.0, 5.0, 11.0, 10.0, 4.0, 10.0, 3.0, 9.0, 9.0, 42.020478386879134, 42.020478386879134, 31.78194967003749, 31.78194967003749, 17.277351489098994, 15.570925906184359, 11.30487020911316, 10.451658794358407, 9.598447379603654, 9.598446002901088, 7.892023173391582, 7.892023173391582, 7.892022485040299, 7.892022485040299, 7.892022485040299, 7.038811758636829, 7.038809693582982, 7.038811070285546, 6.185597590476946, 5.33238548737091, 5.33238548737091, 5.332385143195269, 5.332385143195269, 5.332385143195269, 5.332384799019628, 5.332379636385008, 4.479173384264874, 4.479173040089234, 4.479173040089234, 4.479172007562309, 18.983617374516072, 9.59862290918071, 10.451361426604333, 7.038931531759998, 0.001228147941296768, 0.0012281463449956387, 0.0012281460547590697, 0.0012281459096407852, 0.0012281457645225008, 0.0012281454742859316, 0.0012281454742859316, 0.0012281453291676473, 0.0012281451840493627, 0.0012281448938127938, 0.001228137783016854, 0.0012281376378985695, 0.001228137783016854, 0.0012281376378985695, 0.0012281376378985695, 0.0012281374927802851, 0.0012281374927802851, 0.0012281374927802851, 0.0012281374927802851, 0.0012281373476620006, 0.0012281373476620006, 0.0012281373476620006, 0.0012281373476620006, 0.0012281373476620006, 0.001228137202543716, 0.001228137202543716, 0.001228137202543716, 0.001228137202543716, 0.001228137202543716, 0.0012281370574254316, 0.0012282229674498467, 0.001228216146890476, 0.0012282132445247862, 0.0012282093263311052, 0.0012282088909762517, 0.0012282083105031138, 0.0012282074397934068, 0.0012282033764814413, 0.001228203231363157, 0.0012282023606534499, 0.0012282023606534499, 0.0012282023606534499, 0.0012282000387608982, 0.0012281977168683465, 0.0012281888646529927, 0.0012281884292981394, 0.001228187993943286, 0.0012281843659861737, 0.0012281843659861737, 0.0012281840757496047, 0.0012281840757496047, 0.0012281839306313204, 0.0012281839306313204, 0.0012281837855130358, 0.0012281837855130358, 0.0012281837855130358, 0.0012281837855130358, 0.0012281837855130358, 0.0012281837855130358, 0.0012281837855130358, 5.202282352147388, 4.187194647139431, 2.157023878192208, 2.1570226568583415, 1.6494781936874294, 1.6494774608871094, 1.141935196117157, 1.1419347075836106, 1.1419347075836106, 1.1419344633168373, 1.1419344633168373, 1.1419344633168373, 1.1419344633168373, 1.1419344633168373, 1.1419344633168373, 1.1419344633168373, 1.1419344633168373, 1.1419344633168373, 1.1419343411834506, 1.1419343411834506, 1.1419343411834506, 1.1419344633168373, 1.1419343411834506, 1.1419343411834506, 1.1419343411834506, 1.1419343411834506, 1.1419343411834506, 1.141934219050064, 1.141934219050064, 1.141934219050064, 1.1419343411834506, 1.1419343411834506, 2.6660362625372813, 5.203336607540962, 2.1571022878264383, 4.189176627738007, 2.6646407664614045, 5.202462132492538, 2.1575590666925137, 1.6503260436575624, 1.6495330315780359, 2.1574408415742354, 3.172206358708207, 2.1569532850947235, 1.6501728883907016, 1.649468911550044, 1.1424712395511696, 1.142406997389791, 1.1422098741037359, 1.1421670052850212, 1.1420636804399142, 1.1419630425293137, 1.1419630425293137, 1.141962920395927, 1.1419627982625404, 1.1419626761291537, 6.463096820355223, 4.739592222581175, 3.5905895823930716, 2.4415861453401013, 2.4415864640860483, 2.4415861453401013, 2.4415859859671274, 2.4415856672211804, 1.8670838690082086, 1.8670838690082086, 1.8670837096352348, 1.8670837096352348, 1.8670837096352348, 1.8670837096352348, 1.8670837096352348, 1.8670837096352348, 1.8670837096352348, 1.8670837096352348, 1.2925807958114481, 1.2925806364384747, 1.2925807958114481, 1.2925807958114481, 1.2925809551844216, 1.2925807958114481, 1.2925806364384747, 1.2925806364384747, 1.2925806364384747, 1.2925807958114481, 1.2925807958114481, 1.2925806364384747, 3.0171512800325244, 1.2925807958114481, 3.0164200768299283, 1.8671421995165236, 1.2926674947090533, 1.292651716784673, 1.292615459433193, 1.2926153000602194, 1.2926021517899025, 1.292601912730442, 1.292581194243882, 1.292581194243882], \"Total\": [15.0, 9.0, 42.0, 42.0, 22.0, 6.0, 7.0, 5.0, 32.0, 32.0, 4.0, 5.0, 9.0, 4.0, 17.0, 15.0, 3.0, 3.0, 6.0, 4.0, 4.0, 5.0, 5.0, 11.0, 10.0, 4.0, 10.0, 3.0, 9.0, 9.0, 42.29224660314447, 42.292247712934646, 32.053709932370595, 32.05371142264381, 17.549101997670725, 15.842675631827959, 11.57661783940593, 10.723406311562668, 9.870193292162163, 9.87019247653094, 8.163768641854114, 8.163768758387166, 8.16376806741259, 8.163768276440264, 8.163768381142912, 7.310556670649108, 7.3105546731372355, 7.310556231653556, 6.45734207466593, 5.60412909500854, 5.604129112396946, 5.604129061233973, 5.60412906479724, 5.604129142367406, 5.604128989516923, 5.604125025861628, 4.750916342385628, 4.750916062956789, 4.750916080939723, 4.750915232924525, 22.30069262285688, 10.88531429167078, 15.798696561081233, 9.340747499531814, 0.9925454541542293, 0.9925456389367199, 0.9925456585681051, 0.9925456851267075, 0.9925457261266609, 0.9925456760323701, 0.992545738975947, 0.9925457204985629, 0.9925457454678094, 0.9925457448900453, 0.992546716786187, 0.9925467088300992, 0.9925468319566172, 0.9925467439198447, 0.9925467550161964, 0.9925467351157438, 0.9925467498300524, 0.9925467836179698, 0.9925468091411024, 0.9925467117040045, 0.9925467625223594, 0.9925467635512298, 0.9925467670028995, 0.9925468186692674, 0.9925467453468035, 0.9925467854775746, 0.9925468560512637, 0.9925468699175592, 0.9925468769871859, 0.9925468411918367, 2.4197400440097585, 7.956665127086408, 3.780374426177722, 3.87470726054918, 2.3527059866196267, 2.6986370665522896, 2.8600407973290625, 1.8453648916779897, 1.8453649021913157, 4.566600941828338, 1.8453649154889988, 1.84536499027027, 22.30069262285688, 4.2099693152674345, 9.82560738276973, 3.618863654163377, 4.059342624228313, 1.3380166366036068, 1.3380166272937104, 1.3380166526316046, 1.338016631658422, 1.3380167175572142, 1.3380166372198132, 1.3380166470355057, 1.3380166775688525, 1.3380167326787693, 1.338016717412096, 1.3380166822238007, 1.3380166974904744, 1.338016717412096, 5.560455269737119, 4.545365683970099, 2.515185929139525, 2.5151857827270905, 2.0076411628881012, 2.007641151014668, 1.5000942069924557, 1.5000947888640492, 1.5000949277349278, 1.5000947121965864, 1.5000947412152543, 1.5000947761453118, 1.500094801843884, 1.5000948123851678, 1.5000948311458433, 1.500094839952653, 1.5000948751766812, 1.5000948797958964, 1.5000947435141043, 1.5000947798990787, 1.5000948634829234, 1.5000950323798257, 1.5000948897512894, 1.5000948988483356, 1.50009490058281, 1.5000949288758865, 1.5000950189515936, 1.500094896534916, 1.5000949408559903, 1.5000949441691411, 1.5000951109138385, 1.5000951114873664, 3.87470726054918, 9.82560738276973, 3.3681222767152734, 7.956665127086408, 4.728905842869336, 15.798696561081233, 4.221039767753064, 2.8600407973290625, 2.8605937994756325, 5.648819248800918, 22.30069262285688, 9.340747499531814, 4.566600941828338, 5.4203079887633825, 2.3527059866196267, 3.780374426177722, 4.059342624228313, 3.2061549425008558, 4.059447241705107, 2.353065170997822, 2.35306499905512, 2.3530649800094694, 2.3530648785232957, 2.3530650110206537, 6.804522474703334, 5.081016364340296, 3.9320119810576015, 2.7830063827932094, 2.7830067745849023, 2.7830067491185355, 2.783006643784125, 2.783006946294499, 2.208503776810158, 2.208503818505231, 2.2085036530330715, 2.208503760625376, 2.208503814589106, 2.208503871501385, 2.2085038896538247, 2.2085039538965208, 2.2085039556961745, 2.2085042249147984, 1.634000000587965, 1.6339998101385884, 1.634000066592898, 1.6340000670282528, 1.6340002863069734, 1.6340001001945461, 1.633999904769513, 1.6339999074024596, 1.633999917983713, 1.6340001340490138, 1.6340001654156535, 1.6339999751113952, 4.2099693152674345, 1.634000208147372, 6.932011653351241, 3.061465102411894, 2.1415136688987877, 5.2085098833850605, 2.4869724699199898, 2.486972522878727, 3.3402132996947316, 3.340213686468677, 5.046659813712007, 5.046658979556819], \"Category\": [\"Default\", \"Default\", \"Default\", \"Default\", \"Default\", \"Default\", \"Default\", \"Default\", \"Default\", \"Default\", \"Default\", \"Default\", \"Default\", \"Default\", \"Default\", \"Default\", \"Default\", \"Default\", \"Default\", \"Default\", \"Default\", \"Default\", \"Default\", \"Default\", \"Default\", \"Default\", \"Default\", \"Default\", \"Default\", \"Default\", \"Topic1\", \"Topic1\", \"Topic1\", \"Topic1\", \"Topic1\", \"Topic1\", \"Topic1\", \"Topic1\", \"Topic1\", \"Topic1\", \"Topic1\", \"Topic1\", \"Topic1\", \"Topic1\", \"Topic1\", \"Topic1\", \"Topic1\", \"Topic1\", \"Topic1\", \"Topic1\", \"Topic1\", \"Topic1\", \"Topic1\", \"Topic1\", \"Topic1\", \"Topic1\", \"Topic1\", \"Topic1\", \"Topic1\", \"Topic1\", \"Topic1\", \"Topic1\", \"Topic1\", \"Topic1\", \"Topic2\", \"Topic2\", \"Topic2\", \"Topic2\", \"Topic2\", \"Topic2\", \"Topic2\", \"Topic2\", \"Topic2\", \"Topic2\", \"Topic2\", \"Topic2\", \"Topic2\", \"Topic2\", \"Topic2\", \"Topic2\", \"Topic2\", \"Topic2\", \"Topic2\", \"Topic2\", \"Topic2\", \"Topic2\", \"Topic2\", \"Topic2\", \"Topic2\", \"Topic2\", \"Topic2\", \"Topic2\", \"Topic2\", \"Topic2\", \"Topic2\", \"Topic2\", \"Topic2\", \"Topic2\", \"Topic2\", \"Topic2\", \"Topic2\", \"Topic2\", \"Topic2\", \"Topic2\", \"Topic2\", \"Topic2\", \"Topic2\", \"Topic2\", \"Topic2\", \"Topic2\", \"Topic2\", \"Topic2\", \"Topic2\", \"Topic2\", \"Topic2\", \"Topic2\", \"Topic2\", \"Topic2\", \"Topic2\", \"Topic2\", \"Topic2\", \"Topic2\", \"Topic2\", \"Topic2\", \"Topic3\", \"Topic3\", \"Topic3\", \"Topic3\", \"Topic3\", \"Topic3\", \"Topic3\", \"Topic3\", \"Topic3\", \"Topic3\", \"Topic3\", \"Topic3\", \"Topic3\", \"Topic3\", \"Topic3\", \"Topic3\", \"Topic3\", \"Topic3\", \"Topic3\", \"Topic3\", \"Topic3\", \"Topic3\", \"Topic3\", \"Topic3\", \"Topic3\", \"Topic3\", \"Topic3\", \"Topic3\", \"Topic3\", \"Topic3\", \"Topic3\", \"Topic3\", \"Topic3\", \"Topic3\", \"Topic3\", \"Topic3\", \"Topic3\", \"Topic3\", \"Topic3\", \"Topic3\", \"Topic3\", \"Topic3\", \"Topic3\", \"Topic3\", \"Topic3\", \"Topic3\", \"Topic3\", \"Topic3\", \"Topic3\", \"Topic3\", \"Topic3\", \"Topic3\", \"Topic3\", \"Topic3\", \"Topic3\", \"Topic3\", \"Topic4\", \"Topic4\", \"Topic4\", \"Topic4\", \"Topic4\", \"Topic4\", \"Topic4\", \"Topic4\", \"Topic4\", \"Topic4\", \"Topic4\", \"Topic4\", \"Topic4\", \"Topic4\", \"Topic4\", \"Topic4\", \"Topic4\", \"Topic4\", \"Topic4\", \"Topic4\", \"Topic4\", \"Topic4\", \"Topic4\", \"Topic4\", \"Topic4\", \"Topic4\", \"Topic4\", \"Topic4\", \"Topic4\", \"Topic4\", \"Topic4\", \"Topic4\", \"Topic4\", \"Topic4\", \"Topic4\", \"Topic4\", \"Topic4\", \"Topic4\", \"Topic4\", \"Topic4\", \"Topic4\", \"Topic4\"], \"logprob\": [30.0, 29.0, 28.0, 27.0, 26.0, 25.0, 24.0, 23.0, 22.0, 21.0, 20.0, 19.0, 18.0, 17.0, 16.0, 15.0, 14.0, 13.0, 12.0, 11.0, 10.0, 9.0, 8.0, 7.0, 6.0, 5.0, 4.0, 3.0, 2.0, 1.0, -3.5604, -3.5604, -3.8397, -3.8397, -4.4492, -4.5532, -4.8734, -4.9518, -5.037, -5.037, -5.2327, -5.2327, -5.2327, -5.2327, -5.2327, -5.3472, -5.3472, -5.3472, -5.4764, -5.6248, -5.6248, -5.6248, -5.6248, -5.6248, -5.6248, -5.6248, -5.7992, -5.7992, -5.7992, -5.7992, -4.355, -5.037, -4.9519, -5.3471, -6.9226, -6.9226, -6.9226, -6.9226, -6.9226, -6.9226, -6.9226, -6.9226, -6.9226, -6.9226, -6.9226, -6.9226, -6.9226, -6.9226, -6.9226, -6.9226, -6.9226, -6.9226, -6.9226, -6.9226, -6.9226, -6.9226, -6.9226, -6.9226, -6.9226, -6.9226, -6.9226, -6.9226, -6.9226, -6.9226, -6.9226, -6.9226, -6.9226, -6.9226, -6.9226, -6.9226, -6.9226, -6.9226, -6.9226, -6.9226, -6.9226, -6.9226, -6.9226, -6.9226, -6.9226, -6.9226, -6.9226, -6.9226, -6.9226, -6.9226, -6.9226, -6.9226, -6.9226, -6.9226, -6.9226, -6.9226, -6.9226, -6.9226, -6.9226, -6.9226, -3.9203, -4.1374, -4.8007, -4.8007, -5.069, -5.069, -5.4367, -5.4367, -5.4367, -5.4367, -5.4367, -5.4367, -5.4367, -5.4367, -5.4367, -5.4367, -5.4367, -5.4367, -5.4367, -5.4367, -5.4367, -5.4367, -5.4367, -5.4367, -5.4367, -5.4367, -5.4367, -5.4367, -5.4367, -5.4367, -5.4367, -5.4367, -4.5888, -3.9201, -4.8006, -4.1369, -4.5893, -3.9203, -4.8004, -5.0684, -5.0689, -4.8005, -4.415, -4.8007, -5.0685, -5.069, -5.4362, -5.4363, -5.4364, -5.4365, -5.4366, -5.4367, -5.4367, -5.4367, -5.4367, -5.4367, -3.9694, -4.2796, -4.5572, -4.9429, -4.9429, -4.9429, -4.9429, -4.9429, -5.2112, -5.2112, -5.2112, -5.2112, -5.2112, -5.2112, -5.2112, -5.2112, -5.2112, -5.2112, -5.5789, -5.5789, -5.5789, -5.5789, -5.5789, -5.5789, -5.5789, -5.5789, -5.5789, -5.5789, -5.5789, -5.5789, -4.7312, -5.5789, -4.7315, -5.2111, -5.5788, -5.5788, -5.5789, -5.5789, -5.5789, -5.5789, -5.5789, -5.5789], \"loglift\": [30.0, 29.0, 28.0, 27.0, 26.0, 25.0, 24.0, 23.0, 22.0, 21.0, 20.0, 19.0, 18.0, 17.0, 16.0, 15.0, 14.0, 13.0, 12.0, 11.0, 10.0, 9.0, 8.0, 7.0, 6.0, 5.0, 4.0, 3.0, 2.0, 1.0, 0.337, 0.337, 0.3349, 0.3349, 0.3278, 0.3261, 0.3197, 0.3178, 0.3155, 0.3155, 0.3096, 0.3096, 0.3096, 0.3096, 0.3096, 0.3056, 0.3056, 0.3056, 0.3005, 0.2937, 0.2937, 0.2937, 0.2937, 0.2937, 0.2937, 0.2937, 0.2845, 0.2845, 0.2845, 0.2845, 0.1824, 0.2177, -0.0697, 0.0605, 0.7269, 0.7269, 0.7269, 0.7269, 0.7269, 0.7269, 0.7269, 0.7269, 0.7269, 0.7269, 0.7269, 0.7269, 0.7269, 0.7269, 0.7269, 0.7269, 0.7269, 0.7269, 0.7269, 0.7269, 0.7269, 0.7269, 0.7269, 0.7269, 0.7269, 0.7269, 0.7269, 0.7269, 0.7269, 0.7269, -0.1642, -1.3545, -0.6104, -0.635, -0.1361, -0.2733, -0.3314, 0.1068, 0.1068, -0.7993, 0.1068, 0.1068, -2.3852, -0.718, -1.5655, -0.5667, -0.6816, 0.4283, 0.4283, 0.4283, 0.4283, 0.4283, 0.4283, 0.4283, 0.4283, 0.4283, 0.4283, 0.4283, 0.4283, 0.4283, 2.0061, 1.9906, 1.919, 1.919, 1.8761, 1.8761, 1.7998, 1.7998, 1.7998, 1.7998, 1.7998, 1.7998, 1.7998, 1.7998, 1.7998, 1.7998, 1.7998, 1.7998, 1.7998, 1.7998, 1.7998, 1.7998, 1.7998, 1.7998, 1.7998, 1.7998, 1.7998, 1.7998, 1.7998, 1.7998, 1.7998, 1.7998, 1.6988, 1.4369, 1.627, 1.4311, 1.499, 0.9618, 1.4015, 1.5228, 1.5221, 1.1101, 0.1224, 0.6069, 1.0547, 0.8829, 1.3503, 0.8759, 0.8046, 1.0405, 0.8044, 1.3497, 1.3497, 1.3497, 1.3497, 1.3497, 1.755, 1.7369, 1.7157, 1.6756, 1.6756, 1.6756, 1.6756, 1.6756, 1.6386, 1.6386, 1.6386, 1.6386, 1.6386, 1.6386, 1.6386, 1.6386, 1.6386, 1.6386, 1.5721, 1.5721, 1.5721, 1.5721, 1.5721, 1.5721, 1.5721, 1.5721, 1.5721, 1.5721, 1.5721, 1.5721, 1.4734, 1.5721, 0.9744, 1.312, 1.3017, 0.4129, 1.1521, 1.1521, 0.8571, 0.8571, 0.4444, 0.4444]}, \"token.table\": {\"Topic\": [3, 3, 4, 1, 1, 4, 3, 1, 1, 4, 1, 3, 1, 3, 3, 3, 4, 1, 3, 4, 1, 3, 1, 1, 4, 1, 3, 3, 1, 1, 1, 3, 3, 4, 3, 4, 3, 3, 1, 3, 4, 3, 1, 3, 3, 1, 4, 3, 1, 1, 4, 3, 3, 1, 1, 3, 3, 1, 3, 1, 3, 3, 3, 3, 4, 1, 3, 1, 1, 3, 3, 1, 1, 3, 1, 1, 3, 1, 1, 4, 3, 1, 1, 4, 4, 3, 1, 3, 1, 1, 3, 3, 4, 3, 3, 1, 3, 3, 3, 1, 4, 1, 1, 1, 1, 3, 4, 3, 3, 1, 1, 1, 1, 4, 1, 3, 1, 4, 1, 1, 3, 1, 1, 1, 3, 1, 3, 3, 3, 3, 3, 1, 3, 3, 1, 4, 3, 3, 4, 3, 1, 4, 1, 4, 1, 4, 1, 3, 1, 3, 1, 3, 4, 3, 1, 3, 4, 4, 1, 3, 1, 3, 4, 1, 3, 4, 1, 1, 3, 1, 3, 4, 4, 4, 1, 3, 1, 3, 1, 3, 4, 3, 3, 1, 4, 3, 4, 1, 3, 4, 4, 4, 3, 1, 1, 3, 3, 4, 4, 4, 4, 3, 3, 3, 4, 3, 3, 1, 3, 1, 4, 1, 3, 4, 1, 3, 3, 1, 1, 3, 1, 3, 3, 3, 1, 3, 3], \"Freq\": [1.0075105334617878, 1.0075092569529545, 0.9055904666264305, 0.8921992900651373, 0.8921992825254205, 0.9055904821175768, 1.0075092242514647, 0.9799396472241408, 0.5987640874899921, 0.29938204374499605, 0.4249776391623387, 0.4249776391623387, 0.424977633561533, 0.424977633561533, 1.0075091580470117, 0.6666245465967355, 1.017290898214433, 0.9575194223039196, 1.0075103082383352, 0.6119951038189525, 0.47381690532250925, 0.47381690532250925, 0.8419428899593213, 0.32664099264504975, 0.6532819852900995, 0.42293081453837306, 0.6343962218075596, 0.6666245351765913, 0.8921999378897253, 0.7473748568192993, 0.5418982439801092, 0.5418982439801092, 0.6666245077849263, 0.9055904650206349, 0.6666245409446777, 0.718647224384829, 0.6666244719289224, 0.6666245025883579, 0.42497760466870027, 0.42497760466870027, 0.905590443289719, 0.6666244327291385, 0.6569437615012808, 0.43796250766752054, 0.6666245182415017, 0.7473748626462365, 0.9055905328720101, 1.0075102573887742, 0.9575196839333718, 0.5987641568227945, 0.29938207841139725, 0.666624500535633, 1.0075092331882862, 0.7473748174280488, 0.747374853693491, 1.0075102990068825, 1.0075102443457606, 0.5418982400751953, 0.5418982400751953, 0.29690133488123827, 0.5938026697624765, 1.00750920432414, 0.6666245610976622, 0.9961939657339629, 0.6119951347573859, 0.4250424854134886, 0.4250424854134886, 0.9930898041901598, 0.8921992948748946, 1.0075102631017268, 0.7951698891330007, 0.8419428404397955, 0.7494046916856345, 0.21411562619589555, 0.9983243306231969, 0.40709951498921426, 0.5088743937365178, 0.7473748397643133, 0.40209531500672846, 0.40209531500672846, 1.0075092053685206, 0.7473748089816151, 0.4020953235691313, 0.4020953235691313, 0.9055904887540991, 1.0075092228029947, 0.9799395642828669, 0.6666245750148012, 0.9291748726677779, 0.3496453620290595, 0.699290724058119, 1.0075092517941586, 0.6119951751494908, 0.66662449309701, 0.666624397829557, 0.8519914749430757, 0.13452496972785405, 1.0075102377560212, 0.6666244386964856, 0.9325395037225583, 0.9055902983736234, 0.8921992954421807, 0.9930898302498137, 0.9687105358585524, 0.5310844386881053, 0.3540562924587368, 0.1770281462293684, 0.6666244961115737, 0.6666245449286056, 1.0099304165425174, 0.7473748678464578, 0.7473748175091073, 0.7926034540968694, 0.19815086352421735, 0.892199287296835, 0.996193959842351, 0.7473748623020426, 0.6119950260800757, 1.013151384577333, 0.979939609565456, 0.795169842845067, 0.8921993068598161, 0.97993962213346, 0.7473748371642028, 1.0075092182521617, 0.7411148482278683, 0.37055742411393416, 1.0075092598701838, 1.0075091104296958, 0.6666245221551446, 1.0075091839548986, 0.8419428867724406, 1.0075102383424963, 1.0075103458932788, 0.23753142246749984, 0.7125942674024995, 1.0075103259659097, 1.0075091820672606, 0.6119950789345404, 1.0075090963543714, 1.0131514682999052, 0.9840550869096021, 0.9983243770382925, 0.9055904358463652, 0.8289895079491608, 0.2763298359830536, 0.7473748654084643, 0.6666244920689536, 0.2580840132573694, 0.7742520397721082, 0.41326753362435453, 0.41326753362435453, 0.41326753362435453, 1.007509125513123, 0.74737482863671, 0.6666244912981736, 0.6119950538327213, 0.71864719718465, 0.5418982470673864, 0.5418982470673864, 0.42497765749135075, 0.42497765749135075, 0.7186471462685163, 0.7473748175091073, 0.6666244792320927, 0.6119951133608963, 0.9799395782709345, 0.4249776357225801, 0.4249776357225801, 0.432774806220885, 0.14425826874029501, 0.432774806220885, 0.6119950420847247, 0.6119950790975974, 0.7390359173168598, 0.2463453057722866, 0.7390168713560857, 0.24633895711869522, 0.6238001705681653, 0.31190008528408264, 0.611995138720468, 0.6666244734012475, 1.0075091483752123, 0.7926035851051833, 0.1981508962762958, 0.6666245304921684, 0.6119949968063432, 0.5759804756385086, 0.19199349187950285, 0.19199349187950285, 0.7186472917797148, 0.7186471906085492, 0.6666244787250641, 0.8419430370551395, 0.7379654455599637, 0.36898272277998184, 1.0075092008204374, 0.6119950665125043, 0.90559040950384, 0.8817665048952006, 0.9055904087658974, 1.0075091348875602, 1.0075090891781733, 0.46695942898847875, 0.46695942898847875, 0.6666243975746879, 0.8800172039197174, 0.502723180642985, 0.502723180642985, 0.9501911657269045, 0.6119951397066066, 0.5290481244796085, 0.26452406223980424, 0.26452406223980424, 0.9186689269644512, 0.09186689269644512, 1.0075092129878376, 0.9575194798025222, 0.5418982181153991, 0.5418982181153991, 0.6329636094558688, 0.3164818047279344, 0.6666247995216938, 0.8992069457356474, 0.34957776954676584, 0.6991555390935317, 0.6666245621192443], \"Term\": [\"13\", \"13th\", \"16\", \"1978\", \"1980\", \"according\", \"add\", \"al\", \"also\", \"also\", \"another\", \"another\", \"april\", \"april\", \"arrival\", \"ask\", \"astrazeneca\", \"baby\", \"bedfordshire\", \"benefit\", \"birth\", \"birth\", \"black\", \"blood\", \"blood\", \"born\", \"born\", \"boy\", \"breeding\", \"brink\", \"can\", \"can\", \"can\\u2019t\", \"case\", \"cause\", \"cerebral\", \"charlotte\", \"choose\", \"closed\", \"closed\", \"clot\", \"colleague\", \"conservation\", \"conservation\", \"considered\", \"content\", \"contraceptive\", \"coronavirus\", \"courtesy\", \"day\", \"day\", \"declared\", \"do\", \"domestic\", \"donating\", \"do\\u201d\", \"due\", \"effort\", \"effort\", \"endangered\", \"endangered\", \"every\", \"example\", \"excitement\", \"expert\", \"extinct\", \"extinct\", \"falabella\", \"falabellas\", \"father\", \"female\", \"figurehead\", \"first\", \"first\", \"fisher\", \"foal\", \"foal\", \"found\", \"four\", \"four\", \"gate\", \"genetically\", \"german\", \"german\", \"germany\", \"go\", \"graten\", \"habitat\", \"hall\", \"help\", \"help\", \"helps\\u201d\", \"higher\", \"holden\", \"hoping\", \"horse\", \"horse\", \"horse\\u2019s\", \"image\", \"imported\", \"jab\", \"john\", \"kilverstone\", \"lady\", \"last\", \"last\", \"last\", \"leader\", \"lockdown\", \"lord\", \"low\", \"managed\", \"many\", \"many\", \"mare\", \"mark\", \"mealand\", \"medicine\", \"menelek\", \"miniature\", \"mongolia\", \"monkey\", \"mr\", \"muchneeded\", \"mum\", \"named\", \"named\", \"name\\u201d\", \"nationwide\", \"native\", \"need\", \"new\", \"newborn\", \"nikki\", \"number\", \"number\", \"ongoing\", \"organisation\", \"outweigh\", \"paddock\", \"park\", \"people\", \"photo\", \"pill\", \"population\", \"population\", \"preferred\", \"proud\", \"przewalski\\u2019s\", \"przewalski\\u2019s\", \"public\", \"public\", \"public\", \"racing\", \"raise\", \"real\", \"receiving\", \"regulator\", \"reintroduced\", \"reintroduced\", \"remaining\", \"remaining\", \"report\", \"reserve\", \"right\", \"risk\", \"rosamund\", \"sad\", \"sad\", \"said\", \"said\", \"said\", \"seven\", \"severe\", \"specie\", \"specie\", \"story\", \"story\", \"success\", \"success\", \"suffering\", \"team\", \"thanks\", \"the\", \"the\", \"they\\u2019re\", \"this\", \"three\", \"three\", \"three\", \"thromboses\", \"thrombosis\", \"truly\", \"two\", \"u\", \"u\", \"uk\\u2019s\", \"unvaccinated\", \"vaccination\", \"vaccine\", \"venous\", \"visiting\", \"website\", \"week\", \"week\", \"we\\u2019re\", \"whipsnade\", \"wild\", \"wild\", \"wildlife\", \"woman\", \"work\", \"work\", \"work\", \"world\", \"world\", \"wwwzslorgsupportourzoos\", \"year\", \"youngster\", \"youngster\", \"zoo\", \"zoo\", \"zookeepers\", \"zsl\", \"\\u2013\", \"\\u2013\", \"\\u201cit\\u2019s\"]}, \"R\": 30, \"lambda.step\": 0.01, \"plot.opts\": {\"xlab\": \"PC1\", \"ylab\": \"PC2\"}, \"topic.order\": [1, 2, 3, 4]};\n",
       "\n",
       "function LDAvis_load_lib(url, callback){\n",
       "  var s = document.createElement('script');\n",
       "  s.src = url;\n",
       "  s.async = true;\n",
       "  s.onreadystatechange = s.onload = callback;\n",
       "  s.onerror = function(){console.warn(\"failed to load library \" + url);};\n",
       "  document.getElementsByTagName(\"head\")[0].appendChild(s);\n",
       "}\n",
       "\n",
       "if(typeof(LDAvis) !== \"undefined\"){\n",
       "   // already loaded: just create the visualization\n",
       "   !function(LDAvis){\n",
       "       new LDAvis(\"#\" + \"ldavis_el205623167973748969664296255\", ldavis_el205623167973748969664296255_data);\n",
       "   }(LDAvis);\n",
       "}else if(typeof define === \"function\" && define.amd){\n",
       "   // require.js is available: use it to load d3/LDAvis\n",
       "   require.config({paths: {d3: \"https://d3js.org/d3.v5\"}});\n",
       "   require([\"d3\"], function(d3){\n",
       "      window.d3 = d3;\n",
       "      LDAvis_load_lib(\"https://cdn.jsdelivr.net/gh/bmabey/pyLDAvis@3.2.2/pyLDAvis/js/ldavis.v3.0.0.js\", function(){\n",
       "        new LDAvis(\"#\" + \"ldavis_el205623167973748969664296255\", ldavis_el205623167973748969664296255_data);\n",
       "      });\n",
       "    });\n",
       "}else{\n",
       "    // require.js not available: dynamically load d3 & LDAvis\n",
       "    LDAvis_load_lib(\"https://d3js.org/d3.v5.js\", function(){\n",
       "         LDAvis_load_lib(\"https://cdn.jsdelivr.net/gh/bmabey/pyLDAvis@3.2.2/pyLDAvis/js/ldavis.v3.0.0.js\", function(){\n",
       "                 new LDAvis(\"#\" + \"ldavis_el205623167973748969664296255\", ldavis_el205623167973748969664296255_data);\n",
       "            })\n",
       "         });\n",
       "}\n",
       "</script>"
      ],
      "text/plain": [
       "<IPython.core.display.HTML object>"
      ]
     },
     "execution_count": 18,
     "metadata": {},
     "output_type": "execute_result"
    }
   ],
   "source": [
    "pyLDAvis.display(lda_display) #Visualization of the results(works on local jupyter notebook).   It may not be visible over github."
   ]
  },
  {
   "cell_type": "code",
   "execution_count": 19,
   "metadata": {},
   "outputs": [
    {
     "data": {
      "text/plain": [
       "<gensim.interfaces.TransformedCorpus at 0x21b6bdc9940>"
      ]
     },
     "execution_count": 19,
     "metadata": {},
     "output_type": "execute_result"
    }
   ],
   "source": [
    "# Assigning the topics to the documents in the corpus\n",
    "lda_corpus = lda_model[doc_term_matrix]\n",
    "lda_corpus"
   ]
  },
  {
   "cell_type": "code",
   "execution_count": 20,
   "metadata": {},
   "outputs": [
    {
     "name": "stdout",
     "output_type": "stream",
     "text": [
      "\n",
      "\n",
      "For article 1\n",
      "probability score for: \n",
      "\n",
      "topic 1 : 0.99467033\n",
      "topic 2 : 0.0017207668\n",
      "topic 3 : 0.0018720108\n",
      "topic 4 : 0.0017368253\n",
      "-----------------------------------\n",
      "\n",
      "\n",
      "For article 2\n",
      "probability score for: \n",
      "\n",
      "topic 1 : 0.0016619596\n",
      "topic 2 : 0.0016465076\n",
      "topic 3 : 0.99504\n",
      "topic 4 : 0.001651525\n",
      "-----------------------------------\n",
      "\n",
      "\n",
      "For article 3\n",
      "probability score for: \n",
      "\n",
      "topic 1 : 0.0022329264\n",
      "topic 2 : 0.0022144462\n",
      "topic 3 : 0.9933337\n",
      "topic 4 : 0.002218899\n",
      "-----------------------------------\n",
      "\n",
      "\n",
      "For article 4\n",
      "probability score for: \n",
      "\n",
      "topic 1 : 0.00073209516\n",
      "topic 2 : 0.0007301545\n",
      "topic 3 : 0.00073194114\n",
      "topic 4 : 0.99780583\n",
      "-----------------------------------\n",
      "\n",
      "\n",
      "For article 5\n",
      "probability score for: \n",
      "\n",
      "topic 1 : 0.9994336\n",
      "topic 2 : 0.00018792502\n",
      "topic 3 : 0.00018993432\n",
      "topic 4 : 0.00018854781\n",
      "-----------------------------------\n"
     ]
    }
   ],
   "source": [
    "# Printing the probability score for topics for our top 5 articles\n",
    "for i, article in enumerate(lda_corpus):\n",
    "    print(\"\\n\\nFor article\",i+1)\n",
    "    print(\"probability score for: \\n\")\n",
    "    for j, topic in enumerate(article):\n",
    "        print(\"topic\",j+1,\":\",topic[1])\n",
    "    print(\"-----------------------------------\")"
   ]
  },
  {
   "cell_type": "code",
   "execution_count": null,
   "metadata": {},
   "outputs": [],
   "source": []
  },
  {
   "cell_type": "code",
   "execution_count": null,
   "metadata": {},
   "outputs": [],
   "source": []
  }
 ],
 "metadata": {
  "kernelspec": {
   "display_name": "Python 3",
   "language": "python",
   "name": "python3"
  },
  "language_info": {
   "codemirror_mode": {
    "name": "ipython",
    "version": 3
   },
   "file_extension": ".py",
   "mimetype": "text/x-python",
   "name": "python",
   "nbconvert_exporter": "python",
   "pygments_lexer": "ipython3",
   "version": "3.7.0"
  }
 },
 "nbformat": 4,
 "nbformat_minor": 2
}
