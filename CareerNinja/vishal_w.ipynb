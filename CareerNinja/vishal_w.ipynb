{
 "cells": [
  {
   "cell_type": "code",
   "execution_count": 1,
   "metadata": {},
   "outputs": [],
   "source": [
    "import re\n",
    "from time import sleep\n",
    "from bs4 import BeautifulSoup\n",
    "import requests"
   ]
  },
  {
   "cell_type": "code",
   "execution_count": 2,
   "metadata": {},
   "outputs": [],
   "source": [
    "import nltk\n",
    "nltk.download('stopwords', quiet=True) #stopwords\n",
    "nltk.download('wordnet', quiet=True) #\n",
    "from newspaper import Article #To read the content of a webpage"
   ]
  },
  {
   "cell_type": "code",
   "execution_count": 3,
   "metadata": {},
   "outputs": [],
   "source": [
    "import gensim #Gensim is an open-source library for unsupervised topic modeling and natural language processing\n",
    "from gensim.models.ldamulticore import LdaMulticore # for multipreprocessing\n",
    "from gensim import corpora, models #\n",
    "from gensim.corpora import Dictionary\n",
    "import pyLDAvis.gensim #for visualization\n",
    "\n",
    "from nltk.corpus import stopwords\n",
    "import string\n",
    "from nltk.stem.wordnet import WordNetLemmatizer\n",
    "\n",
    "\n",
    "# from itertools import chain"
   ]
  },
  {
   "cell_type": "code",
   "execution_count": 4,
   "metadata": {},
   "outputs": [
    {
     "name": "stderr",
     "output_type": "stream",
     "text": [
      "c:\\users\\vishal waghmare\\3d objects\\vscode_codes\\github\\pandas\\careerninja\\careerninja\\lib\\site-packages\\ipykernel\\ipkernel.py:283: DeprecationWarning: `should_run_async` will not call `transform_cell` automatically in the future. Please pass the result to `transformed_cell` argument and any exception that happen during thetransform in `preprocessing_exc_tuple` in IPython 7.17 and above.\n",
      "  and should_run_async(code)\n"
     ]
    }
   ],
   "source": [
    "import warnings\n",
    "warnings.simplefilter(\"ignore\")\n",
    "warnings.filterwarnings('ignore')"
   ]
  },
  {
   "cell_type": "code",
   "execution_count": 165,
   "metadata": {},
   "outputs": [],
   "source": [
    "# We are using Yahoo Search Engine for WebScrapping\n",
    "template = 'https://in.search.yahoo.com/search;_ylt=AwrwIQa9FFJgmlQA7hq7HAx.;_ylu=Y29sbwNzZzMEcG9zAzEEdnRpZAMEc2VjA3BpdnM-?p={}'"
   ]
  },
  {
   "cell_type": "code",
   "execution_count": 166,
   "metadata": {},
   "outputs": [
    {
     "name": "stdout",
     "output_type": "stream",
     "text": [
      "komodo dragon\n"
     ]
    }
   ],
   "source": [
    "query = input()\n",
    "url = template.format(query)"
   ]
  },
  {
   "cell_type": "code",
   "execution_count": 167,
   "metadata": {},
   "outputs": [],
   "source": [
    "headers = {\n",
    "    'accept': '*/*',\n",
    "    'accept-encoding': 'gzip, deflate, br',\n",
    "    'accept-language': 'en-US,en;q=0.9',\n",
    "    'referer': 'https://www.google.com',\n",
    "    'user-agent': 'Mozilla/5.0 (Windows NT 10.0; Win64; x64) AppleWebKit/537.36 (KHTML, like Gecko) Chrome/89.0.4389.82 Safari/537.36'\n",
    "}"
   ]
  },
  {
   "cell_type": "code",
   "execution_count": 168,
   "metadata": {},
   "outputs": [],
   "source": [
    "response = requests.get(url, headers=headers)"
   ]
  },
  {
   "cell_type": "code",
   "execution_count": 169,
   "metadata": {},
   "outputs": [],
   "source": [
    "soup = BeautifulSoup(response.text, 'html.parser')"
   ]
  },
  {
   "cell_type": "code",
   "execution_count": 170,
   "metadata": {},
   "outputs": [],
   "source": [
    "# cards = soup.find_all('div', 'NewsArticle')\n",
    "cards = soup.find_all('div', 'algo')"
   ]
  },
  {
   "cell_type": "code",
   "execution_count": 171,
   "metadata": {},
   "outputs": [
    {
     "data": {
      "text/plain": [
       "9"
      ]
     },
     "execution_count": 171,
     "metadata": {},
     "output_type": "execute_result"
    }
   ],
   "source": [
    "len(cards)"
   ]
  },
  {
   "cell_type": "code",
   "execution_count": 172,
   "metadata": {},
   "outputs": [],
   "source": [
    "card = cards[0]"
   ]
  },
  {
   "cell_type": "code",
   "execution_count": 173,
   "metadata": {},
   "outputs": [
    {
     "data": {
      "text/plain": [
       "['Komodo dragon - Wikipedia', 'https://en.wikipedia.org/wiki/Komodo_dragon']"
      ]
     },
     "execution_count": 173,
     "metadata": {},
     "output_type": "execute_result"
    }
   ],
   "source": [
    "def get_article(card):\n",
    "    '''Extract article information from the raw html'''\n",
    "#     headline = card.find('h4', 's-title').text\n",
    "    headline = card.find('h3', 'title').text\n",
    "    raw_link = card.find('a').get('href')\n",
    "    unquoted_link = requests.utils.unquote(raw_link)\n",
    "    pattern = re.compile(r'RU=(.+)\\/RK')\n",
    "    clean_link = re.search(pattern, unquoted_link).group(1)\n",
    "    article = [headline, clean_link]\n",
    "    return article\n",
    "get_article(card)"
   ]
  },
  {
   "cell_type": "code",
   "execution_count": 174,
   "metadata": {},
   "outputs": [],
   "source": [
    "articles = []\n",
    "links = set()\n",
    "for card in cards:\n",
    "    article = get_article(card)\n",
    "    link = article[-1]\n",
    "    if not link in links:\n",
    "        links.add(link)\n",
    "        articles.append(article)"
   ]
  },
  {
   "cell_type": "code",
   "execution_count": 175,
   "metadata": {},
   "outputs": [],
   "source": [
    "stop = set(stopwords.words('english'))\n",
    "exclude = set(string.punctuation)\n",
    "lemma = WordNetLemmatizer()"
   ]
  },
  {
   "cell_type": "code",
   "execution_count": 176,
   "metadata": {},
   "outputs": [],
   "source": [
    "class top_article:\n",
    "    def __init__(self, article_name, article_link):\n",
    "        self.article_name = article_name\n",
    "        self.article_link = article_link\n",
    "    def get_uncleaned_webcontent(self):\n",
    "        article = Article(self.article_link)\n",
    "        \n",
    "        try :\n",
    "            article.download()\n",
    "            article.parse()\n",
    "            nltk.download('punkt', quiet = True)\n",
    "            article.nlp()\n",
    "            \n",
    "            if len(article.text) > 100:\n",
    "                self.article_content = article.text\n",
    "            else:\n",
    "                self.article_content = \"It is invalid. Go for next\"\n",
    "            \n",
    "        except:\n",
    "            self.article_content = \"It is invalid. Go for next\"\n",
    "        \n",
    "        \n",
    "    def clean(self):\n",
    "        stop_free = ' '.join([word for word in self.article_content.lower().split() if word not in stop])\n",
    "        punc_free = ''.join(ch for ch in stop_free if ch not in exclude)\n",
    "        normalized = ' '.join([lemma.lemmatize(word) for word in punc_free.split()])\n",
    "        self.article_cleaned =  normalized.split()"
   ]
  },
  {
   "cell_type": "code",
   "execution_count": 163,
   "metadata": {},
   "outputs": [],
   "source": [
    "def make_dictionary(bag_of_words):\n",
    "        dictionary = corpora.Dictionary(bag_of_words)\n",
    "        return dictionary\n",
    "def make_doc_term_matrix(dictionary, bag_of_words):\n",
    "        doc_term_matrix = [dictionary.doc2bow(doc) for doc in bag_of_words]\n",
    "        return doc_term_matrix\n",
    "def build_lda_model(dictionary, doc_term_matrix, lda, num_topics):\n",
    "        lda_model = lda(doc_term_matrix, num_topics = num_topics, id2word=dictionary, passes=50, minimum_probability=0)\n",
    "        return lda_model\n",
    "def print_topic_clusters(lda_model, num_topics):\n",
    "        print('\\033[1m')\n",
    "        print(\"\\nKeywords/Topics/Tags for the articles\\n\")\n",
    "        print('\\033[0m')\n",
    "        keywords_and_probs = lda_model.print_topics(num_topics=num_topics)\n",
    "        keywords_only = []\n",
    "        for i in keywords_and_probs:\n",
    "            keywords_only.append(re.findall(r'\"(.*?)\"', i[1]))\n",
    "        for i, cluster_keywords in enumerate(keywords_only):\n",
    "            print(\"Cluster\",i+1,cluster_keywords)\n",
    "def build_lda_display(lda_model, doc_term_matrix, dictionary):\n",
    "    lda_display = pyLDAvis.gensim.prepare(lda_model, doc_term_matrix, dictionary, sort_topics = False, mds='mmds')\n",
    "    return lda_display"
   ]
  },
  {
   "cell_type": "code",
   "execution_count": 181,
   "metadata": {},
   "outputs": [
    {
     "name": "stdout",
     "output_type": "stream",
     "text": [
      "Enter the number of topics we want to get(recommended less than 5) :  3\n",
      "\n",
      "Please wait...\n",
      "\n",
      "Top 5 articles are....\n",
      "https://en.wikipedia.org/wiki/Komodo_dragon\n",
      "https://www.britannica.com/animal/Komodo-dragon\n",
      "https://www.nationalgeographic.com/animals/reptiles/facts/komodo-dragon\n",
      "https://animalcorner.org/animals/komodo-dragon/\n",
      "https://theculturetrip.com/asia/indonesia/articles/11-facts-komodo-dragon-indonesias-national-animal/\n",
      "\n",
      "Building the clusters of topics....\n"
     ]
    },
    {
     "name": "stderr",
     "output_type": "stream",
     "text": [
      "WARNING:root:sklearn not present, switch to PCoA\n"
     ]
    },
    {
     "name": "stdout",
     "output_type": "stream",
     "text": [
      "\u001b[1m\n",
      "\n",
      "Keywords/Topics/Tags for the articles\n",
      "\n",
      "\u001b[0m\n",
      "Cluster 1 ['dragon', 'komodo', 'female', 'male', 'also', 'prey', 'island', 'indonesia', 'reproduction', 'specie']\n",
      "Cluster 2 ['komodo', 'dragon', 'komodos', '–', 'year', 'foot', 'lizard', 'also', 'around', 'large']\n",
      "Cluster 3 ['komodo', 'dragon', 'may', 'island', 'egg', 'prey', 'male', 'human', 'two', 'zoo']\n"
     ]
    }
   ],
   "source": [
    "top_articles = []\n",
    "for article in articles:\n",
    "    top_articles.append(top_article(article[0], article[1]))\n",
    "    \n",
    "lda = gensim.models.ldamodel.LdaModel\n",
    "\n",
    "\n",
    "num_topics = int(input(\"Enter the number of topics we want to get(recommended less than 5) :  \"))\n",
    "print(\"\\nPlease wait...\")\n",
    "\n",
    "\n",
    "count = 0\n",
    "valid_top_articles = []\n",
    "for num, article in enumerate(top_articles):\n",
    "    if count >= 5:\n",
    "        break\n",
    "    article.get_uncleaned_webcontent()\n",
    "    if article.article_content == \"It is invalid. Go for next\":\n",
    "        continue\n",
    "    count = count + 1\n",
    "    article.clean()\n",
    "    valid_top_articles.append(article)\n",
    "\n",
    "print(\"\\nTop 5 articles are....\")\n",
    "bag_of_words = []\n",
    "for num, article in enumerate(valid_top_articles):\n",
    "    print(article.article_link)\n",
    "    bag_of_words.append(article.article_cleaned)\n",
    "\n",
    "dictionary = make_dictionary(bag_of_words)\n",
    "doc_term_matrix = make_doc_term_matrix(dictionary, bag_of_words)\n",
    "\n",
    "print(\"\\nBuilding the clusters of topics....\")\n",
    "lda_model = build_lda_model(dictionary, doc_term_matrix, lda, num_topics)\n",
    "\n",
    "print_topic_clusters(lda_model, num_topics)\n",
    "lda_display = build_lda_display(lda_model, doc_term_matrix, dictionary)"
   ]
  },
  {
   "cell_type": "code",
   "execution_count": 182,
   "metadata": {},
   "outputs": [
    {
     "data": {
      "text/html": [
       "\n",
       "<link rel=\"stylesheet\" type=\"text/css\" href=\"https://cdn.jsdelivr.net/gh/bmabey/pyLDAvis@3.2.2/pyLDAvis/js/ldavis.v1.0.0.css\">\n",
       "\n",
       "\n",
       "<div id=\"ldavis_el2464423679823289525504056920\"></div>\n",
       "<script type=\"text/javascript\">\n",
       "\n",
       "var ldavis_el2464423679823289525504056920_data = {\"mdsDat\": {\"x\": [0.048201566950279176, -0.06711420566110594, 0.018912638710826764], \"y\": [0.04342517217594407, 0.014784649616440694, -0.05820982179238475], \"topics\": [1, 2, 3], \"cluster\": [1, 1, 1], \"Freq\": [9.180765743629848, 22.36634198779324, 68.45289226857692]}, \"tinfo\": {\"Term\": [\"komodo\", \"dragon\", \"komodos\", \"female\", \"\\u2013\", \"also\", \"male\", \"year\", \"population\", \"foot\", \"prey\", \"reptile\", \"reproduction\", \"back\", \"indonesia\", \"venom\", \"island\", \"specie\", \"eat\", \"habitat\", \"process\", \"around\", \"lizard\", \"shock\", \"mating\", \"taste\", \"known\", \"found\", \"name\", \"tourist\", \"home\", \"they\\u2019re\", \"established\", \"mate\", \"man\", \"temporary\", \"drawback\", \"venturing\", \"ew\", \"pregnant\", \"bleeding\", \"economic\", \"amble\", \"list\", \"thousand\", \"community\", \"replenish\", \"fish\", \"239\", \"incentive\", \"lick\", \"shark\", \"passing\", \"importance\", \"trend\", \"inbreeding\", \"sharklike\", \"thrived\", \"target\", \"sharp\", \"earth\", \"survival\", \"huge\", \"habitat\", \"dragon\\u2019s\", \"prevent\", \"prefer\", \"led\", \"threat\", \"female\", \"mile\", \"back\", \"dragon\", \"indonesia\", \"venom\", \"protect\", \"serrated\", \"conservation\", \"follow\", \"komodo\", \"name\", \"tourist\", \"reproduction\", \"also\", \"reptile\", \"population\", \"male\", \"prey\", \"island\", \"specie\", \"year\", \"pound\", \"weight\", \"diet\", \"deer\", \"10\", \"blood\", \"shock\", \"foot\", \"\\u2013\", \"ancient\", \"old\", \"fast\", \"myth\", \"meter\", \"climb\", \"little\", \"komodos\", \"younger\", \"fact\", \"and\", \"avid\", \"appetite\", \"beast\", \"sign\", \"truth\", \"cover\", \"whether\", \"swim\", \"attributed\", \"kraken\", \"instead\", \"apex\", \"certain\", \"6\", \"carnivorous\", \"easily\", \"creature\", \"kilometre\", \"per\", \"taste\", \"komodo\", \"dragon\", \"foot\", \"year\", \"3\", \"able\", \"tongue\", \"around\", \"quite\", \"predator\", \"lizard\", \"known\", \"also\", \"however\", \"carcass\", \"eat\", \"largest\", \"large\", \"animal\", \"tree\", \"egg\", \"island\", \"human\", \"water\", \"national\", \"although\", \"size\", \"long\", \"zoo\", \"specimen\", \"become\", \"ft\", \"first\", \"make\", \"habit\", \"two\", \"scientist\", \"expedition\", \"london\", \"protein\", \"period\", \"behavior\", \"researcher\", \"auffenberg\", \"osteoderms\", \"natural\", \"produced\", \"monitor\", \"attack\", \"attempt\", \"could\", \"case\", \"would\", \"flora\", \"survived\", \"observation\", \"attacked\", \"reported\", \"chromosome\", \"several\", \"may\", \"including\", \"prey\", \"mouth\", \"egg\", \"bite\", \"komodo\", \"dragon\", \"male\", \"island\", \"one\", \"human\", \"adult\", \"study\", \"specie\", \"live\", \"wild\", \"laid\", \"long\", \"female\", \"varanus\", \"size\", \"lizard\", \"animal\", \"also\", \"although\", \"year\", \"large\"], \"Freq\": [156.0, 144.0, 13.0, 16.0, 6.0, 17.0, 18.0, 15.0, 6.0, 11.0, 22.0, 6.0, 6.0, 4.0, 5.0, 5.0, 25.0, 12.0, 8.0, 3.0, 5.0, 11.0, 15.0, 4.0, 3.0, 5.0, 10.0, 6.0, 3.0, 3.0, 1.31247218617987, 0.9187124589442422, 0.9187123584360015, 0.9187123584360015, 0.5249505707814406, 0.5249505707814406, 0.5249505707814406, 0.5249505707814406, 0.5249505707814406, 0.5249505707814406, 0.5249505707814406, 0.5249505707814406, 0.5249505205273203, 0.5249505205273203, 0.5249505205273203, 0.5249505205273203, 0.5249505205273203, 0.5249505205273203, 0.5249505205273203, 0.5249505205273203, 0.5249505205273203, 0.5249505205273203, 0.5249505205273203, 0.5249505205273203, 0.5249505205273203, 0.5249505205273203, 0.5249505205273203, 0.5249505205273203, 0.5249505205273203, 0.5249505205273203, 0.9188062331327583, 0.9188062331327583, 0.9188062331327583, 1.3126981287048263, 0.9196170331099922, 0.9187491444520753, 0.9187491444520753, 0.9187491444520753, 0.9187489434355941, 3.281943423504365, 0.9187627130645617, 1.3126582269332927, 7.610643990296186, 1.3130291023412501, 1.3126281749693416, 0.9188539745470617, 0.9188431196570728, 0.9188430191488322, 0.918842516607629, 7.216402426554935, 0.9187292438204289, 0.918728942295707, 1.312897537054254, 2.100101998699347, 1.3126227475243473, 1.3124437423477693, 2.100194868313698, 1.706312923057453, 1.706159547482238, 1.31275220213829, 1.3122329765671494, 0.9195993436596398, 0.91933822325046, 0.9189838311939672, 0.9189403111257706, 0.9189307628429099, 0.9189096561123757, 0.9188899564972105, 0.918870055865564, 6.328325627705913, 2.0413021313820234, 2.0413024986719224, 2.0413024986719224, 2.0413018865220907, 2.0413018865220907, 2.0413018865220907, 2.041301396802225, 10.615757427967688, 1.4288669152166564, 1.4288669152166564, 1.4288669152166564, 1.4288669152166564, 1.42886679278669, 1.4288669152166564, 1.4288669152166564, 1.42886679278669, 1.4288669152166564, 1.42886679278669, 1.42886679278669, 1.4288665479267573, 1.4288665479267573, 1.42886679278669, 1.42886679278669, 1.42886679278669, 1.42886679278669, 1.4288665479267573, 1.4288664254967909, 1.4288663030668245, 1.4288663030668245, 2.0413956678763396, 3.266253000200671, 38.17536382551325, 33.88774887002177, 5.105647426353228, 5.716056304144994, 3.2673462998004688, 3.2661792973609085, 3.26617856278111, 4.491311484959769, 2.0413634687951814, 2.6539440093306443, 5.10462146323494, 3.8785406882565465, 5.103584726279611, 2.6543791254311686, 2.6537530185830875, 3.266719213512656, 3.266497125553638, 3.8790617501934714, 3.878688338796004, 3.2663320899589543, 3.878409688192517, 3.878269873170908, 3.266101431902289, 2.6537728522376414, 2.6536619306880986, 2.6539515999885603, 2.6536927830396273, 2.653749345684096, 12.70800918537668, 7.735156083535384, 6.90633749100879, 6.077536134717069, 6.077536134717069, 5.248725785607154, 5.248714169883652, 12.70872561322621, 4.419915436497239, 4.419915436497239, 4.41991506179648, 4.41991506179648, 4.41991506179648, 4.41991506179648, 4.41991506179648, 4.4199143123949645, 4.4199143123949645, 4.419913562993448, 4.419900823167672, 10.222102719108305, 10.22210196970679, 3.5911032138835326, 3.5911032138835326, 3.5911032138835326, 3.5911032138835326, 3.5911028391827746, 3.5911028391827746, 3.5911028391827746, 3.5911028391827746, 3.5911028391827746, 7.73545809234643, 6.906510602759042, 20.99700896068926, 6.077762079274216, 18.510479741760886, 6.906632755206189, 19.339969798046035, 8.564508249941543, 111.3408974202737, 103.05260058358336, 15.19530729026072, 20.167949060874438, 11.05131624623396, 14.366613098385823, 10.221721273736538, 8.56435911903981, 10.221449990387656, 7.735236269497622, 8.564711337752446, 6.077850883353892, 10.222149182002312, 11.87930749948662, 6.9064768796908105, 9.393069048346549, 10.220815996704914, 9.393435505687993, 10.221233413349463, 7.734866065148597, 8.564296169312446, 7.735149338921738], \"Total\": [156.0, 144.0, 13.0, 16.0, 6.0, 17.0, 18.0, 15.0, 6.0, 11.0, 22.0, 6.0, 6.0, 4.0, 5.0, 5.0, 25.0, 12.0, 8.0, 3.0, 5.0, 11.0, 15.0, 4.0, 3.0, 5.0, 10.0, 6.0, 3.0, 3.0, 1.7928943392904007, 1.3991330851634576, 1.3991331214625717, 1.399133242966181, 1.0053701174012337, 1.0053701255162855, 1.005370126442643, 1.005370169574808, 1.0053701705011655, 1.0053702020350144, 1.0053702101500661, 1.0053702110764233, 1.0053701346244335, 1.0053701346244335, 1.0053701346244335, 1.0053701436658424, 1.0053701517808942, 1.005370158043231, 1.0053701589695883, 1.0053701598959457, 1.0053701598959457, 1.0053701751996915, 1.0053701814620284, 1.0053701842411005, 1.00537018957708, 1.0053701905034373, 1.0053701986184889, 1.0053702048808257, 1.0053702058071832, 1.0053702129958773, 2.011371719769966, 2.0113717501552926, 2.011372007762064, 3.2333972047398087, 2.2264954375855885, 2.2274640648303308, 2.2274641775146957, 2.2274641872602974, 2.227463913912544, 16.589022457298416, 2.6238369429171375, 4.891120857748049, 144.5509934439013, 5.503011515072153, 5.503566048415848, 2.839697844892729, 2.839704224761882, 2.8397042068125424, 2.8397046336123752, 156.73266367234189, 3.0563199217875248, 3.0563204271738726, 6.3320087808597005, 17.42492013832842, 6.548814539502603, 6.7653899229563725, 18.723442891095388, 22.257409922968417, 25.752378481527586, 12.962758625347856, 15.59258545002459, 4.27979213458215, 4.496735481701606, 5.326018696714495, 5.938429304029473, 8.208412941652675, 8.641400579005522, 4.713774104053982, 11.269993113449996, 6.735870016944988, 2.448831959859606, 2.4488325133973112, 2.4488326379300402, 2.448831949187647, 2.448832175331188, 2.448832605519664, 2.448832800069711, 13.508782614499006, 1.8363962348168659, 1.8363962816544608, 1.8363963319085808, 1.8363963770379128, 1.836396270588002, 1.8363964364390377, 1.8363964364390377, 1.8363962814432695, 1.8363964455860424, 1.8363963625549289, 1.8363963768267217, 1.8363961679491163, 1.836396279918315, 1.8363966658967228, 1.8363967252978475, 1.8363967487166448, 1.836396894959908, 1.8363967723187506, 1.8363967092899092, 1.8363967776268475, 1.8363968793464693, 2.842568186030324, 5.330876244909844, 156.73266367234189, 144.5509934439013, 11.269993113449996, 15.59258545002459, 6.988113750727537, 6.988536887691394, 6.988535196745501, 11.922638646082339, 3.277181320141289, 5.112224587432092, 15.850028010203326, 10.087430861668988, 17.42492013832842, 5.54705623480449, 5.547285283234292, 8.604571795925601, 8.646044590896063, 12.138884608931328, 13.796721128799593, 10.30372650775632, 23.74276962307019, 25.752378481527586, 18.157261258958666, 9.256461742192528, 9.650148571039363, 10.520081025378591, 12.96537860648533, 13.400587927804548, 13.043420243274744, 8.070561123598207, 7.241747146543665, 6.4129401877919445, 6.412940271808394, 5.584129600182269, 5.584124153415169, 13.6558950836766, 4.755317779379853, 4.7553178072471285, 4.755317545618141, 4.75531767306342, 4.7553177237826585, 4.755317780654759, 4.755317919991138, 4.755317221308862, 4.755317366332983, 4.755316726797903, 4.755311551360109, 11.169414495678224, 11.169414110619082, 3.9265051035993226, 3.92650513694703, 3.9265051709671672, 3.9265051992995614, 3.926504891759337, 3.9265049251070443, 3.92650494041079, 3.9265049497689857, 3.926504995680223, 8.464421120844356, 7.63553922694919, 23.781354378423323, 6.806760254012319, 22.257409922968417, 7.854111763612466, 23.74276962307019, 9.905539870304139, 156.73266367234189, 144.5509934439013, 18.723442891095388, 25.752378481527586, 13.398303534768012, 18.157261258958666, 12.394188811770885, 10.124201264728228, 12.962758625347856, 9.295308045353506, 10.518098754208157, 7.025310227897997, 13.400587927804548, 16.589022457298416, 8.247755315824822, 12.96537860648533, 15.850028010203326, 13.796721128799593, 17.42492013832842, 10.520081025378591, 15.59258545002459, 12.138884608931328], \"Category\": [\"Default\", \"Default\", \"Default\", \"Default\", \"Default\", \"Default\", \"Default\", \"Default\", \"Default\", \"Default\", \"Default\", \"Default\", \"Default\", \"Default\", \"Default\", \"Default\", \"Default\", \"Default\", \"Default\", \"Default\", \"Default\", \"Default\", \"Default\", \"Default\", \"Default\", \"Default\", \"Default\", \"Default\", \"Default\", \"Default\", \"Topic1\", \"Topic1\", \"Topic1\", \"Topic1\", \"Topic1\", \"Topic1\", \"Topic1\", \"Topic1\", \"Topic1\", \"Topic1\", \"Topic1\", \"Topic1\", \"Topic1\", \"Topic1\", \"Topic1\", \"Topic1\", \"Topic1\", \"Topic1\", \"Topic1\", \"Topic1\", \"Topic1\", \"Topic1\", \"Topic1\", \"Topic1\", \"Topic1\", \"Topic1\", \"Topic1\", \"Topic1\", \"Topic1\", \"Topic1\", \"Topic1\", \"Topic1\", \"Topic1\", \"Topic1\", \"Topic1\", \"Topic1\", \"Topic1\", \"Topic1\", \"Topic1\", \"Topic1\", \"Topic1\", \"Topic1\", \"Topic1\", \"Topic1\", \"Topic1\", \"Topic1\", \"Topic1\", \"Topic1\", \"Topic1\", \"Topic1\", \"Topic1\", \"Topic1\", \"Topic1\", \"Topic1\", \"Topic1\", \"Topic1\", \"Topic1\", \"Topic1\", \"Topic1\", \"Topic1\", \"Topic1\", \"Topic1\", \"Topic1\", \"Topic1\", \"Topic1\", \"Topic1\", \"Topic1\", \"Topic1\", \"Topic1\", \"Topic2\", \"Topic2\", \"Topic2\", \"Topic2\", \"Topic2\", \"Topic2\", \"Topic2\", \"Topic2\", \"Topic2\", \"Topic2\", \"Topic2\", \"Topic2\", \"Topic2\", \"Topic2\", \"Topic2\", \"Topic2\", \"Topic2\", \"Topic2\", \"Topic2\", \"Topic2\", \"Topic2\", \"Topic2\", \"Topic2\", \"Topic2\", \"Topic2\", \"Topic2\", \"Topic2\", \"Topic2\", \"Topic2\", \"Topic2\", \"Topic2\", \"Topic2\", \"Topic2\", \"Topic2\", \"Topic2\", \"Topic2\", \"Topic2\", \"Topic2\", \"Topic2\", \"Topic2\", \"Topic2\", \"Topic2\", \"Topic2\", \"Topic2\", \"Topic2\", \"Topic2\", \"Topic2\", \"Topic2\", \"Topic2\", \"Topic2\", \"Topic2\", \"Topic2\", \"Topic2\", \"Topic2\", \"Topic2\", \"Topic2\", \"Topic2\", \"Topic2\", \"Topic2\", \"Topic2\", \"Topic3\", \"Topic3\", \"Topic3\", \"Topic3\", \"Topic3\", \"Topic3\", \"Topic3\", \"Topic3\", \"Topic3\", \"Topic3\", \"Topic3\", \"Topic3\", \"Topic3\", \"Topic3\", \"Topic3\", \"Topic3\", \"Topic3\", \"Topic3\", \"Topic3\", \"Topic3\", \"Topic3\", \"Topic3\", \"Topic3\", \"Topic3\", \"Topic3\", \"Topic3\", \"Topic3\", \"Topic3\", \"Topic3\", \"Topic3\", \"Topic3\", \"Topic3\", \"Topic3\", \"Topic3\", \"Topic3\", \"Topic3\", \"Topic3\", \"Topic3\", \"Topic3\", \"Topic3\", \"Topic3\", \"Topic3\", \"Topic3\", \"Topic3\", \"Topic3\", \"Topic3\", \"Topic3\", \"Topic3\", \"Topic3\", \"Topic3\", \"Topic3\", \"Topic3\", \"Topic3\", \"Topic3\", \"Topic3\", \"Topic3\", \"Topic3\", \"Topic3\", \"Topic3\", \"Topic3\"], \"logprob\": [30.0, 29.0, 28.0, 27.0, 26.0, 25.0, 24.0, 23.0, 22.0, 21.0, 20.0, 19.0, 18.0, 17.0, 16.0, 15.0, 14.0, 13.0, 12.0, 11.0, 10.0, 9.0, 8.0, 7.0, 6.0, 5.0, 4.0, 3.0, 2.0, 1.0, -5.7958, -6.1525, -6.1525, -6.1525, -6.7121, -6.7121, -6.7121, -6.7121, -6.7121, -6.7121, -6.7121, -6.7121, -6.7121, -6.7121, -6.7121, -6.7121, -6.7121, -6.7121, -6.7121, -6.7121, -6.7121, -6.7121, -6.7121, -6.7121, -6.7121, -6.7121, -6.7121, -6.7121, -6.7121, -6.7121, -6.1524, -6.1524, -6.1524, -5.7956, -6.1515, -6.1524, -6.1524, -6.1524, -6.1524, -4.8792, -6.1524, -5.7956, -4.0381, -5.7953, -5.7957, -6.1523, -6.1523, -6.1523, -6.1523, -4.0913, -6.1524, -6.1524, -5.7954, -5.3257, -5.7957, -5.7958, -5.3257, -5.5333, -5.5334, -5.7956, -5.796, -6.1515, -6.1518, -6.1522, -6.1522, -6.1522, -6.1523, -6.1523, -6.1523, -5.1131, -6.2445, -6.2445, -6.2445, -6.2445, -6.2445, -6.2445, -6.2445, -4.5958, -6.6012, -6.6012, -6.6012, -6.6012, -6.6012, -6.6012, -6.6012, -6.6012, -6.6012, -6.6012, -6.6012, -6.6012, -6.6012, -6.6012, -6.6012, -6.6012, -6.6012, -6.6012, -6.6012, -6.6012, -6.6012, -6.2445, -5.7745, -3.3159, -3.4351, -5.3278, -5.2149, -5.7742, -5.7745, -5.7745, -5.456, -6.2445, -5.9821, -5.328, -5.6027, -5.3282, -5.9819, -5.9822, -5.7743, -5.7744, -5.6025, -5.6026, -5.7745, -5.6027, -5.6027, -5.7745, -5.9821, -5.9822, -5.9821, -5.9822, -5.9822, -5.5345, -6.0309, -6.1443, -6.2721, -6.2721, -6.4187, -6.4187, -5.5344, -6.5906, -6.5906, -6.5906, -6.5906, -6.5906, -6.5906, -6.5906, -6.5906, -6.5906, -6.5906, -6.5906, -5.7522, -5.7522, -6.7983, -6.7983, -6.7983, -6.7983, -6.7983, -6.7983, -6.7983, -6.7983, -6.7983, -6.0309, -6.1443, -5.0323, -6.2721, -5.1584, -6.1442, -5.1145, -5.9291, -3.3641, -3.4415, -5.3557, -5.0726, -5.6742, -5.4118, -5.7522, -5.9291, -5.7522, -6.0309, -5.9291, -6.2721, -5.7522, -5.6019, -6.1443, -5.8367, -5.7523, -5.8367, -5.7523, -6.031, -5.9291, -6.0309], \"loglift\": [30.0, 29.0, 28.0, 27.0, 26.0, 25.0, 24.0, 23.0, 22.0, 21.0, 20.0, 19.0, 18.0, 17.0, 16.0, 15.0, 14.0, 13.0, 12.0, 11.0, 10.0, 9.0, 8.0, 7.0, 6.0, 5.0, 4.0, 3.0, 2.0, 1.0, 2.0761, 1.9674, 1.9674, 1.9674, 1.7383, 1.7383, 1.7383, 1.7383, 1.7383, 1.7383, 1.7383, 1.7383, 1.7383, 1.7383, 1.7383, 1.7383, 1.7383, 1.7383, 1.7383, 1.7383, 1.7383, 1.7383, 1.7383, 1.7383, 1.7383, 1.7383, 1.7383, 1.7383, 1.7383, 1.7383, 1.6046, 1.6046, 1.6046, 1.4866, 1.5038, 1.5025, 1.5025, 1.5025, 1.5025, 0.7678, 1.3387, 1.0727, -0.556, 0.9551, 0.9547, 1.2597, 1.2597, 1.2597, 1.2597, -0.6901, 1.1861, 1.1861, 0.8147, 0.2721, 0.7808, 0.7481, 0.2003, -0.1803, -0.3262, 0.0981, -0.087, 0.8503, 0.8006, 0.631, 0.5221, 0.1984, 0.1469, 0.753, -0.1187, 1.4352, 1.3156, 1.3156, 1.3156, 1.3156, 1.3156, 1.3156, 1.3156, 1.2566, 1.2467, 1.2467, 1.2467, 1.2467, 1.2467, 1.2467, 1.2467, 1.2467, 1.2467, 1.2467, 1.2467, 1.2467, 1.2467, 1.2467, 1.2467, 1.2467, 1.2467, 1.2467, 1.2467, 1.2467, 1.2467, 1.1665, 1.0077, 0.0853, 0.047, 0.7058, 0.4941, 0.7374, 0.737, 0.737, 0.5213, 1.0242, 0.842, 0.3646, 0.5418, 0.2697, 0.7606, 0.7603, 0.5291, 0.5242, 0.3568, 0.2287, 0.3488, -0.3142, -0.3955, -0.2179, 0.2483, 0.2066, 0.1204, -0.0887, -0.1217, 0.353, 0.3366, 0.3316, 0.3253, 0.3253, 0.3171, 0.3171, 0.3071, 0.3059, 0.3059, 0.3059, 0.3059, 0.3059, 0.3059, 0.3059, 0.3059, 0.3059, 0.3059, 0.3059, 0.2904, 0.2904, 0.2897, 0.2897, 0.2897, 0.2897, 0.2897, 0.2897, 0.2897, 0.2897, 0.2897, 0.289, 0.2787, 0.2545, 0.2657, 0.1947, 0.2505, 0.1739, 0.2336, 0.0371, 0.0406, 0.1702, 0.1346, 0.1864, 0.1449, 0.1863, 0.2117, 0.1414, 0.1953, 0.1736, 0.2342, 0.1083, 0.0451, 0.2015, 0.0567, -0.0597, -0.0054, -0.1544, 0.0715, -0.2202, -0.0716]}, \"token.table\": {\"Topic\": [1, 2, 3, 1, 2, 3, 2, 2, 3, 2, 3, 1, 2, 3, 2, 3, 1, 2, 2, 1, 2, 3, 2, 2, 1, 2, 3, 2, 3, 3, 3, 2, 3, 2, 1, 2, 3, 2, 3, 3, 1, 2, 3, 1, 1, 2, 3, 2, 3, 2, 3, 2, 1, 3, 2, 1, 1, 2, 3, 3, 2, 2, 1, 2, 3, 1, 2, 3, 1, 2, 3, 1, 3, 1, 1, 2, 2, 1, 2, 3, 1, 1, 2, 3, 1, 1, 3, 2, 2, 1, 2, 3, 3, 1, 3, 1, 2, 3, 1, 2, 3, 1, 2, 3, 3, 3, 1, 2, 3, 1, 2, 3, 1, 2, 1, 2, 3, 1, 1, 1, 1, 3, 1, 2, 3, 2, 1, 2, 3, 2, 2, 3, 1, 2, 3, 2, 3, 2, 2, 3, 1, 2, 3, 2, 3, 1, 3, 1, 1, 2, 2, 3, 1, 2, 3, 3, 1, 2, 3, 3, 1, 2, 3, 1, 1, 1, 3, 2, 3, 2, 1, 2, 2, 3, 2, 3, 2, 1, 3, 1, 2, 3, 3, 3, 2, 1, 2, 3, 3, 1, 1, 2, 3, 1, 3, 1, 2, 3, 1, 2, 3, 1, 3, 1, 1, 3, 1, 2, 3, 1, 3, 3, 1, 2, 3, 3, 2, 3, 1, 3, 1, 2, 3, 1, 2, 3, 3, 3, 1, 2, 3, 1, 3, 1, 1, 1, 1, 3, 2, 1, 2, 3, 1, 2, 3, 3, 2, 3, 1, 2, 3, 2, 1, 2, 3, 1, 1, 1, 1, 3, 1, 2, 3, 1, 3, 2, 3, 1, 2, 2, 3, 1, 2, 3, 1, 2, 3, 1, 1, 2, 3, 1, 2, 3, 2, 1, 2, 3, 3, 1, 2, 3, 2, 3, 2], \"Freq\": [0.12182622963881504, 0.24365245927763007, 0.6091311481940752, 0.9946585255970873, 0.42930039593125796, 0.572400527908344, 0.5445445931348255, 0.42927440295604213, 0.5723658706080562, 0.16136594579716101, 0.8068297289858051, 0.11477814441173449, 0.2869453610293362, 0.5738907220586724, 0.2851689062815025, 0.7604504167506733, 0.9946585496828593, 0.8167159007981348, 0.544544760095819, 0.07248098955284216, 0.2899239582113686, 0.6523289059755795, 0.5445446434445197, 0.5445447782791492, 0.08387405084432296, 0.33549620337729186, 0.5871183559102607, 0.08953021081466318, 0.8953021081466318, 1.018717676705167, 1.0187176367944375, 0.5445448087145586, 0.8411636519380369, 0.5445447467136637, 0.20445211416436274, 0.20445211416436274, 0.6133563424930882, 0.5445447290995092, 0.9666175659475978, 0.8411635529958715, 0.10095360910089357, 0.10095360910089357, 0.9085824819080421, 0.9946584749619103, 0.11572198173864577, 0.11572198173864577, 0.8100538721705204, 0.5408050689347058, 0.5408050689347058, 0.5445446295014649, 1.0187176193160927, 0.5445446365001704, 0.11814156995773935, 0.9451325596619148, 0.8167156854625358, 0.9946585407377809, 0.3521493533027023, 0.3521493533027023, 0.3521493533027023, 1.0187176281424948, 0.5445447263871575, 0.544544627927461, 0.1683946964429564, 0.1683946964429564, 0.6735787857718256, 0.18775750836490268, 0.18775750836490268, 0.7510300334596107, 0.05534379120752785, 0.23521111263199335, 0.7125513117969211, 0.44913633467149605, 0.44913633467149605, 0.9946585577774781, 0.49717314316936245, 0.49717314316936245, 0.5445446481913356, 0.11621728817156428, 0.3486518645146929, 0.4648691526862571, 0.994658474045423, 0.04211808545824948, 0.16847234183299792, 0.8002436237067402, 0.7147282732858605, 0.9946585141883725, 0.8411635482919732, 0.5445447749976231, 0.8167156746532783, 0.1808424822934721, 0.06028082743115737, 0.7233699291738884, 0.9356082772790353, 0.9946585265135748, 1.0187176917555634, 0.3521493003756185, 0.3521493003756185, 0.3521493003756185, 0.08873119885109475, 0.44365599425547375, 0.44365599425547375, 0.1526444955798525, 0.305288991159705, 0.61057798231941, 0.9356082895365152, 0.8953955647533505, 0.3092722411382396, 0.3092722411382396, 0.3092722411382396, 0.5577573525028722, 0.5408273997975319, 0.5408273997975319, 0.49717307198315913, 0.49717307198315913, 0.05507438515853304, 0.1652231554755991, 0.7710413922194624, 0.9946585005948291, 0.994658494399214, 0.9946585246805998, 0.14691276946481832, 0.8814766167889099, 0.1817186820818216, 0.1817186820818216, 0.5451560462454649, 0.5445446610586686, 0.07766272934496586, 0.15532545868993172, 0.7766272934496586, 0.54454459776466, 0.3965330771385521, 0.5947996157078281, 0.044662036846600646, 0.24245105716726065, 0.7082122985675245, 0.8142850702322855, 0.22207774642698694, 0.5445447755124406, 0.14234246852600618, 0.8540548111560372, 0.08237989174592188, 0.3295195669836875, 0.659039133967375, 0.3469794734992322, 0.5782991224987203, 0.4489410001379034, 0.4489410001379034, 0.9946585246805998, 0.9946585496828593, 0.8167156205777161, 0.10758115762498857, 0.8606492609999086, 0.06309137115443948, 0.3154568557721974, 0.6309137115443948, 0.8411635945712733, 0.0746235915459444, 0.2238707746378332, 0.746235915459444, 0.89539469138338, 0.10681796139913843, 0.05340898069956922, 0.8011347104935382, 0.994658566722557, 0.7147282112173868, 0.25738968844958804, 0.7721690653487642, 0.12614924920852622, 0.8830447444596835, 0.8167158289356898, 0.38112124409995424, 0.38112124409995424, 0.08953020772816064, 0.8953020772816064, 0.12732184492623697, 0.8912529144836588, 0.8167159043573659, 0.3271908784389097, 0.6543817568778194, 0.10362534759320245, 0.3108760427796074, 0.6217520855592148, 0.8411637394116307, 1.0187176791331176, 0.8167157161864707, 0.07463631476963063, 0.07463631476963063, 0.8209994624659369, 0.8411636262848553, 0.9946585033442916, 0.3517945514603505, 0.703589102920701, 0.8411635630559224, 0.14781114043505347, 0.7390557021752674, 0.23365620772085305, 0.23365620772085305, 0.4673124154417061, 0.19560955957576728, 0.5868286787273018, 0.39121911915153457, 0.44894100210211013, 0.44894100210211013, 0.9946584829905001, 0.4489410248134223, 0.4489410248134223, 0.08985771511248981, 0.08985771511248981, 0.8536482935686532, 0.18041909369160822, 0.7216763747664329, 0.8411646548912077, 0.3521501422408466, 0.3521501422408466, 0.3521501422408466, 0.8411635720275997, 0.6102805443532108, 0.3051402721766054, 0.9946585327091901, 1.0187176647936607, 0.15792776583361423, 0.15792776583361423, 0.6317110633344569, 0.1526993922286204, 0.1526993922286204, 0.6107975689144816, 0.8411635283487953, 0.8411635532213886, 0.3521493510768197, 0.3521493510768197, 0.3521493510768197, 0.13096651988513902, 0.9167656391959731, 0.9946585095399066, 0.9946584863706243, 0.9946584721464199, 0.2121442347311406, 0.8485769389245624, 0.5445447290995092, 0.07712848427733504, 0.23138545283200515, 0.6941563584960154, 0.07714407317934341, 0.07714407317934341, 0.7714407317934341, 0.9912569742651615, 0.09877322406498443, 0.8889590165848599, 0.49717313565868304, 0.49717313565868304, 1.0187176831036198, 0.5445447467762881, 0.9946584792585219, 0.5627592654893334, 0.3751728436595556, 0.9946585586939658, 0.7147282918287735, 0.9946585496828593, 0.448941055230609, 0.448941055230609, 0.9946584801750095, 0.4292745068232715, 0.5723660090976954, 0.3271908243353538, 0.6543816486707076, 0.29115679630488006, 0.6793658580447202, 0.9946584953157016, 0.5445447750602475, 0.07322844777823002, 0.9519698211169902, 0.12124510993692038, 0.12124510993692038, 0.8487157695584426, 0.18170037230457894, 0.18170037230457894, 0.5451011169137369, 0.9946585151048601, 0.10803264010068014, 0.32409792030204043, 0.6481958406040809, 0.2223835500374131, 0.2223835500374131, 0.6671506501122393, 0.5445447510082883, 0.09507421667817226, 0.09507421667817226, 0.8556679501035502, 1.0187176119653552, 0.06413304600478703, 0.38479827602872224, 0.5771974140430833, 0.5445447888863292, 0.9966710998752699, 0.8907535307103897], \"Term\": [\"10\", \"10\", \"10\", \"239\", \"3\", \"3\", \"6\", \"able\", \"able\", \"adult\", \"adult\", \"also\", \"also\", \"also\", \"although\", \"although\", \"amble\", \"ancient\", \"and\", \"animal\", \"animal\", \"animal\", \"apex\", \"appetite\", \"around\", \"around\", \"around\", \"attack\", \"attack\", \"attacked\", \"attempt\", \"attributed\", \"auffenberg\", \"avid\", \"back\", \"back\", \"back\", \"beast\", \"become\", \"behavior\", \"bite\", \"bite\", \"bite\", \"bleeding\", \"blood\", \"blood\", \"blood\", \"carcass\", \"carcass\", \"carnivorous\", \"case\", \"certain\", \"chromosome\", \"chromosome\", \"climb\", \"community\", \"conservation\", \"conservation\", \"conservation\", \"could\", \"cover\", \"creature\", \"deer\", \"deer\", \"deer\", \"diet\", \"diet\", \"diet\", \"dragon\", \"dragon\", \"dragon\", \"dragon\\u2019s\", \"dragon\\u2019s\", \"drawback\", \"earth\", \"earth\", \"easily\", \"eat\", \"eat\", \"eat\", \"economic\", \"egg\", \"egg\", \"egg\", \"established\", \"ew\", \"expedition\", \"fact\", \"fast\", \"female\", \"female\", \"female\", \"first\", \"fish\", \"flora\", \"follow\", \"follow\", \"follow\", \"foot\", \"foot\", \"foot\", \"found\", \"found\", \"found\", \"ft\", \"habit\", \"habitat\", \"habitat\", \"habitat\", \"home\", \"however\", \"however\", \"huge\", \"huge\", \"human\", \"human\", \"human\", \"importance\", \"inbreeding\", \"incentive\", \"including\", \"including\", \"indonesia\", \"indonesia\", \"indonesia\", \"instead\", \"island\", \"island\", \"island\", \"kilometre\", \"known\", \"known\", \"komodo\", \"komodo\", \"komodo\", \"komodos\", \"komodos\", \"kraken\", \"laid\", \"laid\", \"large\", \"large\", \"large\", \"largest\", \"largest\", \"led\", \"led\", \"lick\", \"list\", \"little\", \"live\", \"live\", \"lizard\", \"lizard\", \"lizard\", \"london\", \"long\", \"long\", \"long\", \"make\", \"male\", \"male\", \"male\", \"man\", \"mate\", \"mating\", \"mating\", \"may\", \"may\", \"meter\", \"mile\", \"mile\", \"monitor\", \"monitor\", \"mouth\", \"mouth\", \"myth\", \"name\", \"name\", \"national\", \"national\", \"national\", \"natural\", \"observation\", \"old\", \"one\", \"one\", \"one\", \"osteoderms\", \"passing\", \"per\", \"per\", \"period\", \"population\", \"population\", \"pound\", \"pound\", \"pound\", \"predator\", \"predator\", \"predator\", \"prefer\", \"prefer\", \"pregnant\", \"prevent\", \"prevent\", \"prey\", \"prey\", \"prey\", \"process\", \"process\", \"produced\", \"protect\", \"protect\", \"protect\", \"protein\", \"quite\", \"quite\", \"replenish\", \"reported\", \"reproduction\", \"reproduction\", \"reproduction\", \"reptile\", \"reptile\", \"reptile\", \"researcher\", \"scientist\", \"serrated\", \"serrated\", \"serrated\", \"several\", \"several\", \"shark\", \"sharklike\", \"sharp\", \"shock\", \"shock\", \"sign\", \"size\", \"size\", \"size\", \"specie\", \"specie\", \"specie\", \"specimen\", \"study\", \"study\", \"survival\", \"survival\", \"survived\", \"swim\", \"target\", \"taste\", \"taste\", \"temporary\", \"they\\u2019re\", \"thousand\", \"threat\", \"threat\", \"thrived\", \"tongue\", \"tongue\", \"tourist\", \"tourist\", \"tree\", \"tree\", \"trend\", \"truth\", \"two\", \"two\", \"varanus\", \"varanus\", \"varanus\", \"venom\", \"venom\", \"venom\", \"venturing\", \"water\", \"water\", \"water\", \"weight\", \"weight\", \"weight\", \"whether\", \"wild\", \"wild\", \"wild\", \"would\", \"year\", \"year\", \"year\", \"younger\", \"zoo\", \"\\u2013\"]}, \"R\": 30, \"lambda.step\": 0.01, \"plot.opts\": {\"xlab\": \"PC1\", \"ylab\": \"PC2\"}, \"topic.order\": [1, 2, 3]};\n",
       "\n",
       "function LDAvis_load_lib(url, callback){\n",
       "  var s = document.createElement('script');\n",
       "  s.src = url;\n",
       "  s.async = true;\n",
       "  s.onreadystatechange = s.onload = callback;\n",
       "  s.onerror = function(){console.warn(\"failed to load library \" + url);};\n",
       "  document.getElementsByTagName(\"head\")[0].appendChild(s);\n",
       "}\n",
       "\n",
       "if(typeof(LDAvis) !== \"undefined\"){\n",
       "   // already loaded: just create the visualization\n",
       "   !function(LDAvis){\n",
       "       new LDAvis(\"#\" + \"ldavis_el2464423679823289525504056920\", ldavis_el2464423679823289525504056920_data);\n",
       "   }(LDAvis);\n",
       "}else if(typeof define === \"function\" && define.amd){\n",
       "   // require.js is available: use it to load d3/LDAvis\n",
       "   require.config({paths: {d3: \"https://d3js.org/d3.v5\"}});\n",
       "   require([\"d3\"], function(d3){\n",
       "      window.d3 = d3;\n",
       "      LDAvis_load_lib(\"https://cdn.jsdelivr.net/gh/bmabey/pyLDAvis@3.2.2/pyLDAvis/js/ldavis.v3.0.0.js\", function(){\n",
       "        new LDAvis(\"#\" + \"ldavis_el2464423679823289525504056920\", ldavis_el2464423679823289525504056920_data);\n",
       "      });\n",
       "    });\n",
       "}else{\n",
       "    // require.js not available: dynamically load d3 & LDAvis\n",
       "    LDAvis_load_lib(\"https://d3js.org/d3.v5.js\", function(){\n",
       "         LDAvis_load_lib(\"https://cdn.jsdelivr.net/gh/bmabey/pyLDAvis@3.2.2/pyLDAvis/js/ldavis.v3.0.0.js\", function(){\n",
       "                 new LDAvis(\"#\" + \"ldavis_el2464423679823289525504056920\", ldavis_el2464423679823289525504056920_data);\n",
       "            })\n",
       "         });\n",
       "}\n",
       "</script>"
      ],
      "text/plain": [
       "<IPython.core.display.HTML object>"
      ]
     },
     "execution_count": 182,
     "metadata": {},
     "output_type": "execute_result"
    }
   ],
   "source": [
    "pyLDAvis.display(lda_display)"
   ]
  },
  {
   "cell_type": "markdown",
   "metadata": {},
   "source": [
    "##### 1. Which ML/DL model architecture you used and why?\n",
    "- I am using webscrapping by utilising the yahoo's search engine to get the most relevant articles for the given query.\n",
    "- I have used LDA i.e. <b>Latent Dirichlet Model</b> to train my model primarily because it is currently one of the most popular topic modelling technique.\n",
    "- There are other techniques as well such Term Frequency and Inverse Document Frequency, NonNegative Matrix Factorization techniques which I haven't used for now.\n",
    "\n",
    "##### 2. How would you ensure the scalability of your solution?\n",
    "- j\n",
    "\n",
    "##### 3. Is there a need for any dataset? If yes then how much data is sufficient to train the model in order to get the required results?\n",
    "- We are scrapping the top query relevant articles from the web. So, the result of this webscrapping would be multiple web articles out of which we have to ensure few parameters as follows:\n",
    "    - articles text size\n",
    "    - number of unique words in each article\n",
    "    - total vocabulary size from all the articles\n",
    "    - Permission to scrap the website\n",
    "- Once we make sure that we satisfy the above parameters then we are good to select our top five required articles.\n",
    "\n",
    "##### 4. Is there a need to create manual datasets, if yes then what parameters and sample size did you consider to create a dataset? \n",
    "- No.\n",
    "- If we use potentially strong search engine then we will always get enough number of articles.\n",
    "- Even if the articles on the first page are not sufficient, still can move over to the next page to webscrap further articles.\n",
    "\n",
    "##### 5. Is your model and dataset generalized enough for different domains of the use cases, How?\n",
    "- Yes. As discussed in the point two, I have considered the parameters sensitive for the possible test cases.\n",
    "- Also the model I have chosed is LDA which is currently the most popular in topic modelling.\n",
    "\n",
    "##### 6. How would you train, test and deploy your model to production? \n",
    "- One of the production effiecint technique which I know is by using GCP's DataFlow Pipeline and AI Platform's tf.estimator API both of which allows us the use of multiple GPUs.\n",
    "- Using DataFlow pipeline we can have even terabytes of data in our articles which will be converted into tfrecords and get stored on the cloud storage.\n",
    "- Once the tfrecords are obtained, we can use AI Platform which allows us to perform 3 operations on the dataset anytime. i.e. i) training ii) evaluation iii) prediction\n",
    "- On AI Platform, we can deploy our model and then our code will run in the prediction mode as per the tf estimator API.\n",
    "\n",
    "##### 7. How would you perform hyperparameter tuning on your model to improve accuracy?\n",
    "- I have provided the solution with the visualization, I have observed that the topics don't get overlap mostly when I set 3 topics.\n",
    "- Possible reason for this could be a less dataset that is getting scrapped becasue we are dealling with only top 5 articles.\n",
    "- Had been the case that we were using more articles, we would have got the freedom to get the results from even more topics.\n",
    "\n",
    "##### 8. Anything else you want to let us know about your approach.\n",
    "- j"
   ]
  },
  {
   "cell_type": "markdown",
   "metadata": {},
   "source": [
    "##### <hr>\n",
    "#### Model/Code on GitHub repo or Colab Notebook with the necessary documentation describing the model functioning.\n",
    "- Code is push on my github repo on this url : \"\""
   ]
  },
  {
   "cell_type": "markdown",
   "metadata": {},
   "source": [
    "##### <hr>\n",
    "#### Only Approach to generate different types of questions (short answer type, MCQs, true/false, fill in the blanks, long answer type, etc.) for that same article.\n",
    "- We can generate questions using <b>allennlp</b> for all the articles"
   ]
  },
  {
   "cell_type": "code",
   "execution_count": null,
   "metadata": {},
   "outputs": [],
   "source": []
  },
  {
   "cell_type": "code",
   "execution_count": null,
   "metadata": {},
   "outputs": [],
   "source": []
  },
  {
   "cell_type": "code",
   "execution_count": null,
   "metadata": {},
   "outputs": [],
   "source": []
  },
  {
   "cell_type": "code",
   "execution_count": null,
   "metadata": {},
   "outputs": [],
   "source": []
  },
  {
   "cell_type": "code",
   "execution_count": 301,
   "metadata": {},
   "outputs": [],
   "source": [
    "lda_corpus = ldamodel[doc_term_matrix]"
   ]
  },
  {
   "cell_type": "code",
   "execution_count": 313,
   "metadata": {},
   "outputs": [
    {
     "data": {
      "text/plain": [
       "[(0, 0.99561673), (1, 0.0021812657), (2, 0.0022019695)]"
      ]
     },
     "execution_count": 313,
     "metadata": {},
     "output_type": "execute_result"
    }
   ],
   "source": [
    "lda_corpus[0]"
   ]
  },
  {
   "cell_type": "code",
   "execution_count": 305,
   "metadata": {},
   "outputs": [
    {
     "data": {
      "text/plain": [
       "[[(0, 0.9956169), (1, 0.002181242), (2, 0.002201817)],\n",
       " [(0, 0.9818651), (1, 0.008954969), (2, 0.009179922)],\n",
       " [(0, 0.9962419), (1, 0.0018199555), (2, 0.0019380711)],\n",
       " [(0, 0.0006109626), (1, 0.0005884432), (2, 0.9988006)],\n",
       " [(0, 0.0014595155), (1, 0.9971028), (2, 0.0014377055)]]"
      ]
     },
     "execution_count": 305,
     "metadata": {},
     "output_type": "execute_result"
    }
   ],
   "source": [
    "[doc for doc in lda_corpus]"
   ]
  },
  {
   "cell_type": "code",
   "execution_count": 306,
   "metadata": {},
   "outputs": [
    {
     "data": {
      "text/plain": [
       "0.3333333354598532"
      ]
     },
     "execution_count": 306,
     "metadata": {},
     "output_type": "execute_result"
    }
   ],
   "source": [
    "scores = list(chain(*[[score for topic_id, score in topic]\\\n",
    "                     for topic in [doc for doc in lda_corpus]]))\n",
    "threshold = sum(scores)/len(scores)\n",
    "threshold"
   ]
  },
  {
   "cell_type": "code",
   "execution_count": 314,
   "metadata": {},
   "outputs": [
    {
     "name": "stdout",
     "output_type": "stream",
     "text": [
      "3\n"
     ]
    },
    {
     "data": {
      "text/plain": [
       "[[(0, 0.9956165), (1, 0.0021812338), (2, 0.002202288)],\n",
       " [(0, 0.9818656), (1, 0.008954969), (2, 0.009179394)],\n",
       " [(0, 0.9962418), (1, 0.0018199554), (2, 0.0019382164)]]"
      ]
     },
     "execution_count": 314,
     "metadata": {},
     "output_type": "execute_result"
    }
   ],
   "source": [
    "cluster1 = [i for i in lda_corpus if i[0][1] > threshold]\n",
    "# cluster2 = [j for i,j in zip(lda_corpus, df.index) if i[0][2] > threshold]\n",
    "# cluster3 = [j for i,j in zip(lda_corpus, df.index) if i[0][3] > threshold]\n",
    "\n",
    "print(len(cluster1))\n",
    "cluster1"
   ]
  },
  {
   "cell_type": "code",
   "execution_count": null,
   "metadata": {},
   "outputs": [],
   "source": []
  },
  {
   "cell_type": "code",
   "execution_count": 4,
   "metadata": {},
   "outputs": [],
   "source": []
  },
  {
   "cell_type": "code",
   "execution_count": 14,
   "metadata": {},
   "outputs": [
    {
     "data": {
      "text/plain": [
       "'Using ArticlesSummary: This handout discusses the differences between indefinite articles (a/an) and definite articles (the).\\nLike adjectives, articles modify nouns.\\nEnglish has two articles: the and a/an.\\nIndefinite Articles: a and an\"A\" and \"an\" signal that the noun modified is indefinite, referring to any member of a group.\\nbegins with consonant \\'y\\' sound)Remember, too, that in English, the indefinite articles are used to indicate membership in a group:I am a teacher.'"
      ]
     },
     "execution_count": 14,
     "metadata": {},
     "output_type": "execute_result"
    }
   ],
   "source": [
    "article.authors\n",
    "article.publish_date\n",
    "article.top_image\n",
    "article.text\n",
    "article.summary"
   ]
  },
  {
   "cell_type": "code",
   "execution_count": null,
   "metadata": {},
   "outputs": [],
   "source": []
  }
 ],
 "metadata": {
  "kernelspec": {
   "display_name": "Python 3",
   "language": "python",
   "name": "python3"
  },
  "language_info": {
   "codemirror_mode": {
    "name": "ipython",
    "version": 3
   },
   "file_extension": ".py",
   "mimetype": "text/x-python",
   "name": "python",
   "nbconvert_exporter": "python",
   "pygments_lexer": "ipython3",
   "version": "3.7.0"
  }
 },
 "nbformat": 4,
 "nbformat_minor": 2
}
