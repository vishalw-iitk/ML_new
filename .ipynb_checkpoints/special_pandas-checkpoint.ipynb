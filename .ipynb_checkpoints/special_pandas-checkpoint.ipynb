{
 "cells": [
  {
   "cell_type": "markdown",
   "metadata": {},
   "source": [
    "### Show the pandas version"
   ]
  },
  {
   "cell_type": "code",
   "execution_count": 2,
   "metadata": {},
   "outputs": [
    {
     "data": {
      "text/plain": [
       "'1.1.5'"
      ]
     },
     "execution_count": 2,
     "metadata": {},
     "output_type": "execute_result"
    }
   ],
   "source": [
    "import pandas as pd\n",
    "pd.__version__"
   ]
  },
  {
   "cell_type": "markdown",
   "metadata": {},
   "source": [
    "### Pandas dependencies"
   ]
  },
  {
   "cell_type": "code",
   "execution_count": 13,
   "metadata": {},
   "outputs": [],
   "source": [
    "# pd.show_versions()"
   ]
  },
  {
   "cell_type": "markdown",
   "metadata": {},
   "source": [
    "### Create en example DataFrame"
   ]
  },
  {
   "cell_type": "code",
   "execution_count": 18,
   "metadata": {},
   "outputs": [
    {
     "data": {
      "text/html": [
       "<div>\n",
       "<style scoped>\n",
       "    .dataframe tbody tr th:only-of-type {\n",
       "        vertical-align: middle;\n",
       "    }\n",
       "\n",
       "    .dataframe tbody tr th {\n",
       "        vertical-align: top;\n",
       "    }\n",
       "\n",
       "    .dataframe thead th {\n",
       "        text-align: right;\n",
       "    }\n",
       "</style>\n",
       "<table border=\"1\" class=\"dataframe\">\n",
       "  <thead>\n",
       "    <tr style=\"text-align: right;\">\n",
       "      <th></th>\n",
       "      <th>col one</th>\n",
       "      <th>col two</th>\n",
       "    </tr>\n",
       "  </thead>\n",
       "  <tbody>\n",
       "    <tr>\n",
       "      <th>0</th>\n",
       "      <td>100</td>\n",
       "      <td>300</td>\n",
       "    </tr>\n",
       "    <tr>\n",
       "      <th>1</th>\n",
       "      <td>200</td>\n",
       "      <td>400</td>\n",
       "    </tr>\n",
       "  </tbody>\n",
       "</table>\n",
       "</div>"
      ],
      "text/plain": [
       "   col one  col two\n",
       "0      100      300\n",
       "1      200      400"
      ]
     },
     "execution_count": 18,
     "metadata": {},
     "output_type": "execute_result"
    }
   ],
   "source": [
    "# Creating a dataframe from a dictionary\n",
    "df = pd.DataFrame({'col one': [100, 200], 'col two': [300, 400]})\n",
    "df"
   ]
  },
  {
   "cell_type": "code",
   "execution_count": 10,
   "metadata": {},
   "outputs": [
    {
     "data": {
      "text/html": [
       "<div>\n",
       "<style scoped>\n",
       "    .dataframe tbody tr th:only-of-type {\n",
       "        vertical-align: middle;\n",
       "    }\n",
       "\n",
       "    .dataframe tbody tr th {\n",
       "        vertical-align: top;\n",
       "    }\n",
       "\n",
       "    .dataframe thead th {\n",
       "        text-align: right;\n",
       "    }\n",
       "</style>\n",
       "<table border=\"1\" class=\"dataframe\">\n",
       "  <thead>\n",
       "    <tr style=\"text-align: right;\">\n",
       "      <th></th>\n",
       "      <th>0</th>\n",
       "      <th>1</th>\n",
       "      <th>2</th>\n",
       "      <th>3</th>\n",
       "      <th>4</th>\n",
       "      <th>5</th>\n",
       "      <th>6</th>\n",
       "      <th>7</th>\n",
       "    </tr>\n",
       "  </thead>\n",
       "  <tbody>\n",
       "    <tr>\n",
       "      <th>0</th>\n",
       "      <td>0.289262</td>\n",
       "      <td>0.887068</td>\n",
       "      <td>0.566113</td>\n",
       "      <td>0.399159</td>\n",
       "      <td>0.105012</td>\n",
       "      <td>0.924714</td>\n",
       "      <td>0.021008</td>\n",
       "      <td>0.566005</td>\n",
       "    </tr>\n",
       "    <tr>\n",
       "      <th>1</th>\n",
       "      <td>0.628112</td>\n",
       "      <td>0.086061</td>\n",
       "      <td>0.719394</td>\n",
       "      <td>0.998873</td>\n",
       "      <td>0.641188</td>\n",
       "      <td>0.607673</td>\n",
       "      <td>0.916153</td>\n",
       "      <td>0.104653</td>\n",
       "    </tr>\n",
       "    <tr>\n",
       "      <th>2</th>\n",
       "      <td>0.179349</td>\n",
       "      <td>0.511824</td>\n",
       "      <td>0.614375</td>\n",
       "      <td>0.076396</td>\n",
       "      <td>0.888939</td>\n",
       "      <td>0.648682</td>\n",
       "      <td>0.007597</td>\n",
       "      <td>0.367706</td>\n",
       "    </tr>\n",
       "    <tr>\n",
       "      <th>3</th>\n",
       "      <td>0.675514</td>\n",
       "      <td>0.067787</td>\n",
       "      <td>0.601646</td>\n",
       "      <td>0.197398</td>\n",
       "      <td>0.007941</td>\n",
       "      <td>0.808876</td>\n",
       "      <td>0.381857</td>\n",
       "      <td>0.421627</td>\n",
       "    </tr>\n",
       "  </tbody>\n",
       "</table>\n",
       "</div>"
      ],
      "text/plain": [
       "          0         1         2         3         4         5         6  \\\n",
       "0  0.289262  0.887068  0.566113  0.399159  0.105012  0.924714  0.021008   \n",
       "1  0.628112  0.086061  0.719394  0.998873  0.641188  0.607673  0.916153   \n",
       "2  0.179349  0.511824  0.614375  0.076396  0.888939  0.648682  0.007597   \n",
       "3  0.675514  0.067787  0.601646  0.197398  0.007941  0.808876  0.381857   \n",
       "\n",
       "          7  \n",
       "0  0.566005  \n",
       "1  0.104653  \n",
       "2  0.367706  \n",
       "3  0.421627  "
      ]
     },
     "execution_count": 10,
     "metadata": {},
     "output_type": "execute_result"
    }
   ],
   "source": [
    "# Creating a big dataframe from random values\n",
    "import numpy as np\n",
    "pd.DataFrame(np.random.rand(4,8))"
   ]
  },
  {
   "cell_type": "code",
   "execution_count": 11,
   "metadata": {},
   "outputs": [
    {
     "data": {
      "text/html": [
       "<div>\n",
       "<style scoped>\n",
       "    .dataframe tbody tr th:only-of-type {\n",
       "        vertical-align: middle;\n",
       "    }\n",
       "\n",
       "    .dataframe tbody tr th {\n",
       "        vertical-align: top;\n",
       "    }\n",
       "\n",
       "    .dataframe thead th {\n",
       "        text-align: right;\n",
       "    }\n",
       "</style>\n",
       "<table border=\"1\" class=\"dataframe\">\n",
       "  <thead>\n",
       "    <tr style=\"text-align: right;\">\n",
       "      <th></th>\n",
       "      <th>a</th>\n",
       "      <th>b</th>\n",
       "      <th>c</th>\n",
       "      <th>d</th>\n",
       "      <th>e</th>\n",
       "      <th>f</th>\n",
       "      <th>g</th>\n",
       "      <th>h</th>\n",
       "    </tr>\n",
       "  </thead>\n",
       "  <tbody>\n",
       "    <tr>\n",
       "      <th>0</th>\n",
       "      <td>0.901703</td>\n",
       "      <td>0.403060</td>\n",
       "      <td>0.247963</td>\n",
       "      <td>0.470466</td>\n",
       "      <td>0.654080</td>\n",
       "      <td>0.609618</td>\n",
       "      <td>0.285499</td>\n",
       "      <td>0.206664</td>\n",
       "    </tr>\n",
       "    <tr>\n",
       "      <th>1</th>\n",
       "      <td>0.237009</td>\n",
       "      <td>0.913521</td>\n",
       "      <td>0.974173</td>\n",
       "      <td>0.882956</td>\n",
       "      <td>0.816871</td>\n",
       "      <td>0.589706</td>\n",
       "      <td>0.262030</td>\n",
       "      <td>0.451689</td>\n",
       "    </tr>\n",
       "    <tr>\n",
       "      <th>2</th>\n",
       "      <td>0.535268</td>\n",
       "      <td>0.108052</td>\n",
       "      <td>0.646661</td>\n",
       "      <td>0.932960</td>\n",
       "      <td>0.587299</td>\n",
       "      <td>0.805647</td>\n",
       "      <td>0.467646</td>\n",
       "      <td>0.302077</td>\n",
       "    </tr>\n",
       "    <tr>\n",
       "      <th>3</th>\n",
       "      <td>0.047086</td>\n",
       "      <td>0.955162</td>\n",
       "      <td>0.206173</td>\n",
       "      <td>0.373536</td>\n",
       "      <td>0.577591</td>\n",
       "      <td>0.090499</td>\n",
       "      <td>0.853034</td>\n",
       "      <td>0.720798</td>\n",
       "    </tr>\n",
       "  </tbody>\n",
       "</table>\n",
       "</div>"
      ],
      "text/plain": [
       "          a         b         c         d         e         f         g  \\\n",
       "0  0.901703  0.403060  0.247963  0.470466  0.654080  0.609618  0.285499   \n",
       "1  0.237009  0.913521  0.974173  0.882956  0.816871  0.589706  0.262030   \n",
       "2  0.535268  0.108052  0.646661  0.932960  0.587299  0.805647  0.467646   \n",
       "3  0.047086  0.955162  0.206173  0.373536  0.577591  0.090499  0.853034   \n",
       "\n",
       "          h  \n",
       "0  0.206664  \n",
       "1  0.451689  \n",
       "2  0.302077  \n",
       "3  0.720798  "
      ]
     },
     "execution_count": 11,
     "metadata": {},
     "output_type": "execute_result"
    }
   ],
   "source": [
    "# Creating a dataframe with columns names other than numbers. Here, alphabets from the list\n",
    "pd.DataFrame(np.random.rand(4,8), columns = list('abcdefgh'))"
   ]
  },
  {
   "cell_type": "markdown",
   "metadata": {},
   "source": [
    "### Rename columns"
   ]
  },
  {
   "cell_type": "code",
   "execution_count": 12,
   "metadata": {},
   "outputs": [
    {
     "data": {
      "text/html": [
       "<div>\n",
       "<style scoped>\n",
       "    .dataframe tbody tr th:only-of-type {\n",
       "        vertical-align: middle;\n",
       "    }\n",
       "\n",
       "    .dataframe tbody tr th {\n",
       "        vertical-align: top;\n",
       "    }\n",
       "\n",
       "    .dataframe thead th {\n",
       "        text-align: right;\n",
       "    }\n",
       "</style>\n",
       "<table border=\"1\" class=\"dataframe\">\n",
       "  <thead>\n",
       "    <tr style=\"text-align: right;\">\n",
       "      <th></th>\n",
       "      <th>col one</th>\n",
       "      <th>col two</th>\n",
       "    </tr>\n",
       "  </thead>\n",
       "  <tbody>\n",
       "    <tr>\n",
       "      <th>0</th>\n",
       "      <td>100</td>\n",
       "      <td>300</td>\n",
       "    </tr>\n",
       "    <tr>\n",
       "      <th>1</th>\n",
       "      <td>200</td>\n",
       "      <td>400</td>\n",
       "    </tr>\n",
       "  </tbody>\n",
       "</table>\n",
       "</div>"
      ],
      "text/plain": [
       "   col one  col two\n",
       "0      100      300\n",
       "1      200      400"
      ]
     },
     "execution_count": 12,
     "metadata": {},
     "output_type": "execute_result"
    }
   ],
   "source": [
    "df"
   ]
  },
  {
   "cell_type": "code",
   "execution_count": 19,
   "metadata": {},
   "outputs": [
    {
     "data": {
      "text/html": [
       "<div>\n",
       "<style scoped>\n",
       "    .dataframe tbody tr th:only-of-type {\n",
       "        vertical-align: middle;\n",
       "    }\n",
       "\n",
       "    .dataframe tbody tr th {\n",
       "        vertical-align: top;\n",
       "    }\n",
       "\n",
       "    .dataframe thead th {\n",
       "        text-align: right;\n",
       "    }\n",
       "</style>\n",
       "<table border=\"1\" class=\"dataframe\">\n",
       "  <thead>\n",
       "    <tr style=\"text-align: right;\">\n",
       "      <th></th>\n",
       "      <th>col_one</th>\n",
       "      <th>col_two</th>\n",
       "    </tr>\n",
       "  </thead>\n",
       "  <tbody>\n",
       "    <tr>\n",
       "      <th>0</th>\n",
       "      <td>100</td>\n",
       "      <td>300</td>\n",
       "    </tr>\n",
       "    <tr>\n",
       "      <th>1</th>\n",
       "      <td>200</td>\n",
       "      <td>400</td>\n",
       "    </tr>\n",
       "  </tbody>\n",
       "</table>\n",
       "</div>"
      ],
      "text/plain": [
       "   col_one  col_two\n",
       "0      100      300\n",
       "1      200      400"
      ]
     },
     "execution_count": 19,
     "metadata": {},
     "output_type": "execute_result"
    }
   ],
   "source": [
    "# Renaming the column using dictionary method\n",
    "# keys are the old names and values are new names\n",
    "# With this, we can rename any column and any number of columns\n",
    "df = df.rename({'col one': 'col_one', 'col two':'col_two'}, axis = 'columns')\n",
    "df"
   ]
  },
  {
   "cell_type": "code",
   "execution_count": 22,
   "metadata": {},
   "outputs": [],
   "source": [
    "# reassigning or renaming all the columns irrespective of their old names\n",
    "df.columns = ['col_one', 'col_two']"
   ]
  },
  {
   "cell_type": "code",
   "execution_count": 23,
   "metadata": {},
   "outputs": [
    {
     "data": {
      "text/html": [
       "<div>\n",
       "<style scoped>\n",
       "    .dataframe tbody tr th:only-of-type {\n",
       "        vertical-align: middle;\n",
       "    }\n",
       "\n",
       "    .dataframe tbody tr th {\n",
       "        vertical-align: top;\n",
       "    }\n",
       "\n",
       "    .dataframe thead th {\n",
       "        text-align: right;\n",
       "    }\n",
       "</style>\n",
       "<table border=\"1\" class=\"dataframe\">\n",
       "  <thead>\n",
       "    <tr style=\"text-align: right;\">\n",
       "      <th></th>\n",
       "      <th>col_one</th>\n",
       "      <th>col_two</th>\n",
       "    </tr>\n",
       "  </thead>\n",
       "  <tbody>\n",
       "    <tr>\n",
       "      <th>0</th>\n",
       "      <td>100</td>\n",
       "      <td>300</td>\n",
       "    </tr>\n",
       "    <tr>\n",
       "      <th>1</th>\n",
       "      <td>200</td>\n",
       "      <td>400</td>\n",
       "    </tr>\n",
       "  </tbody>\n",
       "</table>\n",
       "</div>"
      ],
      "text/plain": [
       "   col_one  col_two\n",
       "0      100      300\n",
       "1      200      400"
      ]
     },
     "execution_count": 23,
     "metadata": {},
     "output_type": "execute_result"
    }
   ],
   "source": [
    "# Replace particular substring to other substring\n",
    "df.columns = df.columns.str.replace(' ', '_')\n",
    "df"
   ]
  },
  {
   "cell_type": "code",
   "execution_count": 24,
   "metadata": {},
   "outputs": [
    {
     "data": {
      "text/html": [
       "<div>\n",
       "<style scoped>\n",
       "    .dataframe tbody tr th:only-of-type {\n",
       "        vertical-align: middle;\n",
       "    }\n",
       "\n",
       "    .dataframe tbody tr th {\n",
       "        vertical-align: top;\n",
       "    }\n",
       "\n",
       "    .dataframe thead th {\n",
       "        text-align: right;\n",
       "    }\n",
       "</style>\n",
       "<table border=\"1\" class=\"dataframe\">\n",
       "  <thead>\n",
       "    <tr style=\"text-align: right;\">\n",
       "      <th></th>\n",
       "      <th>X_col_one</th>\n",
       "      <th>X_col_two</th>\n",
       "    </tr>\n",
       "  </thead>\n",
       "  <tbody>\n",
       "    <tr>\n",
       "      <th>0</th>\n",
       "      <td>100</td>\n",
       "      <td>300</td>\n",
       "    </tr>\n",
       "    <tr>\n",
       "      <th>1</th>\n",
       "      <td>200</td>\n",
       "      <td>400</td>\n",
       "    </tr>\n",
       "  </tbody>\n",
       "</table>\n",
       "</div>"
      ],
      "text/plain": [
       "   X_col_one  X_col_two\n",
       "0        100        300\n",
       "1        200        400"
      ]
     },
     "execution_count": 24,
     "metadata": {},
     "output_type": "execute_result"
    }
   ],
   "source": [
    "# Add prefix\n",
    "df.add_prefix('X_')"
   ]
  },
  {
   "cell_type": "code",
   "execution_count": 25,
   "metadata": {},
   "outputs": [
    {
     "data": {
      "text/html": [
       "<div>\n",
       "<style scoped>\n",
       "    .dataframe tbody tr th:only-of-type {\n",
       "        vertical-align: middle;\n",
       "    }\n",
       "\n",
       "    .dataframe tbody tr th {\n",
       "        vertical-align: top;\n",
       "    }\n",
       "\n",
       "    .dataframe thead th {\n",
       "        text-align: right;\n",
       "    }\n",
       "</style>\n",
       "<table border=\"1\" class=\"dataframe\">\n",
       "  <thead>\n",
       "    <tr style=\"text-align: right;\">\n",
       "      <th></th>\n",
       "      <th>col_one_Y</th>\n",
       "      <th>col_two_Y</th>\n",
       "    </tr>\n",
       "  </thead>\n",
       "  <tbody>\n",
       "    <tr>\n",
       "      <th>0</th>\n",
       "      <td>100</td>\n",
       "      <td>300</td>\n",
       "    </tr>\n",
       "    <tr>\n",
       "      <th>1</th>\n",
       "      <td>200</td>\n",
       "      <td>400</td>\n",
       "    </tr>\n",
       "  </tbody>\n",
       "</table>\n",
       "</div>"
      ],
      "text/plain": [
       "   col_one_Y  col_two_Y\n",
       "0        100        300\n",
       "1        200        400"
      ]
     },
     "execution_count": 25,
     "metadata": {},
     "output_type": "execute_result"
    }
   ],
   "source": [
    "# Add suffix\n",
    "df.add_suffix('_Y')"
   ]
  },
  {
   "cell_type": "markdown",
   "metadata": {},
   "source": [
    "### Reverse the row order"
   ]
  },
  {
   "cell_type": "code",
   "execution_count": 27,
   "metadata": {},
   "outputs": [
    {
     "data": {
      "text/html": [
       "<div>\n",
       "<style scoped>\n",
       "    .dataframe tbody tr th:only-of-type {\n",
       "        vertical-align: middle;\n",
       "    }\n",
       "\n",
       "    .dataframe tbody tr th {\n",
       "        vertical-align: top;\n",
       "    }\n",
       "\n",
       "    .dataframe thead th {\n",
       "        text-align: right;\n",
       "    }\n",
       "</style>\n",
       "<table border=\"1\" class=\"dataframe\">\n",
       "  <thead>\n",
       "    <tr style=\"text-align: right;\">\n",
       "      <th></th>\n",
       "      <th>0</th>\n",
       "      <th>1</th>\n",
       "      <th>2</th>\n",
       "      <th>3</th>\n",
       "      <th>4</th>\n",
       "      <th>5</th>\n",
       "      <th>6</th>\n",
       "      <th>7</th>\n",
       "    </tr>\n",
       "  </thead>\n",
       "  <tbody>\n",
       "    <tr>\n",
       "      <th>0</th>\n",
       "      <td>0.648620</td>\n",
       "      <td>0.701631</td>\n",
       "      <td>0.361178</td>\n",
       "      <td>0.326093</td>\n",
       "      <td>0.721273</td>\n",
       "      <td>0.053686</td>\n",
       "      <td>0.757662</td>\n",
       "      <td>0.723144</td>\n",
       "    </tr>\n",
       "    <tr>\n",
       "      <th>1</th>\n",
       "      <td>0.411736</td>\n",
       "      <td>0.518666</td>\n",
       "      <td>0.935169</td>\n",
       "      <td>0.529580</td>\n",
       "      <td>0.007226</td>\n",
       "      <td>0.013108</td>\n",
       "      <td>0.604676</td>\n",
       "      <td>0.726580</td>\n",
       "    </tr>\n",
       "    <tr>\n",
       "      <th>2</th>\n",
       "      <td>0.345676</td>\n",
       "      <td>0.607968</td>\n",
       "      <td>0.041497</td>\n",
       "      <td>0.704728</td>\n",
       "      <td>0.917210</td>\n",
       "      <td>0.908236</td>\n",
       "      <td>0.526377</td>\n",
       "      <td>0.833262</td>\n",
       "    </tr>\n",
       "    <tr>\n",
       "      <th>3</th>\n",
       "      <td>0.063978</td>\n",
       "      <td>0.055681</td>\n",
       "      <td>0.619173</td>\n",
       "      <td>0.543745</td>\n",
       "      <td>0.272041</td>\n",
       "      <td>0.364778</td>\n",
       "      <td>0.114542</td>\n",
       "      <td>0.473359</td>\n",
       "    </tr>\n",
       "    <tr>\n",
       "      <th>4</th>\n",
       "      <td>0.104734</td>\n",
       "      <td>0.662841</td>\n",
       "      <td>0.679483</td>\n",
       "      <td>0.240006</td>\n",
       "      <td>0.187413</td>\n",
       "      <td>0.188863</td>\n",
       "      <td>0.458673</td>\n",
       "      <td>0.364380</td>\n",
       "    </tr>\n",
       "    <tr>\n",
       "      <th>5</th>\n",
       "      <td>0.894541</td>\n",
       "      <td>0.195981</td>\n",
       "      <td>0.284033</td>\n",
       "      <td>0.867668</td>\n",
       "      <td>0.118238</td>\n",
       "      <td>0.777134</td>\n",
       "      <td>0.101879</td>\n",
       "      <td>0.993144</td>\n",
       "    </tr>\n",
       "    <tr>\n",
       "      <th>6</th>\n",
       "      <td>0.837288</td>\n",
       "      <td>0.898994</td>\n",
       "      <td>0.387847</td>\n",
       "      <td>0.138368</td>\n",
       "      <td>0.624636</td>\n",
       "      <td>0.251683</td>\n",
       "      <td>0.141265</td>\n",
       "      <td>0.548748</td>\n",
       "    </tr>\n",
       "    <tr>\n",
       "      <th>7</th>\n",
       "      <td>0.680986</td>\n",
       "      <td>0.994033</td>\n",
       "      <td>0.590197</td>\n",
       "      <td>0.238885</td>\n",
       "      <td>0.764445</td>\n",
       "      <td>0.930905</td>\n",
       "      <td>0.698133</td>\n",
       "      <td>0.183104</td>\n",
       "    </tr>\n",
       "    <tr>\n",
       "      <th>8</th>\n",
       "      <td>0.169506</td>\n",
       "      <td>0.339775</td>\n",
       "      <td>0.940598</td>\n",
       "      <td>0.760861</td>\n",
       "      <td>0.234226</td>\n",
       "      <td>0.216849</td>\n",
       "      <td>0.489482</td>\n",
       "      <td>0.157432</td>\n",
       "    </tr>\n",
       "    <tr>\n",
       "      <th>9</th>\n",
       "      <td>0.250445</td>\n",
       "      <td>0.575110</td>\n",
       "      <td>0.727717</td>\n",
       "      <td>0.851257</td>\n",
       "      <td>0.933735</td>\n",
       "      <td>0.484265</td>\n",
       "      <td>0.699594</td>\n",
       "      <td>0.433437</td>\n",
       "    </tr>\n",
       "  </tbody>\n",
       "</table>\n",
       "</div>"
      ],
      "text/plain": [
       "          0         1         2         3         4         5         6  \\\n",
       "0  0.648620  0.701631  0.361178  0.326093  0.721273  0.053686  0.757662   \n",
       "1  0.411736  0.518666  0.935169  0.529580  0.007226  0.013108  0.604676   \n",
       "2  0.345676  0.607968  0.041497  0.704728  0.917210  0.908236  0.526377   \n",
       "3  0.063978  0.055681  0.619173  0.543745  0.272041  0.364778  0.114542   \n",
       "4  0.104734  0.662841  0.679483  0.240006  0.187413  0.188863  0.458673   \n",
       "5  0.894541  0.195981  0.284033  0.867668  0.118238  0.777134  0.101879   \n",
       "6  0.837288  0.898994  0.387847  0.138368  0.624636  0.251683  0.141265   \n",
       "7  0.680986  0.994033  0.590197  0.238885  0.764445  0.930905  0.698133   \n",
       "8  0.169506  0.339775  0.940598  0.760861  0.234226  0.216849  0.489482   \n",
       "9  0.250445  0.575110  0.727717  0.851257  0.933735  0.484265  0.699594   \n",
       "\n",
       "          7  \n",
       "0  0.723144  \n",
       "1  0.726580  \n",
       "2  0.833262  \n",
       "3  0.473359  \n",
       "4  0.364380  \n",
       "5  0.993144  \n",
       "6  0.548748  \n",
       "7  0.183104  \n",
       "8  0.157432  \n",
       "9  0.433437  "
      ]
     },
     "execution_count": 27,
     "metadata": {},
     "output_type": "execute_result"
    }
   ],
   "source": [
    "dfr = pd.DataFrame(np.random.rand(10,8))\n",
    "dfr"
   ]
  },
  {
   "cell_type": "code",
   "execution_count": 28,
   "metadata": {},
   "outputs": [
    {
     "data": {
      "text/html": [
       "<div>\n",
       "<style scoped>\n",
       "    .dataframe tbody tr th:only-of-type {\n",
       "        vertical-align: middle;\n",
       "    }\n",
       "\n",
       "    .dataframe tbody tr th {\n",
       "        vertical-align: top;\n",
       "    }\n",
       "\n",
       "    .dataframe thead th {\n",
       "        text-align: right;\n",
       "    }\n",
       "</style>\n",
       "<table border=\"1\" class=\"dataframe\">\n",
       "  <thead>\n",
       "    <tr style=\"text-align: right;\">\n",
       "      <th></th>\n",
       "      <th>0</th>\n",
       "      <th>1</th>\n",
       "      <th>2</th>\n",
       "      <th>3</th>\n",
       "      <th>4</th>\n",
       "      <th>5</th>\n",
       "      <th>6</th>\n",
       "      <th>7</th>\n",
       "    </tr>\n",
       "  </thead>\n",
       "  <tbody>\n",
       "    <tr>\n",
       "      <th>9</th>\n",
       "      <td>0.250445</td>\n",
       "      <td>0.575110</td>\n",
       "      <td>0.727717</td>\n",
       "      <td>0.851257</td>\n",
       "      <td>0.933735</td>\n",
       "      <td>0.484265</td>\n",
       "      <td>0.699594</td>\n",
       "      <td>0.433437</td>\n",
       "    </tr>\n",
       "    <tr>\n",
       "      <th>8</th>\n",
       "      <td>0.169506</td>\n",
       "      <td>0.339775</td>\n",
       "      <td>0.940598</td>\n",
       "      <td>0.760861</td>\n",
       "      <td>0.234226</td>\n",
       "      <td>0.216849</td>\n",
       "      <td>0.489482</td>\n",
       "      <td>0.157432</td>\n",
       "    </tr>\n",
       "    <tr>\n",
       "      <th>7</th>\n",
       "      <td>0.680986</td>\n",
       "      <td>0.994033</td>\n",
       "      <td>0.590197</td>\n",
       "      <td>0.238885</td>\n",
       "      <td>0.764445</td>\n",
       "      <td>0.930905</td>\n",
       "      <td>0.698133</td>\n",
       "      <td>0.183104</td>\n",
       "    </tr>\n",
       "    <tr>\n",
       "      <th>6</th>\n",
       "      <td>0.837288</td>\n",
       "      <td>0.898994</td>\n",
       "      <td>0.387847</td>\n",
       "      <td>0.138368</td>\n",
       "      <td>0.624636</td>\n",
       "      <td>0.251683</td>\n",
       "      <td>0.141265</td>\n",
       "      <td>0.548748</td>\n",
       "    </tr>\n",
       "    <tr>\n",
       "      <th>5</th>\n",
       "      <td>0.894541</td>\n",
       "      <td>0.195981</td>\n",
       "      <td>0.284033</td>\n",
       "      <td>0.867668</td>\n",
       "      <td>0.118238</td>\n",
       "      <td>0.777134</td>\n",
       "      <td>0.101879</td>\n",
       "      <td>0.993144</td>\n",
       "    </tr>\n",
       "  </tbody>\n",
       "</table>\n",
       "</div>"
      ],
      "text/plain": [
       "          0         1         2         3         4         5         6  \\\n",
       "9  0.250445  0.575110  0.727717  0.851257  0.933735  0.484265  0.699594   \n",
       "8  0.169506  0.339775  0.940598  0.760861  0.234226  0.216849  0.489482   \n",
       "7  0.680986  0.994033  0.590197  0.238885  0.764445  0.930905  0.698133   \n",
       "6  0.837288  0.898994  0.387847  0.138368  0.624636  0.251683  0.141265   \n",
       "5  0.894541  0.195981  0.284033  0.867668  0.118238  0.777134  0.101879   \n",
       "\n",
       "          7  \n",
       "9  0.433437  \n",
       "8  0.157432  \n",
       "7  0.183104  \n",
       "6  0.548748  \n",
       "5  0.993144  "
      ]
     },
     "execution_count": 28,
     "metadata": {},
     "output_type": "execute_result"
    }
   ],
   "source": [
    "# reverse the row order with index number preserved\n",
    "dfr.loc[::-1].head()"
   ]
  },
  {
   "cell_type": "code",
   "execution_count": 29,
   "metadata": {},
   "outputs": [
    {
     "data": {
      "text/html": [
       "<div>\n",
       "<style scoped>\n",
       "    .dataframe tbody tr th:only-of-type {\n",
       "        vertical-align: middle;\n",
       "    }\n",
       "\n",
       "    .dataframe tbody tr th {\n",
       "        vertical-align: top;\n",
       "    }\n",
       "\n",
       "    .dataframe thead th {\n",
       "        text-align: right;\n",
       "    }\n",
       "</style>\n",
       "<table border=\"1\" class=\"dataframe\">\n",
       "  <thead>\n",
       "    <tr style=\"text-align: right;\">\n",
       "      <th></th>\n",
       "      <th>0</th>\n",
       "      <th>1</th>\n",
       "      <th>2</th>\n",
       "      <th>3</th>\n",
       "      <th>4</th>\n",
       "      <th>5</th>\n",
       "      <th>6</th>\n",
       "      <th>7</th>\n",
       "    </tr>\n",
       "  </thead>\n",
       "  <tbody>\n",
       "    <tr>\n",
       "      <th>0</th>\n",
       "      <td>0.250445</td>\n",
       "      <td>0.575110</td>\n",
       "      <td>0.727717</td>\n",
       "      <td>0.851257</td>\n",
       "      <td>0.933735</td>\n",
       "      <td>0.484265</td>\n",
       "      <td>0.699594</td>\n",
       "      <td>0.433437</td>\n",
       "    </tr>\n",
       "    <tr>\n",
       "      <th>1</th>\n",
       "      <td>0.169506</td>\n",
       "      <td>0.339775</td>\n",
       "      <td>0.940598</td>\n",
       "      <td>0.760861</td>\n",
       "      <td>0.234226</td>\n",
       "      <td>0.216849</td>\n",
       "      <td>0.489482</td>\n",
       "      <td>0.157432</td>\n",
       "    </tr>\n",
       "    <tr>\n",
       "      <th>2</th>\n",
       "      <td>0.680986</td>\n",
       "      <td>0.994033</td>\n",
       "      <td>0.590197</td>\n",
       "      <td>0.238885</td>\n",
       "      <td>0.764445</td>\n",
       "      <td>0.930905</td>\n",
       "      <td>0.698133</td>\n",
       "      <td>0.183104</td>\n",
       "    </tr>\n",
       "    <tr>\n",
       "      <th>3</th>\n",
       "      <td>0.837288</td>\n",
       "      <td>0.898994</td>\n",
       "      <td>0.387847</td>\n",
       "      <td>0.138368</td>\n",
       "      <td>0.624636</td>\n",
       "      <td>0.251683</td>\n",
       "      <td>0.141265</td>\n",
       "      <td>0.548748</td>\n",
       "    </tr>\n",
       "    <tr>\n",
       "      <th>4</th>\n",
       "      <td>0.894541</td>\n",
       "      <td>0.195981</td>\n",
       "      <td>0.284033</td>\n",
       "      <td>0.867668</td>\n",
       "      <td>0.118238</td>\n",
       "      <td>0.777134</td>\n",
       "      <td>0.101879</td>\n",
       "      <td>0.993144</td>\n",
       "    </tr>\n",
       "    <tr>\n",
       "      <th>5</th>\n",
       "      <td>0.104734</td>\n",
       "      <td>0.662841</td>\n",
       "      <td>0.679483</td>\n",
       "      <td>0.240006</td>\n",
       "      <td>0.187413</td>\n",
       "      <td>0.188863</td>\n",
       "      <td>0.458673</td>\n",
       "      <td>0.364380</td>\n",
       "    </tr>\n",
       "    <tr>\n",
       "      <th>6</th>\n",
       "      <td>0.063978</td>\n",
       "      <td>0.055681</td>\n",
       "      <td>0.619173</td>\n",
       "      <td>0.543745</td>\n",
       "      <td>0.272041</td>\n",
       "      <td>0.364778</td>\n",
       "      <td>0.114542</td>\n",
       "      <td>0.473359</td>\n",
       "    </tr>\n",
       "    <tr>\n",
       "      <th>7</th>\n",
       "      <td>0.345676</td>\n",
       "      <td>0.607968</td>\n",
       "      <td>0.041497</td>\n",
       "      <td>0.704728</td>\n",
       "      <td>0.917210</td>\n",
       "      <td>0.908236</td>\n",
       "      <td>0.526377</td>\n",
       "      <td>0.833262</td>\n",
       "    </tr>\n",
       "    <tr>\n",
       "      <th>8</th>\n",
       "      <td>0.411736</td>\n",
       "      <td>0.518666</td>\n",
       "      <td>0.935169</td>\n",
       "      <td>0.529580</td>\n",
       "      <td>0.007226</td>\n",
       "      <td>0.013108</td>\n",
       "      <td>0.604676</td>\n",
       "      <td>0.726580</td>\n",
       "    </tr>\n",
       "    <tr>\n",
       "      <th>9</th>\n",
       "      <td>0.648620</td>\n",
       "      <td>0.701631</td>\n",
       "      <td>0.361178</td>\n",
       "      <td>0.326093</td>\n",
       "      <td>0.721273</td>\n",
       "      <td>0.053686</td>\n",
       "      <td>0.757662</td>\n",
       "      <td>0.723144</td>\n",
       "    </tr>\n",
       "  </tbody>\n",
       "</table>\n",
       "</div>"
      ],
      "text/plain": [
       "          0         1         2         3         4         5         6  \\\n",
       "0  0.250445  0.575110  0.727717  0.851257  0.933735  0.484265  0.699594   \n",
       "1  0.169506  0.339775  0.940598  0.760861  0.234226  0.216849  0.489482   \n",
       "2  0.680986  0.994033  0.590197  0.238885  0.764445  0.930905  0.698133   \n",
       "3  0.837288  0.898994  0.387847  0.138368  0.624636  0.251683  0.141265   \n",
       "4  0.894541  0.195981  0.284033  0.867668  0.118238  0.777134  0.101879   \n",
       "5  0.104734  0.662841  0.679483  0.240006  0.187413  0.188863  0.458673   \n",
       "6  0.063978  0.055681  0.619173  0.543745  0.272041  0.364778  0.114542   \n",
       "7  0.345676  0.607968  0.041497  0.704728  0.917210  0.908236  0.526377   \n",
       "8  0.411736  0.518666  0.935169  0.529580  0.007226  0.013108  0.604676   \n",
       "9  0.648620  0.701631  0.361178  0.326093  0.721273  0.053686  0.757662   \n",
       "\n",
       "          7  \n",
       "0  0.433437  \n",
       "1  0.157432  \n",
       "2  0.183104  \n",
       "3  0.548748  \n",
       "4  0.993144  \n",
       "5  0.364380  \n",
       "6  0.473359  \n",
       "7  0.833262  \n",
       "8  0.726580  \n",
       "9  0.723144  "
      ]
     },
     "execution_count": 29,
     "metadata": {},
     "output_type": "execute_result"
    }
   ],
   "source": [
    "# Reverse the row order with reseting the index numbers and dop the old set of indices\n",
    "dfr.loc[::-1].reset_index(drop=True)"
   ]
  },
  {
   "cell_type": "markdown",
   "metadata": {},
   "source": [
    "### Reverse column order"
   ]
  },
  {
   "cell_type": "code",
   "execution_count": 30,
   "metadata": {},
   "outputs": [
    {
     "data": {
      "text/html": [
       "<div>\n",
       "<style scoped>\n",
       "    .dataframe tbody tr th:only-of-type {\n",
       "        vertical-align: middle;\n",
       "    }\n",
       "\n",
       "    .dataframe tbody tr th {\n",
       "        vertical-align: top;\n",
       "    }\n",
       "\n",
       "    .dataframe thead th {\n",
       "        text-align: right;\n",
       "    }\n",
       "</style>\n",
       "<table border=\"1\" class=\"dataframe\">\n",
       "  <thead>\n",
       "    <tr style=\"text-align: right;\">\n",
       "      <th></th>\n",
       "      <th>7</th>\n",
       "      <th>6</th>\n",
       "      <th>5</th>\n",
       "      <th>4</th>\n",
       "      <th>3</th>\n",
       "      <th>2</th>\n",
       "      <th>1</th>\n",
       "      <th>0</th>\n",
       "    </tr>\n",
       "  </thead>\n",
       "  <tbody>\n",
       "    <tr>\n",
       "      <th>0</th>\n",
       "      <td>0.723144</td>\n",
       "      <td>0.757662</td>\n",
       "      <td>0.053686</td>\n",
       "      <td>0.721273</td>\n",
       "      <td>0.326093</td>\n",
       "      <td>0.361178</td>\n",
       "      <td>0.701631</td>\n",
       "      <td>0.648620</td>\n",
       "    </tr>\n",
       "    <tr>\n",
       "      <th>1</th>\n",
       "      <td>0.726580</td>\n",
       "      <td>0.604676</td>\n",
       "      <td>0.013108</td>\n",
       "      <td>0.007226</td>\n",
       "      <td>0.529580</td>\n",
       "      <td>0.935169</td>\n",
       "      <td>0.518666</td>\n",
       "      <td>0.411736</td>\n",
       "    </tr>\n",
       "    <tr>\n",
       "      <th>2</th>\n",
       "      <td>0.833262</td>\n",
       "      <td>0.526377</td>\n",
       "      <td>0.908236</td>\n",
       "      <td>0.917210</td>\n",
       "      <td>0.704728</td>\n",
       "      <td>0.041497</td>\n",
       "      <td>0.607968</td>\n",
       "      <td>0.345676</td>\n",
       "    </tr>\n",
       "    <tr>\n",
       "      <th>3</th>\n",
       "      <td>0.473359</td>\n",
       "      <td>0.114542</td>\n",
       "      <td>0.364778</td>\n",
       "      <td>0.272041</td>\n",
       "      <td>0.543745</td>\n",
       "      <td>0.619173</td>\n",
       "      <td>0.055681</td>\n",
       "      <td>0.063978</td>\n",
       "    </tr>\n",
       "    <tr>\n",
       "      <th>4</th>\n",
       "      <td>0.364380</td>\n",
       "      <td>0.458673</td>\n",
       "      <td>0.188863</td>\n",
       "      <td>0.187413</td>\n",
       "      <td>0.240006</td>\n",
       "      <td>0.679483</td>\n",
       "      <td>0.662841</td>\n",
       "      <td>0.104734</td>\n",
       "    </tr>\n",
       "    <tr>\n",
       "      <th>5</th>\n",
       "      <td>0.993144</td>\n",
       "      <td>0.101879</td>\n",
       "      <td>0.777134</td>\n",
       "      <td>0.118238</td>\n",
       "      <td>0.867668</td>\n",
       "      <td>0.284033</td>\n",
       "      <td>0.195981</td>\n",
       "      <td>0.894541</td>\n",
       "    </tr>\n",
       "    <tr>\n",
       "      <th>6</th>\n",
       "      <td>0.548748</td>\n",
       "      <td>0.141265</td>\n",
       "      <td>0.251683</td>\n",
       "      <td>0.624636</td>\n",
       "      <td>0.138368</td>\n",
       "      <td>0.387847</td>\n",
       "      <td>0.898994</td>\n",
       "      <td>0.837288</td>\n",
       "    </tr>\n",
       "    <tr>\n",
       "      <th>7</th>\n",
       "      <td>0.183104</td>\n",
       "      <td>0.698133</td>\n",
       "      <td>0.930905</td>\n",
       "      <td>0.764445</td>\n",
       "      <td>0.238885</td>\n",
       "      <td>0.590197</td>\n",
       "      <td>0.994033</td>\n",
       "      <td>0.680986</td>\n",
       "    </tr>\n",
       "    <tr>\n",
       "      <th>8</th>\n",
       "      <td>0.157432</td>\n",
       "      <td>0.489482</td>\n",
       "      <td>0.216849</td>\n",
       "      <td>0.234226</td>\n",
       "      <td>0.760861</td>\n",
       "      <td>0.940598</td>\n",
       "      <td>0.339775</td>\n",
       "      <td>0.169506</td>\n",
       "    </tr>\n",
       "    <tr>\n",
       "      <th>9</th>\n",
       "      <td>0.433437</td>\n",
       "      <td>0.699594</td>\n",
       "      <td>0.484265</td>\n",
       "      <td>0.933735</td>\n",
       "      <td>0.851257</td>\n",
       "      <td>0.727717</td>\n",
       "      <td>0.575110</td>\n",
       "      <td>0.250445</td>\n",
       "    </tr>\n",
       "  </tbody>\n",
       "</table>\n",
       "</div>"
      ],
      "text/plain": [
       "          7         6         5         4         3         2         1  \\\n",
       "0  0.723144  0.757662  0.053686  0.721273  0.326093  0.361178  0.701631   \n",
       "1  0.726580  0.604676  0.013108  0.007226  0.529580  0.935169  0.518666   \n",
       "2  0.833262  0.526377  0.908236  0.917210  0.704728  0.041497  0.607968   \n",
       "3  0.473359  0.114542  0.364778  0.272041  0.543745  0.619173  0.055681   \n",
       "4  0.364380  0.458673  0.188863  0.187413  0.240006  0.679483  0.662841   \n",
       "5  0.993144  0.101879  0.777134  0.118238  0.867668  0.284033  0.195981   \n",
       "6  0.548748  0.141265  0.251683  0.624636  0.138368  0.387847  0.898994   \n",
       "7  0.183104  0.698133  0.930905  0.764445  0.238885  0.590197  0.994033   \n",
       "8  0.157432  0.489482  0.216849  0.234226  0.760861  0.940598  0.339775   \n",
       "9  0.433437  0.699594  0.484265  0.933735  0.851257  0.727717  0.575110   \n",
       "\n",
       "          0  \n",
       "0  0.648620  \n",
       "1  0.411736  \n",
       "2  0.345676  \n",
       "3  0.063978  \n",
       "4  0.104734  \n",
       "5  0.894541  \n",
       "6  0.837288  \n",
       "7  0.680986  \n",
       "8  0.169506  \n",
       "9  0.250445  "
      ]
     },
     "execution_count": 30,
     "metadata": {},
     "output_type": "execute_result"
    }
   ],
   "source": [
    "dfr.loc[:, ::-1]"
   ]
  },
  {
   "cell_type": "markdown",
   "metadata": {},
   "source": [
    "### Select columns by datatype"
   ]
  },
  {
   "cell_type": "code",
   "execution_count": 32,
   "metadata": {},
   "outputs": [
    {
     "data": {
      "text/plain": [
       "0    float64\n",
       "1    float64\n",
       "2    float64\n",
       "3    float64\n",
       "4    float64\n",
       "5    float64\n",
       "6    float64\n",
       "7    float64\n",
       "dtype: object"
      ]
     },
     "execution_count": 32,
     "metadata": {},
     "output_type": "execute_result"
    }
   ],
   "source": [
    "dfr.dtypes"
   ]
  },
  {
   "cell_type": "code",
   "execution_count": 35,
   "metadata": {},
   "outputs": [
    {
     "data": {
      "text/html": [
       "<div>\n",
       "<style scoped>\n",
       "    .dataframe tbody tr th:only-of-type {\n",
       "        vertical-align: middle;\n",
       "    }\n",
       "\n",
       "    .dataframe tbody tr th {\n",
       "        vertical-align: top;\n",
       "    }\n",
       "\n",
       "    .dataframe thead th {\n",
       "        text-align: right;\n",
       "    }\n",
       "</style>\n",
       "<table border=\"1\" class=\"dataframe\">\n",
       "  <thead>\n",
       "    <tr style=\"text-align: right;\">\n",
       "      <th></th>\n",
       "    </tr>\n",
       "  </thead>\n",
       "  <tbody>\n",
       "    <tr>\n",
       "      <th>0</th>\n",
       "    </tr>\n",
       "    <tr>\n",
       "      <th>1</th>\n",
       "    </tr>\n",
       "    <tr>\n",
       "      <th>2</th>\n",
       "    </tr>\n",
       "    <tr>\n",
       "      <th>3</th>\n",
       "    </tr>\n",
       "    <tr>\n",
       "      <th>4</th>\n",
       "    </tr>\n",
       "  </tbody>\n",
       "</table>\n",
       "</div>"
      ],
      "text/plain": [
       "Empty DataFrame\n",
       "Columns: []\n",
       "Index: [0, 1, 2, 3, 4]"
      ]
     },
     "execution_count": 35,
     "metadata": {},
     "output_type": "execute_result"
    }
   ],
   "source": [
    "# selecting only object columns. Here none.\n",
    "dfr.select_dtypes(include = 'object').head()"
   ]
  },
  {
   "cell_type": "code",
   "execution_count": 36,
   "metadata": {},
   "outputs": [
    {
     "data": {
      "text/html": [
       "<div>\n",
       "<style scoped>\n",
       "    .dataframe tbody tr th:only-of-type {\n",
       "        vertical-align: middle;\n",
       "    }\n",
       "\n",
       "    .dataframe tbody tr th {\n",
       "        vertical-align: top;\n",
       "    }\n",
       "\n",
       "    .dataframe thead th {\n",
       "        text-align: right;\n",
       "    }\n",
       "</style>\n",
       "<table border=\"1\" class=\"dataframe\">\n",
       "  <thead>\n",
       "    <tr style=\"text-align: right;\">\n",
       "      <th></th>\n",
       "      <th>0</th>\n",
       "      <th>1</th>\n",
       "      <th>2</th>\n",
       "      <th>3</th>\n",
       "      <th>4</th>\n",
       "      <th>5</th>\n",
       "      <th>6</th>\n",
       "      <th>7</th>\n",
       "    </tr>\n",
       "  </thead>\n",
       "  <tbody>\n",
       "    <tr>\n",
       "      <th>0</th>\n",
       "      <td>0.648620</td>\n",
       "      <td>0.701631</td>\n",
       "      <td>0.361178</td>\n",
       "      <td>0.326093</td>\n",
       "      <td>0.721273</td>\n",
       "      <td>0.053686</td>\n",
       "      <td>0.757662</td>\n",
       "      <td>0.723144</td>\n",
       "    </tr>\n",
       "    <tr>\n",
       "      <th>1</th>\n",
       "      <td>0.411736</td>\n",
       "      <td>0.518666</td>\n",
       "      <td>0.935169</td>\n",
       "      <td>0.529580</td>\n",
       "      <td>0.007226</td>\n",
       "      <td>0.013108</td>\n",
       "      <td>0.604676</td>\n",
       "      <td>0.726580</td>\n",
       "    </tr>\n",
       "    <tr>\n",
       "      <th>2</th>\n",
       "      <td>0.345676</td>\n",
       "      <td>0.607968</td>\n",
       "      <td>0.041497</td>\n",
       "      <td>0.704728</td>\n",
       "      <td>0.917210</td>\n",
       "      <td>0.908236</td>\n",
       "      <td>0.526377</td>\n",
       "      <td>0.833262</td>\n",
       "    </tr>\n",
       "    <tr>\n",
       "      <th>3</th>\n",
       "      <td>0.063978</td>\n",
       "      <td>0.055681</td>\n",
       "      <td>0.619173</td>\n",
       "      <td>0.543745</td>\n",
       "      <td>0.272041</td>\n",
       "      <td>0.364778</td>\n",
       "      <td>0.114542</td>\n",
       "      <td>0.473359</td>\n",
       "    </tr>\n",
       "    <tr>\n",
       "      <th>4</th>\n",
       "      <td>0.104734</td>\n",
       "      <td>0.662841</td>\n",
       "      <td>0.679483</td>\n",
       "      <td>0.240006</td>\n",
       "      <td>0.187413</td>\n",
       "      <td>0.188863</td>\n",
       "      <td>0.458673</td>\n",
       "      <td>0.364380</td>\n",
       "    </tr>\n",
       "  </tbody>\n",
       "</table>\n",
       "</div>"
      ],
      "text/plain": [
       "          0         1         2         3         4         5         6  \\\n",
       "0  0.648620  0.701631  0.361178  0.326093  0.721273  0.053686  0.757662   \n",
       "1  0.411736  0.518666  0.935169  0.529580  0.007226  0.013108  0.604676   \n",
       "2  0.345676  0.607968  0.041497  0.704728  0.917210  0.908236  0.526377   \n",
       "3  0.063978  0.055681  0.619173  0.543745  0.272041  0.364778  0.114542   \n",
       "4  0.104734  0.662841  0.679483  0.240006  0.187413  0.188863  0.458673   \n",
       "\n",
       "          7  \n",
       "0  0.723144  \n",
       "1  0.726580  \n",
       "2  0.833262  \n",
       "3  0.473359  \n",
       "4  0.364380  "
      ]
     },
     "execution_count": 36,
     "metadata": {},
     "output_type": "execute_result"
    }
   ],
   "source": [
    "# selecting only numerical columns\n",
    "dfr.select_dtypes(include = 'number').head()"
   ]
  },
  {
   "cell_type": "code",
   "execution_count": 37,
   "metadata": {},
   "outputs": [
    {
     "data": {
      "text/html": [
       "<div>\n",
       "<style scoped>\n",
       "    .dataframe tbody tr th:only-of-type {\n",
       "        vertical-align: middle;\n",
       "    }\n",
       "\n",
       "    .dataframe tbody tr th {\n",
       "        vertical-align: top;\n",
       "    }\n",
       "\n",
       "    .dataframe thead th {\n",
       "        text-align: right;\n",
       "    }\n",
       "</style>\n",
       "<table border=\"1\" class=\"dataframe\">\n",
       "  <thead>\n",
       "    <tr style=\"text-align: right;\">\n",
       "      <th></th>\n",
       "      <th>0</th>\n",
       "      <th>1</th>\n",
       "      <th>2</th>\n",
       "      <th>3</th>\n",
       "      <th>4</th>\n",
       "      <th>5</th>\n",
       "      <th>6</th>\n",
       "      <th>7</th>\n",
       "    </tr>\n",
       "  </thead>\n",
       "  <tbody>\n",
       "    <tr>\n",
       "      <th>0</th>\n",
       "      <td>0.648620</td>\n",
       "      <td>0.701631</td>\n",
       "      <td>0.361178</td>\n",
       "      <td>0.326093</td>\n",
       "      <td>0.721273</td>\n",
       "      <td>0.053686</td>\n",
       "      <td>0.757662</td>\n",
       "      <td>0.723144</td>\n",
       "    </tr>\n",
       "    <tr>\n",
       "      <th>1</th>\n",
       "      <td>0.411736</td>\n",
       "      <td>0.518666</td>\n",
       "      <td>0.935169</td>\n",
       "      <td>0.529580</td>\n",
       "      <td>0.007226</td>\n",
       "      <td>0.013108</td>\n",
       "      <td>0.604676</td>\n",
       "      <td>0.726580</td>\n",
       "    </tr>\n",
       "    <tr>\n",
       "      <th>2</th>\n",
       "      <td>0.345676</td>\n",
       "      <td>0.607968</td>\n",
       "      <td>0.041497</td>\n",
       "      <td>0.704728</td>\n",
       "      <td>0.917210</td>\n",
       "      <td>0.908236</td>\n",
       "      <td>0.526377</td>\n",
       "      <td>0.833262</td>\n",
       "    </tr>\n",
       "    <tr>\n",
       "      <th>3</th>\n",
       "      <td>0.063978</td>\n",
       "      <td>0.055681</td>\n",
       "      <td>0.619173</td>\n",
       "      <td>0.543745</td>\n",
       "      <td>0.272041</td>\n",
       "      <td>0.364778</td>\n",
       "      <td>0.114542</td>\n",
       "      <td>0.473359</td>\n",
       "    </tr>\n",
       "    <tr>\n",
       "      <th>4</th>\n",
       "      <td>0.104734</td>\n",
       "      <td>0.662841</td>\n",
       "      <td>0.679483</td>\n",
       "      <td>0.240006</td>\n",
       "      <td>0.187413</td>\n",
       "      <td>0.188863</td>\n",
       "      <td>0.458673</td>\n",
       "      <td>0.364380</td>\n",
       "    </tr>\n",
       "  </tbody>\n",
       "</table>\n",
       "</div>"
      ],
      "text/plain": [
       "          0         1         2         3         4         5         6  \\\n",
       "0  0.648620  0.701631  0.361178  0.326093  0.721273  0.053686  0.757662   \n",
       "1  0.411736  0.518666  0.935169  0.529580  0.007226  0.013108  0.604676   \n",
       "2  0.345676  0.607968  0.041497  0.704728  0.917210  0.908236  0.526377   \n",
       "3  0.063978  0.055681  0.619173  0.543745  0.272041  0.364778  0.114542   \n",
       "4  0.104734  0.662841  0.679483  0.240006  0.187413  0.188863  0.458673   \n",
       "\n",
       "          7  \n",
       "0  0.723144  \n",
       "1  0.726580  \n",
       "2  0.833262  \n",
       "3  0.473359  \n",
       "4  0.364380  "
      ]
     },
     "execution_count": 37,
     "metadata": {},
     "output_type": "execute_result"
    }
   ],
   "source": [
    "# We can also include multiple datatypes:\n",
    "dfr.select_dtypes(include=['number', 'object', 'category', 'datetime']).head()"
   ]
  },
  {
   "cell_type": "code",
   "execution_count": 38,
   "metadata": {},
   "outputs": [
    {
     "data": {
      "text/html": [
       "<div>\n",
       "<style scoped>\n",
       "    .dataframe tbody tr th:only-of-type {\n",
       "        vertical-align: middle;\n",
       "    }\n",
       "\n",
       "    .dataframe tbody tr th {\n",
       "        vertical-align: top;\n",
       "    }\n",
       "\n",
       "    .dataframe thead th {\n",
       "        text-align: right;\n",
       "    }\n",
       "</style>\n",
       "<table border=\"1\" class=\"dataframe\">\n",
       "  <thead>\n",
       "    <tr style=\"text-align: right;\">\n",
       "      <th></th>\n",
       "    </tr>\n",
       "  </thead>\n",
       "  <tbody>\n",
       "    <tr>\n",
       "      <th>0</th>\n",
       "    </tr>\n",
       "    <tr>\n",
       "      <th>1</th>\n",
       "    </tr>\n",
       "    <tr>\n",
       "      <th>2</th>\n",
       "    </tr>\n",
       "    <tr>\n",
       "      <th>3</th>\n",
       "    </tr>\n",
       "    <tr>\n",
       "      <th>4</th>\n",
       "    </tr>\n",
       "  </tbody>\n",
       "</table>\n",
       "</div>"
      ],
      "text/plain": [
       "Empty DataFrame\n",
       "Columns: []\n",
       "Index: [0, 1, 2, 3, 4]"
      ]
     },
     "execution_count": 38,
     "metadata": {},
     "output_type": "execute_result"
    }
   ],
   "source": [
    "# We can also exclude certain datatypes\n",
    "dfr.select_dtypes(exclude='number').head()"
   ]
  },
  {
   "cell_type": "markdown",
   "metadata": {},
   "source": [
    "### Convert strings to number"
   ]
  },
  {
   "cell_type": "code",
   "execution_count": 39,
   "metadata": {},
   "outputs": [
    {
     "data": {
      "text/html": [
       "<div>\n",
       "<style scoped>\n",
       "    .dataframe tbody tr th:only-of-type {\n",
       "        vertical-align: middle;\n",
       "    }\n",
       "\n",
       "    .dataframe tbody tr th {\n",
       "        vertical-align: top;\n",
       "    }\n",
       "\n",
       "    .dataframe thead th {\n",
       "        text-align: right;\n",
       "    }\n",
       "</style>\n",
       "<table border=\"1\" class=\"dataframe\">\n",
       "  <thead>\n",
       "    <tr style=\"text-align: right;\">\n",
       "      <th></th>\n",
       "      <th>col_one</th>\n",
       "      <th>col_two</th>\n",
       "      <th>col_three</th>\n",
       "    </tr>\n",
       "  </thead>\n",
       "  <tbody>\n",
       "    <tr>\n",
       "      <th>0</th>\n",
       "      <td>1.1</td>\n",
       "      <td>4.4</td>\n",
       "      <td>7.7</td>\n",
       "    </tr>\n",
       "    <tr>\n",
       "      <th>1</th>\n",
       "      <td>2.2</td>\n",
       "      <td>5.5</td>\n",
       "      <td>8.8</td>\n",
       "    </tr>\n",
       "    <tr>\n",
       "      <th>2</th>\n",
       "      <td>3.3</td>\n",
       "      <td>6.6</td>\n",
       "      <td>-</td>\n",
       "    </tr>\n",
       "  </tbody>\n",
       "</table>\n",
       "</div>"
      ],
      "text/plain": [
       "  col_one col_two col_three\n",
       "0     1.1     4.4       7.7\n",
       "1     2.2     5.5       8.8\n",
       "2     3.3     6.6         -"
      ]
     },
     "execution_count": 39,
     "metadata": {},
     "output_type": "execute_result"
    }
   ],
   "source": [
    "df = pd.DataFrame({'col_one': ['1.1', '2.2', '3.3'],\n",
    "                  'col_two': ['4.4', '5.5', '6.6'],\n",
    "                  'col_three': ['7.7', '8.8', '-']})\n",
    "df"
   ]
  },
  {
   "cell_type": "code",
   "execution_count": 40,
   "metadata": {},
   "outputs": [
    {
     "data": {
      "text/plain": [
       "col_one      object\n",
       "col_two      object\n",
       "col_three    object\n",
       "dtype: object"
      ]
     },
     "execution_count": 40,
     "metadata": {},
     "output_type": "execute_result"
    }
   ],
   "source": [
    "df.dtypes"
   ]
  },
  {
   "cell_type": "code",
   "execution_count": 41,
   "metadata": {},
   "outputs": [
    {
     "data": {
      "text/plain": [
       "col_one      float64\n",
       "col_two      float64\n",
       "col_three     object\n",
       "dtype: object"
      ]
     },
     "execution_count": 41,
     "metadata": {},
     "output_type": "execute_result"
    }
   ],
   "source": [
    "# it would convert the type of all those columns which have possibility to convert their type\n",
    "# It would have given an error on the 3rd column as it contains a dash(-)\n",
    "df.astype({'col_one': 'float', 'col_two':'float'}).dtypes"
   ]
  },
  {
   "cell_type": "code",
   "execution_count": 43,
   "metadata": {},
   "outputs": [
    {
     "data": {
      "text/plain": [
       "0    7.7\n",
       "1    8.8\n",
       "2    NaN\n",
       "Name: col_three, dtype: float64"
      ]
     },
     "execution_count": 43,
     "metadata": {},
     "output_type": "execute_result"
    }
   ],
   "source": [
    "# Applying on a particular column\n",
    "# Convert any invalid inputs into NaN values\n",
    "pd.to_numeric(df.col_three, errors='coerce')"
   ]
  },
  {
   "cell_type": "code",
   "execution_count": 45,
   "metadata": {},
   "outputs": [
    {
     "data": {
      "text/plain": [
       "0    7.7\n",
       "1    8.8\n",
       "2    0.0\n",
       "Name: col_three, dtype: float64"
      ]
     },
     "execution_count": 45,
     "metadata": {},
     "output_type": "execute_result"
    }
   ],
   "source": [
    "# If we know that NaN values represents zero, then we can fill NaN values with zeros\n",
    "pd.to_numeric(df.col_three, errors='coerce').fillna(0)"
   ]
  },
  {
   "cell_type": "code",
   "execution_count": 46,
   "metadata": {},
   "outputs": [
    {
     "data": {
      "text/html": [
       "<div>\n",
       "<style scoped>\n",
       "    .dataframe tbody tr th:only-of-type {\n",
       "        vertical-align: middle;\n",
       "    }\n",
       "\n",
       "    .dataframe tbody tr th {\n",
       "        vertical-align: top;\n",
       "    }\n",
       "\n",
       "    .dataframe thead th {\n",
       "        text-align: right;\n",
       "    }\n",
       "</style>\n",
       "<table border=\"1\" class=\"dataframe\">\n",
       "  <thead>\n",
       "    <tr style=\"text-align: right;\">\n",
       "      <th></th>\n",
       "      <th>col_one</th>\n",
       "      <th>col_two</th>\n",
       "      <th>col_three</th>\n",
       "    </tr>\n",
       "  </thead>\n",
       "  <tbody>\n",
       "    <tr>\n",
       "      <th>0</th>\n",
       "      <td>1.1</td>\n",
       "      <td>4.4</td>\n",
       "      <td>7.7</td>\n",
       "    </tr>\n",
       "    <tr>\n",
       "      <th>1</th>\n",
       "      <td>2.2</td>\n",
       "      <td>5.5</td>\n",
       "      <td>8.8</td>\n",
       "    </tr>\n",
       "    <tr>\n",
       "      <th>2</th>\n",
       "      <td>3.3</td>\n",
       "      <td>6.6</td>\n",
       "      <td>0.0</td>\n",
       "    </tr>\n",
       "  </tbody>\n",
       "</table>\n",
       "</div>"
      ],
      "text/plain": [
       "   col_one  col_two  col_three\n",
       "0      1.1      4.4        7.7\n",
       "1      2.2      5.5        8.8\n",
       "2      3.3      6.6        0.0"
      ]
     },
     "execution_count": 46,
     "metadata": {},
     "output_type": "execute_result"
    }
   ],
   "source": [
    "# Instead of particular column, if we want to apply the method to the complete dataframe then we can use apply method\n",
    "df = df.apply(pd.to_numeric, errors='coerce').fillna(0)\n",
    "df"
   ]
  },
  {
   "cell_type": "code",
   "execution_count": 48,
   "metadata": {},
   "outputs": [
    {
     "data": {
      "text/plain": [
       "col_one      float64\n",
       "col_two      float64\n",
       "col_three    float64\n",
       "dtype: object"
      ]
     },
     "execution_count": 48,
     "metadata": {},
     "output_type": "execute_result"
    }
   ],
   "source": [
    "df.dtypes"
   ]
  },
  {
   "cell_type": "markdown",
   "metadata": {},
   "source": [
    "### Reduce dataframe size"
   ]
  },
  {
   "cell_type": "code",
   "execution_count": 53,
   "metadata": {},
   "outputs": [
    {
     "name": "stdout",
     "output_type": "stream",
     "text": [
      "<class 'pandas.core.frame.DataFrame'>\n",
      "RangeIndex: 193 entries, 0 to 192\n",
      "Data columns (total 6 columns):\n",
      " #   Column                        Non-Null Count  Dtype  \n",
      "---  ------                        --------------  -----  \n",
      " 0   country                       193 non-null    object \n",
      " 1   beer_servings                 193 non-null    int64  \n",
      " 2   spirit_servings               193 non-null    int64  \n",
      " 3   wine_servings                 193 non-null    int64  \n",
      " 4   total_litres_of_pure_alcohol  193 non-null    float64\n",
      " 5   continent                     193 non-null    object \n",
      "dtypes: float64(1), int64(3), object(2)\n",
      "memory usage: 30.5 KB\n"
     ]
    }
   ],
   "source": [
    "# At the bottom of the output we can check how much size is getting occupied by the dataframe\n",
    "df = pd.read_csv('http://bit.ly/drinksbycountry')\n",
    "df.info(memory_usage='deep')"
   ]
  },
  {
   "cell_type": "code",
   "execution_count": 57,
   "metadata": {},
   "outputs": [
    {
     "name": "stdout",
     "output_type": "stream",
     "text": [
      "<class 'pandas.core.frame.DataFrame'>\n",
      "RangeIndex: 193 entries, 0 to 192\n",
      "Data columns (total 2 columns):\n",
      " #   Column         Non-Null Count  Dtype \n",
      "---  ------         --------------  ----- \n",
      " 0   beer_servings  193 non-null    int64 \n",
      " 1   continent      193 non-null    object\n",
      "dtypes: int64(1), object(1)\n",
      "memory usage: 13.7 KB\n"
     ]
    }
   ],
   "source": [
    "# If the files too large and we need only few columns so as to avoid memory error, the we can read particular columns only using usecols\n",
    "cols = ['beer_servings', 'continent']\n",
    "small_drinks = pd.read_csv('http://bit.ly/drinksbycountry', usecols = cols)\n",
    "small_drinks.info(memory_usage='deep')"
   ]
  },
  {
   "cell_type": "code",
   "execution_count": 58,
   "metadata": {},
   "outputs": [
    {
     "data": {
      "text/plain": [
       "0               Asia\n",
       "1             Europe\n",
       "2             Africa\n",
       "3             Europe\n",
       "4             Africa\n",
       "           ...      \n",
       "188    South America\n",
       "189             Asia\n",
       "190             Asia\n",
       "191           Africa\n",
       "192           Africa\n",
       "Name: continent, Length: 193, dtype: object"
      ]
     },
     "execution_count": 58,
     "metadata": {},
     "output_type": "execute_result"
    }
   ],
   "source": [
    "small_drinks['continent']"
   ]
  },
  {
   "cell_type": "code",
   "execution_count": 59,
   "metadata": {},
   "outputs": [
    {
     "name": "stdout",
     "output_type": "stream",
     "text": [
      "<class 'pandas.core.frame.DataFrame'>\n",
      "RangeIndex: 193 entries, 0 to 192\n",
      "Data columns (total 2 columns):\n",
      " #   Column         Non-Null Count  Dtype   \n",
      "---  ------         --------------  -----   \n",
      " 0   beer_servings  193 non-null    int64   \n",
      " 1   continent      193 non-null    category\n",
      "dtypes: category(1), int64(1)\n",
      "memory usage: 2.4 KB\n"
     ]
    }
   ],
   "source": [
    "# By reading any column with the 'category' datatype, we further reduce the SIZE of the dataframe\n",
    "# This time, the size will only be reduced when we have small number of categories relative to the number of floats\n",
    "dtypes = {'continent' : 'category'}\n",
    "smaller_drinks = pd.read_csv('http://bit.ly/drinksbycountry', usecols=cols, dtype=dtypes)\n",
    "smaller_drinks.info(memory_usage='deep')"
   ]
  },
  {
   "cell_type": "markdown",
   "metadata": {},
   "source": [
    "### Build a DataFrame from multiple files (row-wise)"
   ]
  },
  {
   "cell_type": "code",
   "execution_count": 60,
   "metadata": {},
   "outputs": [],
   "source": [
    "# We can read different .csv files with same column names into the dataframe, concat them and delete the original smaller dataframes.\n",
    "# But this will be memory inefficient and will occupy lot of space\n",
    "\n",
    "# SO, we can save the memory be concatinating them while reading itself\n",
    "# We make a use of glob for this"
   ]
  },
  {
   "cell_type": "code",
   "execution_count": 61,
   "metadata": {},
   "outputs": [],
   "source": [
    "#from glob import glob\n",
    "#stock_files = sorted(glob('data/stocks*.csv'))\n",
    "# stock_files"
   ]
  },
  {
   "cell_type": "code",
   "execution_count": 62,
   "metadata": {},
   "outputs": [],
   "source": [
    "# concatinating with glob without rearranging the index. We get duplicate index values here\n",
    "#pd.concat((pd.read_csv(file) for file in stock_files))"
   ]
  },
  {
   "cell_type": "code",
   "execution_count": 64,
   "metadata": {},
   "outputs": [],
   "source": [
    "# concatinating with glob by reseting the index by ignoring it\n",
    "#pd.concat((pd.read_csv(file) for file in stock_files), ignore_index=True)"
   ]
  },
  {
   "cell_type": "markdown",
   "metadata": {},
   "source": [
    "### Build a DataFrame from multiple files (column-wise)"
   ]
  },
  {
   "cell_type": "code",
   "execution_count": 65,
   "metadata": {},
   "outputs": [],
   "source": [
    "# We again make use of globs and this time we concatenate along the column axis\n",
    "# pd.concat((pd.read_csv(file) for file in drink_files), axis='columns').head()"
   ]
  },
  {
   "cell_type": "markdown",
   "metadata": {},
   "source": [
    "### Create a DataFrame from the clipboard"
   ]
  },
  {
   "cell_type": "code",
   "execution_count": null,
   "metadata": {},
   "outputs": [],
   "source": [
    "#copy the tabular data, maybe from excel\n",
    "# then\n",
    "# df = pd.read_clipboard()\n",
    "# df\n",
    "# df.index"
   ]
  },
  {
   "cell_type": "markdown",
   "metadata": {},
   "source": [
    "### Split a DataFrame into two random subsets"
   ]
  },
  {
   "cell_type": "code",
   "execution_count": 66,
   "metadata": {},
   "outputs": [],
   "source": [
    "#For dataframes with uniques row indices\n",
    "movies = pd.DataFrame(np.random.rand(14,8))"
   ]
  },
  {
   "cell_type": "code",
   "execution_count": 67,
   "metadata": {},
   "outputs": [],
   "source": [
    "movies_1 = movies.sample(frac=0.75, random_state=1234) #75%data\n",
    "movies_2 = movies.drop(movies_1.index) #except the above 75% data"
   ]
  },
  {
   "cell_type": "code",
   "execution_count": 70,
   "metadata": {},
   "outputs": [
    {
     "data": {
      "text/html": [
       "<div>\n",
       "<style scoped>\n",
       "    .dataframe tbody tr th:only-of-type {\n",
       "        vertical-align: middle;\n",
       "    }\n",
       "\n",
       "    .dataframe tbody tr th {\n",
       "        vertical-align: top;\n",
       "    }\n",
       "\n",
       "    .dataframe thead th {\n",
       "        text-align: right;\n",
       "    }\n",
       "</style>\n",
       "<table border=\"1\" class=\"dataframe\">\n",
       "  <thead>\n",
       "    <tr style=\"text-align: right;\">\n",
       "      <th></th>\n",
       "      <th>0</th>\n",
       "      <th>1</th>\n",
       "      <th>2</th>\n",
       "      <th>3</th>\n",
       "      <th>4</th>\n",
       "      <th>5</th>\n",
       "      <th>6</th>\n",
       "      <th>7</th>\n",
       "    </tr>\n",
       "  </thead>\n",
       "  <tbody>\n",
       "    <tr>\n",
       "      <th>3</th>\n",
       "      <td>0.492140</td>\n",
       "      <td>0.685341</td>\n",
       "      <td>0.105271</td>\n",
       "      <td>0.067212</td>\n",
       "      <td>0.250593</td>\n",
       "      <td>0.945600</td>\n",
       "      <td>0.597596</td>\n",
       "      <td>0.297543</td>\n",
       "    </tr>\n",
       "    <tr>\n",
       "      <th>4</th>\n",
       "      <td>0.160771</td>\n",
       "      <td>0.450033</td>\n",
       "      <td>0.070105</td>\n",
       "      <td>0.090258</td>\n",
       "      <td>0.598208</td>\n",
       "      <td>0.362539</td>\n",
       "      <td>0.552839</td>\n",
       "      <td>0.216564</td>\n",
       "    </tr>\n",
       "    <tr>\n",
       "      <th>5</th>\n",
       "      <td>0.817434</td>\n",
       "      <td>0.280540</td>\n",
       "      <td>0.430321</td>\n",
       "      <td>0.710895</td>\n",
       "      <td>0.583871</td>\n",
       "      <td>0.687804</td>\n",
       "      <td>0.027666</td>\n",
       "      <td>0.298047</td>\n",
       "    </tr>\n",
       "    <tr>\n",
       "      <th>6</th>\n",
       "      <td>0.009880</td>\n",
       "      <td>0.204278</td>\n",
       "      <td>0.559439</td>\n",
       "      <td>0.634970</td>\n",
       "      <td>0.603905</td>\n",
       "      <td>0.639808</td>\n",
       "      <td>0.814014</td>\n",
       "      <td>0.866520</td>\n",
       "    </tr>\n",
       "  </tbody>\n",
       "</table>\n",
       "</div>"
      ],
      "text/plain": [
       "          0         1         2         3         4         5         6  \\\n",
       "3  0.492140  0.685341  0.105271  0.067212  0.250593  0.945600  0.597596   \n",
       "4  0.160771  0.450033  0.070105  0.090258  0.598208  0.362539  0.552839   \n",
       "5  0.817434  0.280540  0.430321  0.710895  0.583871  0.687804  0.027666   \n",
       "6  0.009880  0.204278  0.559439  0.634970  0.603905  0.639808  0.814014   \n",
       "\n",
       "          7  \n",
       "3  0.297543  \n",
       "4  0.216564  \n",
       "5  0.298047  \n",
       "6  0.866520  "
      ]
     },
     "execution_count": 70,
     "metadata": {},
     "output_type": "execute_result"
    }
   ],
   "source": [
    "movies_2"
   ]
  },
  {
   "cell_type": "code",
   "execution_count": null,
   "metadata": {},
   "outputs": [],
   "source": [
    "# We can see the indices of these dataframe like this\n",
    "# movies_1.index.sort_values()"
   ]
  },
  {
   "cell_type": "markdown",
   "metadata": {},
   "source": [
    "### Filter a Dataframe by multiple categories"
   ]
  },
  {
   "cell_type": "code",
   "execution_count": null,
   "metadata": {},
   "outputs": [],
   "source": [
    "#Suppose for a movies dataset\n",
    "#There is a column named genre\n",
    "#movies.genre.unique()"
   ]
  },
  {
   "cell_type": "code",
   "execution_count": null,
   "metadata": {},
   "outputs": [],
   "source": [
    "# We can get all those rows with the particular values for any columns in the following way\n",
    "# movies[(movies.genre == 'Action') | \n",
    "#     (movies.genre == 'Drama') |\n",
    "#     (movies.genre == 'Western')].head()"
   ]
  },
  {
   "cell_type": "code",
   "execution_count": 71,
   "metadata": {},
   "outputs": [],
   "source": [
    "#more clearly we can wirte:\n",
    "# movies[movies.genre.isin(['Action', 'Drama', 'Western'])].head()\n",
    "# Also to avoid some rows with conditions, we do\n",
    "# movies[~movies.genre.isin(['Action', 'Drama', 'Western'])].head()"
   ]
  },
  {
   "cell_type": "markdown",
   "metadata": {},
   "source": [
    "### Filter a DataFrame by largest categories"
   ]
  },
  {
   "cell_type": "code",
   "execution_count": 72,
   "metadata": {},
   "outputs": [],
   "source": [
    "#We want to select the data with 3 largest genres. Genres is a column which contains multiple genres\n",
    "#counts = movies.genre.value_counts()\n",
    "# counts()"
   ]
  },
  {
   "cell_type": "code",
   "execution_count": 73,
   "metadata": {},
   "outputs": [],
   "source": [
    "#To delect 3 largest genres\n",
    "# counts.nlargest(3)\n",
    "\n",
    "#Here, couns.nlargest(3).index   represents the count of 3 largest genres with the help of which we can get all those rows with this genres"
   ]
  },
  {
   "cell_type": "code",
   "execution_count": 74,
   "metadata": {},
   "outputs": [],
   "source": [
    "# To get the dataframe with top 3 genres in count\n",
    "# movies[movies.genre.isin(counts.nlargest(3).index)].head()"
   ]
  },
  {
   "cell_type": "markdown",
   "metadata": {},
   "source": [
    "### Handle missing values"
   ]
  },
  {
   "cell_type": "code",
   "execution_count": null,
   "metadata": {},
   "outputs": [],
   "source": [
    "# ufo.head()\n",
    "\n",
    "# ufo.dropna(thres=len(ufo)*0.9, axis='columns').head()"
   ]
  },
  {
   "cell_type": "code",
   "execution_count": 75,
   "metadata": {},
   "outputs": [],
   "source": [
    "#To know how many NaN values are present inside the dataset\n",
    "# ufo.isna().sum()"
   ]
  },
  {
   "cell_type": "code",
   "execution_count": null,
   "metadata": {},
   "outputs": [],
   "source": [
    "# To know the % of missing values\n",
    "# ufo.isna().mean()"
   ]
  },
  {
   "cell_type": "code",
   "execution_count": null,
   "metadata": {},
   "outputs": [],
   "source": [
    "#To drop the column with any missing values\n",
    "# ufo.dropna(axis='columns').head()"
   ]
  },
  {
   "cell_type": "code",
   "execution_count": 76,
   "metadata": {},
   "outputs": [],
   "source": [
    "#To drop only those columns where 10% of values are missing\n",
    "# ufo.dropna(thres=len(ufo)*0.9, axis='columns').head()"
   ]
  },
  {
   "cell_type": "markdown",
   "metadata": {},
   "source": [
    "### Split a string into multiple columns"
   ]
  },
  {
   "cell_type": "code",
   "execution_count": 79,
   "metadata": {},
   "outputs": [
    {
     "data": {
      "text/html": [
       "<div>\n",
       "<style scoped>\n",
       "    .dataframe tbody tr th:only-of-type {\n",
       "        vertical-align: middle;\n",
       "    }\n",
       "\n",
       "    .dataframe tbody tr th {\n",
       "        vertical-align: top;\n",
       "    }\n",
       "\n",
       "    .dataframe thead th {\n",
       "        text-align: right;\n",
       "    }\n",
       "</style>\n",
       "<table border=\"1\" class=\"dataframe\">\n",
       "  <thead>\n",
       "    <tr style=\"text-align: right;\">\n",
       "      <th></th>\n",
       "      <th>name</th>\n",
       "      <th>location</th>\n",
       "    </tr>\n",
       "  </thead>\n",
       "  <tbody>\n",
       "    <tr>\n",
       "      <th>0</th>\n",
       "      <td>John Arthur Doe</td>\n",
       "      <td>Los Angeles, CA</td>\n",
       "    </tr>\n",
       "    <tr>\n",
       "      <th>1</th>\n",
       "      <td>Jane Ann Smith</td>\n",
       "      <td>Washington, DC</td>\n",
       "    </tr>\n",
       "  </tbody>\n",
       "</table>\n",
       "</div>"
      ],
      "text/plain": [
       "              name         location\n",
       "0  John Arthur Doe  Los Angeles, CA\n",
       "1   Jane Ann Smith   Washington, DC"
      ]
     },
     "execution_count": 79,
     "metadata": {},
     "output_type": "execute_result"
    }
   ],
   "source": [
    "df = pd.DataFrame({'name': ['John Arthur Doe', 'Jane Ann Smith'],\n",
    "                  'location': ['Los Angeles, CA', 'Washington, DC']})\n",
    "df"
   ]
  },
  {
   "cell_type": "code",
   "execution_count": 84,
   "metadata": {},
   "outputs": [
    {
     "data": {
      "text/html": [
       "<div>\n",
       "<style scoped>\n",
       "    .dataframe tbody tr th:only-of-type {\n",
       "        vertical-align: middle;\n",
       "    }\n",
       "\n",
       "    .dataframe tbody tr th {\n",
       "        vertical-align: top;\n",
       "    }\n",
       "\n",
       "    .dataframe thead th {\n",
       "        text-align: right;\n",
       "    }\n",
       "</style>\n",
       "<table border=\"1\" class=\"dataframe\">\n",
       "  <thead>\n",
       "    <tr style=\"text-align: right;\">\n",
       "      <th></th>\n",
       "      <th>0</th>\n",
       "      <th>1</th>\n",
       "      <th>2</th>\n",
       "    </tr>\n",
       "  </thead>\n",
       "  <tbody>\n",
       "    <tr>\n",
       "      <th>0</th>\n",
       "      <td>John</td>\n",
       "      <td>Arthur</td>\n",
       "      <td>Doe</td>\n",
       "    </tr>\n",
       "    <tr>\n",
       "      <th>1</th>\n",
       "      <td>Jane</td>\n",
       "      <td>Ann</td>\n",
       "      <td>Smith</td>\n",
       "    </tr>\n",
       "  </tbody>\n",
       "</table>\n",
       "</div>"
      ],
      "text/plain": [
       "      0       1      2\n",
       "0  John  Arthur    Doe\n",
       "1  Jane     Ann  Smith"
      ]
     },
     "execution_count": 84,
     "metadata": {},
     "output_type": "execute_result"
    }
   ],
   "source": [
    "#Split the column based on space character in the datavalue of that column\n",
    "df.name.str.split(' ', expand=True)"
   ]
  },
  {
   "cell_type": "code",
   "execution_count": 86,
   "metadata": {},
   "outputs": [
    {
     "data": {
      "text/html": [
       "<div>\n",
       "<style scoped>\n",
       "    .dataframe tbody tr th:only-of-type {\n",
       "        vertical-align: middle;\n",
       "    }\n",
       "\n",
       "    .dataframe tbody tr th {\n",
       "        vertical-align: top;\n",
       "    }\n",
       "\n",
       "    .dataframe thead th {\n",
       "        text-align: right;\n",
       "    }\n",
       "</style>\n",
       "<table border=\"1\" class=\"dataframe\">\n",
       "  <thead>\n",
       "    <tr style=\"text-align: right;\">\n",
       "      <th></th>\n",
       "      <th>name</th>\n",
       "      <th>location</th>\n",
       "      <th>first</th>\n",
       "      <th>middle</th>\n",
       "      <th>last</th>\n",
       "    </tr>\n",
       "  </thead>\n",
       "  <tbody>\n",
       "    <tr>\n",
       "      <th>0</th>\n",
       "      <td>John Arthur Doe</td>\n",
       "      <td>Los Angeles, CA</td>\n",
       "      <td>John</td>\n",
       "      <td>Arthur</td>\n",
       "      <td>Doe</td>\n",
       "    </tr>\n",
       "    <tr>\n",
       "      <th>1</th>\n",
       "      <td>Jane Ann Smith</td>\n",
       "      <td>Washington, DC</td>\n",
       "      <td>Jane</td>\n",
       "      <td>Ann</td>\n",
       "      <td>Smith</td>\n",
       "    </tr>\n",
       "  </tbody>\n",
       "</table>\n",
       "</div>"
      ],
      "text/plain": [
       "              name         location first  middle   last\n",
       "0  John Arthur Doe  Los Angeles, CA  John  Arthur    Doe\n",
       "1   Jane Ann Smith   Washington, DC  Jane     Ann  Smith"
      ]
     },
     "execution_count": 86,
     "metadata": {},
     "output_type": "execute_result"
    }
   ],
   "source": [
    "#Split the columns based on spaces and create new columns with the custom names inside the same dataframe\n",
    "df[['first', 'middle', 'last']] = df.name.str.split(' ', expand=True)\n",
    "df"
   ]
  },
  {
   "cell_type": "code",
   "execution_count": 87,
   "metadata": {},
   "outputs": [
    {
     "data": {
      "text/html": [
       "<div>\n",
       "<style scoped>\n",
       "    .dataframe tbody tr th:only-of-type {\n",
       "        vertical-align: middle;\n",
       "    }\n",
       "\n",
       "    .dataframe tbody tr th {\n",
       "        vertical-align: top;\n",
       "    }\n",
       "\n",
       "    .dataframe thead th {\n",
       "        text-align: right;\n",
       "    }\n",
       "</style>\n",
       "<table border=\"1\" class=\"dataframe\">\n",
       "  <thead>\n",
       "    <tr style=\"text-align: right;\">\n",
       "      <th></th>\n",
       "      <th>name</th>\n",
       "      <th>location</th>\n",
       "      <th>first</th>\n",
       "      <th>middle</th>\n",
       "      <th>last</th>\n",
       "      <th>city</th>\n",
       "    </tr>\n",
       "  </thead>\n",
       "  <tbody>\n",
       "    <tr>\n",
       "      <th>0</th>\n",
       "      <td>John Arthur Doe</td>\n",
       "      <td>Los Angeles, CA</td>\n",
       "      <td>John</td>\n",
       "      <td>Arthur</td>\n",
       "      <td>Doe</td>\n",
       "      <td>Los Angeles</td>\n",
       "    </tr>\n",
       "    <tr>\n",
       "      <th>1</th>\n",
       "      <td>Jane Ann Smith</td>\n",
       "      <td>Washington, DC</td>\n",
       "      <td>Jane</td>\n",
       "      <td>Ann</td>\n",
       "      <td>Smith</td>\n",
       "      <td>Washington</td>\n",
       "    </tr>\n",
       "  </tbody>\n",
       "</table>\n",
       "</div>"
      ],
      "text/plain": [
       "              name         location first  middle   last         city\n",
       "0  John Arthur Doe  Los Angeles, CA  John  Arthur    Doe  Los Angeles\n",
       "1   Jane Ann Smith   Washington, DC  Jane     Ann  Smith   Washington"
      ]
     },
     "execution_count": 87,
     "metadata": {},
     "output_type": "execute_result"
    }
   ],
   "source": [
    "#Here, we we wanted to save only city name, then\n",
    "df['city'] = df.location.str.split(', ', expand=True)[0]\n",
    "df"
   ]
  },
  {
   "cell_type": "markdown",
   "metadata": {},
   "source": [
    "### Expand a Series of lists into a DataFrame"
   ]
  },
  {
   "cell_type": "code",
   "execution_count": 88,
   "metadata": {},
   "outputs": [
    {
     "data": {
      "text/html": [
       "<div>\n",
       "<style scoped>\n",
       "    .dataframe tbody tr th:only-of-type {\n",
       "        vertical-align: middle;\n",
       "    }\n",
       "\n",
       "    .dataframe tbody tr th {\n",
       "        vertical-align: top;\n",
       "    }\n",
       "\n",
       "    .dataframe thead th {\n",
       "        text-align: right;\n",
       "    }\n",
       "</style>\n",
       "<table border=\"1\" class=\"dataframe\">\n",
       "  <thead>\n",
       "    <tr style=\"text-align: right;\">\n",
       "      <th></th>\n",
       "      <th>col_one</th>\n",
       "      <th>col_two</th>\n",
       "    </tr>\n",
       "  </thead>\n",
       "  <tbody>\n",
       "    <tr>\n",
       "      <th>0</th>\n",
       "      <td>a</td>\n",
       "      <td>[10, 40]</td>\n",
       "    </tr>\n",
       "    <tr>\n",
       "      <th>1</th>\n",
       "      <td>b</td>\n",
       "      <td>[20, 50]</td>\n",
       "    </tr>\n",
       "    <tr>\n",
       "      <th>2</th>\n",
       "      <td>c</td>\n",
       "      <td>[30, 60]</td>\n",
       "    </tr>\n",
       "  </tbody>\n",
       "</table>\n",
       "</div>"
      ],
      "text/plain": [
       "  col_one   col_two\n",
       "0       a  [10, 40]\n",
       "1       b  [20, 50]\n",
       "2       c  [30, 60]"
      ]
     },
     "execution_count": 88,
     "metadata": {},
     "output_type": "execute_result"
    }
   ],
   "source": [
    "df = pd.DataFrame({'col_one': ['a', 'b', 'c'], 'col_two':[[10,40], [20, 50], [30, 60]]})\n",
    "df"
   ]
  },
  {
   "cell_type": "code",
   "execution_count": 89,
   "metadata": {},
   "outputs": [
    {
     "data": {
      "text/html": [
       "<div>\n",
       "<style scoped>\n",
       "    .dataframe tbody tr th:only-of-type {\n",
       "        vertical-align: middle;\n",
       "    }\n",
       "\n",
       "    .dataframe tbody tr th {\n",
       "        vertical-align: top;\n",
       "    }\n",
       "\n",
       "    .dataframe thead th {\n",
       "        text-align: right;\n",
       "    }\n",
       "</style>\n",
       "<table border=\"1\" class=\"dataframe\">\n",
       "  <thead>\n",
       "    <tr style=\"text-align: right;\">\n",
       "      <th></th>\n",
       "      <th>0</th>\n",
       "      <th>1</th>\n",
       "    </tr>\n",
       "  </thead>\n",
       "  <tbody>\n",
       "    <tr>\n",
       "      <th>0</th>\n",
       "      <td>10</td>\n",
       "      <td>40</td>\n",
       "    </tr>\n",
       "    <tr>\n",
       "      <th>1</th>\n",
       "      <td>20</td>\n",
       "      <td>50</td>\n",
       "    </tr>\n",
       "    <tr>\n",
       "      <th>2</th>\n",
       "      <td>30</td>\n",
       "      <td>60</td>\n",
       "    </tr>\n",
       "  </tbody>\n",
       "</table>\n",
       "</div>"
      ],
      "text/plain": [
       "    0   1\n",
       "0  10  40\n",
       "1  20  50\n",
       "2  30  60"
      ]
     },
     "execution_count": 89,
     "metadata": {},
     "output_type": "execute_result"
    }
   ],
   "source": [
    "df_new = df.col_two.apply(pd.Series)\n",
    "df_new"
   ]
  },
  {
   "cell_type": "code",
   "execution_count": 90,
   "metadata": {},
   "outputs": [
    {
     "data": {
      "text/html": [
       "<div>\n",
       "<style scoped>\n",
       "    .dataframe tbody tr th:only-of-type {\n",
       "        vertical-align: middle;\n",
       "    }\n",
       "\n",
       "    .dataframe tbody tr th {\n",
       "        vertical-align: top;\n",
       "    }\n",
       "\n",
       "    .dataframe thead th {\n",
       "        text-align: right;\n",
       "    }\n",
       "</style>\n",
       "<table border=\"1\" class=\"dataframe\">\n",
       "  <thead>\n",
       "    <tr style=\"text-align: right;\">\n",
       "      <th></th>\n",
       "      <th>col_one</th>\n",
       "      <th>col_two</th>\n",
       "      <th>0</th>\n",
       "      <th>1</th>\n",
       "    </tr>\n",
       "  </thead>\n",
       "  <tbody>\n",
       "    <tr>\n",
       "      <th>0</th>\n",
       "      <td>a</td>\n",
       "      <td>[10, 40]</td>\n",
       "      <td>10</td>\n",
       "      <td>40</td>\n",
       "    </tr>\n",
       "    <tr>\n",
       "      <th>1</th>\n",
       "      <td>b</td>\n",
       "      <td>[20, 50]</td>\n",
       "      <td>20</td>\n",
       "      <td>50</td>\n",
       "    </tr>\n",
       "    <tr>\n",
       "      <th>2</th>\n",
       "      <td>c</td>\n",
       "      <td>[30, 60]</td>\n",
       "      <td>30</td>\n",
       "      <td>60</td>\n",
       "    </tr>\n",
       "  </tbody>\n",
       "</table>\n",
       "</div>"
      ],
      "text/plain": [
       "  col_one   col_two   0   1\n",
       "0       a  [10, 40]  10  40\n",
       "1       b  [20, 50]  20  50\n",
       "2       c  [30, 60]  30  60"
      ]
     },
     "execution_count": 90,
     "metadata": {},
     "output_type": "execute_result"
    }
   ],
   "source": [
    "#By using concat function, we can combine the original dataframe with the new dataframe\n",
    "pd.concat([df, df_new], axis='columns')"
   ]
  },
  {
   "cell_type": "markdown",
   "metadata": {},
   "source": [
    "### Aggregate by multiple functions"
   ]
  },
  {
   "cell_type": "code",
   "execution_count": 92,
   "metadata": {},
   "outputs": [],
   "source": [
    "#Dataframe contains orderid, quantiity, itemname, choic_description, item_price\n",
    "# orders.head(10)"
   ]
  },
  {
   "cell_type": "code",
   "execution_count": 93,
   "metadata": {},
   "outputs": [],
   "source": [
    "#summing based on particular item id\n",
    "# orders[orders.order_id == 1].item_price.sum()"
   ]
  },
  {
   "cell_type": "code",
   "execution_count": 94,
   "metadata": {},
   "outputs": [],
   "source": [
    "#Instead, we can do the same for all itemids, using groupby....\n",
    "# orders.groupby('order_id').item_price.sum().head()"
   ]
  },
  {
   "cell_type": "code",
   "execution_count": null,
   "metadata": {},
   "outputs": [],
   "source": [
    "# We can also calculate multiple properties such as sum, count, etc in a single go using agg method\n",
    "# orders.groupby('order_id'.item_price.agg(['sum', 'count']).head()"
   ]
  },
  {
   "cell_type": "markdown",
   "metadata": {},
   "source": [
    "### Combine the output of aggregation with a DataFrame"
   ]
  },
  {
   "cell_type": "code",
   "execution_count": null,
   "metadata": {},
   "outputs": [],
   "source": [
    "#It returns small output size than the input size\n",
    "# orders.groupby('order_id').item_price.sum().head()"
   ]
  },
  {
   "cell_type": "code",
   "execution_count": 96,
   "metadata": {},
   "outputs": [],
   "source": [
    "#If we want to get same size as input size as to add the output as a column in the dataframe, we use transform function\n",
    "# total_price = orders.groupby('order_id').item_price.transform('sum')\n",
    "# orders['total_price'] = total_price"
   ]
  },
  {
   "cell_type": "code",
   "execution_count": 97,
   "metadata": {},
   "outputs": [],
   "source": [
    "#from the above, we can easilt calculate the % of itemprice w.r.t total and add the result into the column\n",
    "# orders['percent_of_total'] = orders.item_price / orders.total_price"
   ]
  },
  {
   "cell_type": "markdown",
   "metadata": {},
   "source": [
    "### Select a slice of rows and columns and get the data summary"
   ]
  },
  {
   "cell_type": "code",
   "execution_count": 98,
   "metadata": {},
   "outputs": [],
   "source": [
    "# titanic.head()"
   ]
  },
  {
   "cell_type": "code",
   "execution_count": 99,
   "metadata": {},
   "outputs": [],
   "source": [
    "# To get some kind of data summary in the form of a dataframe\n",
    "# titanic.describe()_"
   ]
  },
  {
   "cell_type": "code",
   "execution_count": 100,
   "metadata": {},
   "outputs": [],
   "source": [
    "# from this summary, if we wish to get few rows only\n",
    "# titanic.describe().loc['min':'max']"
   ]
  },
  {
   "cell_type": "code",
   "execution_count": 101,
   "metadata": {},
   "outputs": [],
   "source": [
    "# To also select particular columns, we write:\n",
    "# titanic.describe().loc['min':'max', 'Pclass':'Parch']"
   ]
  },
  {
   "cell_type": "markdown",
   "metadata": {},
   "source": [
    "### Reshape a MultiIndexed Series | Groupby"
   ]
  },
  {
   "cell_type": "code",
   "execution_count": 102,
   "metadata": {},
   "outputs": [],
   "source": [
    "#mean of a column called survive\n",
    "# titanic.Survived.mean()"
   ]
  },
  {
   "cell_type": "code",
   "execution_count": 103,
   "metadata": {},
   "outputs": [],
   "source": [
    "#mean of survival for male and female of column 'Sex' \n",
    "# titanic.groupby('Sex').Survived.mean()"
   ]
  },
  {
   "cell_type": "code",
   "execution_count": 104,
   "metadata": {},
   "outputs": [],
   "source": [
    "# Similarly, mean of survival for two columns\n",
    "# titanic.groupby(['Sex', 'Pclass']).Survived.mean()"
   ]
  },
  {
   "cell_type": "code",
   "execution_count": 106,
   "metadata": {},
   "outputs": [],
   "source": [
    "# To store the above type of Series as a Dataframe, we use unstack\n",
    "# titanic.groupby(['Sex', 'Pclass']).Survived.mean().unstack()"
   ]
  },
  {
   "cell_type": "markdown",
   "metadata": {},
   "source": [
    "### Create a pivot table"
   ]
  },
  {
   "cell_type": "code",
   "execution_count": 107,
   "metadata": {},
   "outputs": [],
   "source": [
    "#Kind of custom table of our own wish\n",
    "#  titanic.pivot_table(index='Sex', columns='Pclass', values='Survived', aggfunc='mean')"
   ]
  },
  {
   "cell_type": "code",
   "execution_count": 108,
   "metadata": {},
   "outputs": [],
   "source": [
    "# To make a column and row total using margins=True\n",
    "# titanic.pivot_table(index='Sex', columns='Pclass', values='Survived', aggfunc='mean', margins=True)"
   ]
  },
  {
   "cell_type": "markdown",
   "metadata": {},
   "source": [
    "### Convert continuous data into categorical data"
   ]
  },
  {
   "cell_type": "code",
   "execution_count": 109,
   "metadata": {},
   "outputs": [],
   "source": [
    "#Getting the Age column of the dataframe titanic\n",
    "#titanic.Age.head(10)"
   ]
  },
  {
   "cell_type": "code",
   "execution_count": 110,
   "metadata": {},
   "outputs": [],
   "source": [
    "#Setting the range for a continuous column(i.e. Age) and getting them into the categorical labels\n",
    "# After this, the data type become category\n",
    "# pd.cut(titanic.Age, bins=[0, 18, 25, 99], labels=['child', 'young adult', 'adult']).head(10)"
   ]
  },
  {
   "cell_type": "markdown",
   "metadata": {},
   "source": [
    "### Change display options (say, number of decimal places)"
   ]
  },
  {
   "cell_type": "code",
   "execution_count": 112,
   "metadata": {},
   "outputs": [],
   "source": [
    "#in this example, it will work on float dataset\n",
    "# pd.set_option('display.float_format', '{:.2f}'.format)\n",
    "# titnaic.head()\n",
    "# After this, float columns will have 2 decimal places without affect other columns"
   ]
  },
  {
   "cell_type": "code",
   "execution_count": 113,
   "metadata": {},
   "outputs": [],
   "source": [
    "#To reset the changes made by set_option\n",
    "# pd.reset_option('display.float_format')"
   ]
  },
  {
   "cell_type": "markdown",
   "metadata": {},
   "source": [
    "### Style a DataFrame"
   ]
  },
  {
   "cell_type": "code",
   "execution_count": 115,
   "metadata": {},
   "outputs": [],
   "source": [
    "# stocks\n",
    "# We can change the dateformat\n",
    "# We can add $ symbol infront of Close column's data-values tag\n",
    "# Make big number like 1000000 into readble number string 1000,000"
   ]
  },
  {
   "cell_type": "code",
   "execution_count": 116,
   "metadata": {},
   "outputs": [],
   "source": [
    "#  format_dict = {'Date': '{:%m/%d/%y}', 'Close':'${:,.2f}', 'Volumn':'{:,}'}"
   ]
  },
  {
   "cell_type": "code",
   "execution_count": 117,
   "metadata": {},
   "outputs": [],
   "source": [
    "#We can add more styling\n",
    "#Like: hide the index\n",
    "#Highlight min close value and color it red\n",
    "# Highlight max close value and highlight it with lightgreen"
   ]
  },
  {
   "cell_type": "code",
   "execution_count": null,
   "metadata": {},
   "outputs": [],
   "source": [
    "# Close is the column name\n",
    "# (stocks.style.format(format_dict)\n",
    "# .hide_index()\n",
    "# .highlight_min('Close', color='red')\n",
    "# .highlight_max('Clsoe', color='lightgreen')\n",
    "# )"
   ]
  },
  {
   "cell_type": "code",
   "execution_count": 118,
   "metadata": {},
   "outputs": [],
   "source": [
    "# Another method to identify high and low values\n",
    "# Volume is the column name\n",
    "# (stocks.style.format(format_dict)\n",
    "# .hide_index()\n",
    "# .background_gradient(sunset='Volume', cmap='Blues')\n",
    "# )"
   ]
  },
  {
   "cell_type": "code",
   "execution_count": 119,
   "metadata": {},
   "outputs": [],
   "source": [
    "#shows %occupancy of the of the volumn columns in it's datavalues\n",
    "# Also adds caption to the dataframe\n",
    "# (stocks.style.format(format_dict)\n",
    "# .hide_index()\n",
    "# .bar('Volume', color='lightblue', align='zero')\n",
    "# .set_caption('Stock Prices from October 2016')\n",
    "# )"
   ]
  },
  {
   "cell_type": "markdown",
   "metadata": {},
   "source": [
    "## Profile a Dataframe"
   ]
  },
  {
   "cell_type": "code",
   "execution_count": 122,
   "metadata": {},
   "outputs": [],
   "source": [
    "# import pandas_profiling"
   ]
  },
  {
   "cell_type": "code",
   "execution_count": 123,
   "metadata": {},
   "outputs": [],
   "source": [
    "# We can generate the dataframe's report (here titanic)\n",
    "# pandas_profiling.ProfileReport(titanic)"
   ]
  },
  {
   "cell_type": "code",
   "execution_count": 125,
   "metadata": {},
   "outputs": [],
   "source": [
    "# Outputs the interractive HTML report\n",
    "# 1st section: Overview(like data describe and warnings as well)\n",
    "# 2nd section : Variables (summary of each columns)\n",
    "# 3rd section : Correlatons(heatmap)\n",
    "# 4th section : shows the head of the dataset"
   ]
  },
  {
   "cell_type": "code",
   "execution_count": null,
   "metadata": {},
   "outputs": [],
   "source": []
  }
 ],
 "metadata": {
  "kernelspec": {
   "display_name": "Python 3",
   "language": "python",
   "name": "python3"
  },
  "language_info": {
   "codemirror_mode": {
    "name": "ipython",
    "version": 3
   },
   "file_extension": ".py",
   "mimetype": "text/x-python",
   "name": "python",
   "nbconvert_exporter": "python",
   "pygments_lexer": "ipython3",
   "version": "3.7.0"
  }
 },
 "nbformat": 4,
 "nbformat_minor": 2
}
